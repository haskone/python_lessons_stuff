{
 "cells": [
  {
   "cell_type": "markdown",
   "metadata": {},
   "source": [
    "# Cover"
   ]
  },
  {
   "cell_type": "markdown",
   "metadata": {},
   "source": [
    "- built-in: argparse, datetime/arrow, logging\n",
    "- modules\n",
    "- pytest\n",
    "- git"
   ]
  },
  {
   "cell_type": "markdown",
   "metadata": {},
   "source": [
    "# Task"
   ]
  },
  {
   "cell_type": "code",
   "execution_count": null,
   "metadata": {
    "collapsed": true
   },
   "outputs": [],
   "source": [
    "# Create module \"command_line.py\" and cover it with tests\n",
    "# Run it by\n",
    "python command_line.py\n",
    "\n",
    "# Use pytest, create test module \"test_command_line.py\"\n",
    "# Run it by\n",
    "pytest test_command_line.py\""
   ]
  },
  {
   "cell_type": "code",
   "execution_count": null,
   "metadata": {
    "collapsed": true
   },
   "outputs": [],
   "source": [
    "# implement the following interface:\n",
    "\n",
    "command_line.py --action print_stat # print disk usage info\n",
    "command_line.py --action print_dir --path path/to/dir  # print all files from the specified directory\n",
    "command_line.py --action print_tree --path path/to/dir # print all files + a whole dir tree\n",
    "command_line.py --action print_info # print curr info about the system: platform/machine/etc. Hint: modules: os, platform\n",
    "\n",
    "# each call should be logged to \"log.log\" file.\n",
    "# Each line should contain timestamp/arguments/output"
   ]
  },
  {
   "cell_type": "markdown",
   "metadata": {},
   "source": [
    "# Hints"
   ]
  },
  {
   "cell_type": "markdown",
   "metadata": {},
   "source": [
    "- print argparse error in case of absence a second argument (print_dir/print_tree)\n",
    "- implement command_lime.py as a set of function. Cover all of them by tests\n",
    "- use arrow (or datetime/time) for getting timestamp for logging\n",
    "- create a github account and put your work to there. Try to divide your work by commits with appropriate (understandable) comments "
   ]
  }
 ],
 "metadata": {
  "kernelspec": {
   "display_name": "Python 3",
   "language": "python",
   "name": "python3"
  },
  "language_info": {
   "codemirror_mode": {
    "name": "ipython",
    "version": 3
   },
   "file_extension": ".py",
   "mimetype": "text/x-python",
   "name": "python",
   "nbconvert_exporter": "python",
   "pygments_lexer": "ipython3",
   "version": "3.6.1"
  }
 },
 "nbformat": 4,
 "nbformat_minor": 2
}
