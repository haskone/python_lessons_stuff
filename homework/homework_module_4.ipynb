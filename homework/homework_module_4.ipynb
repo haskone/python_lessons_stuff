{
 "cells": [
  {
   "cell_type": "code",
   "execution_count": null,
   "metadata": {
    "collapsed": true
   },
   "outputs": [],
   "source": [
    "# Implement a function which makes pairwise string comparison,\n",
    "# ignoring case.\n",
    "# Raise ValueError in case of less than 2 arguments.\n",
    "\n",
    "# Hints:\n",
    "# use enumerate or zip() with arg and arg[1:] \n",
    "# zip produces pairs:\n",
    "# >>> list(zip([1,2,3], [3,2,1]))\n",
    "# [(1, 3), (2, 2), (3, 1)]\n",
    "\n",
    "# a = [1,2,3]\n",
    "# a[1:] => [2,3]\n",
    "\n",
    "def str_compare(*arg):\n",
    "    pass\n",
    "\n",
    "assert str_compare(\"ABcd\", \"abcd\", \"AbCD\", \"ABCD\")\n",
    "assert str_compare(\"str\", \"sTr\", \"STR\")\n",
    "assert str_compare(\"zx..QW\", \"zx..QW\", \"zX..qw\")\n",
    "assert not str_compare(\"12345\", \"1234\")\n",
    "assert not str_compare(\"abc\", \"abcc\")\n",
    "assert not str_compare(\"12345\", \"1234\")\n",
    "\n",
    "try:\n",
    "    str_compare(\"1\")\n",
    "except ValueError as er:\n",
    "    assert str(er) == \"provide at least 2 arguments\""
   ]
  },
  {
   "cell_type": "code",
   "execution_count": null,
   "metadata": {
    "collapsed": true
   },
   "outputs": [],
   "source": [
    "# Implement a function which returns the following list:\n",
    "# [0, [1, [2, [3, [4, [5, ...., [N, []]]]]]]]\n",
    "# where N - the specified argument.\n",
    "# Returns \"not int\" if type of N is not int\n",
    "#         \"should be 0 or bigger\" if N less then 0\n",
    "# Hints:\n",
    "# - you can use inner function:\n",
    "#       def fun1():\n",
    "#           def fun2():\n",
    "#               ...\n",
    "#               return 1 + fun2() \n",
    "# - isinstance(some_var, some_type)\n",
    "\n",
    "def deep_list(N):\n",
    "    pass\n",
    "\n",
    "\n",
    "assert [0, [1, [2, [3, [4, [5, [6, [7, [8, [9, [10]]]]]]]]]]] == deep_list(10)\n",
    "assert [0, [1, [2, [3, [4, [5, [6, [7]]]]]]]] == deep_list(7)\n",
    "assert [0] == deep_list(0)\n",
    "assert \"should be 0 or bigger\" == deep_list(-1)\n",
    "assert \"not int\" == deep_list(\"not int, actually\")"
   ]
  },
  {
   "cell_type": "code",
   "execution_count": null,
   "metadata": {
    "collapsed": true
   },
   "outputs": [],
   "source": [
    "# Implement a generator which produces random numbers (randint)\n",
    "# from 0 to MAX_PEAK, count = _SIZE\n",
    "# (increase it, if your computer is too fast).\n",
    "# Compare memory consumption with list implementation (all values)\n",
    "\n",
    "import random\n",
    "_SIZE = int(1e7)\n",
    "MAX_PEAK = 101\n",
    "\n",
    "def get_day_peaks():\n",
    "    pass\n",
    "\n",
    "counter = 0\n",
    "alerts = 0\n",
    "for i in get_day_peaks():\n",
    "    counter += 1\n",
    "    if i > 100:\n",
    "        alerts += 1\n",
    "\n",
    "print(alerts)\n",
    "assert _SIZE == counter"
   ]
  },
  {
   "cell_type": "code",
   "execution_count": null,
   "metadata": {
    "collapsed": true
   },
   "outputs": [],
   "source": [
    "# Implement decorator call_log which prints\n",
    "# function.__name__, and all arguments\n",
    "# before function call.\n",
    "# Each inner function call should be moved by one \"-\" symbol\n",
    "\n",
    "# Example:\n",
    "# fib(5)\n",
    "#  call fib with (5,)\n",
    "# - call fib with (4,)\n",
    "# -- call fib with (3,)\n",
    "# --- call fib with (2,)\n",
    "# ---- call fib with (1,)\n",
    "# ----- call fib with (0,)\n",
    "# ------ call fib with (1,)\n",
    "# ------- call fib with (2,)\n",
    "# -------- call fib with (1,)\n",
    "# --------- call fib with (0,)\n",
    "# ---------- call fib with (3,)\n",
    "# ----------- call fib with (2,)\n",
    "# ------------ call fib with (1,)\n",
    "# ------------- call fib with (0,)\n",
    "# -------------- call fib with (1,)\n",
    "\n",
    "def call_log(func):\n",
    "    pass\n",
    "\n",
    "@call_log\n",
    "def fib(n):\n",
    "    assert n >= 0\n",
    "    if n < 2:\n",
    "        return n\n",
    "    else:\n",
    "        return fib(n-1) + fib(n-2)\n",
    "    \n",
    "fib(5)"
   ]
  }
 ],
 "metadata": {
  "kernelspec": {
   "display_name": "Python 3",
   "language": "python",
   "name": "python3"
  },
  "language_info": {
   "codemirror_mode": {
    "name": "ipython",
    "version": 3
   },
   "file_extension": ".py",
   "mimetype": "text/x-python",
   "name": "python",
   "nbconvert_exporter": "python",
   "pygments_lexer": "ipython3",
   "version": "3.6.2"
  }
 },
 "nbformat": 4,
 "nbformat_minor": 2
}
