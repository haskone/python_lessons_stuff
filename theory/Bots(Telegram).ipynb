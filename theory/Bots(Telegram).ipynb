{
 "cells": [
  {
   "cell_type": "markdown",
   "metadata": {},
   "source": [
    "# Telegram"
   ]
  },
  {
   "cell_type": "code",
   "execution_count": null,
   "metadata": {
    "collapsed": true
   },
   "outputs": [],
   "source": [
    "https://github.com/nickoala/telepot\n",
    "https://github.com/python-telegram-bot/python-telegram-bot\n",
    "https://www.codementor.io/garethdwyer/building-a-telegram-bot-using-python-part-1-goi5fncay"
   ]
  },
  {
   "cell_type": "markdown",
   "metadata": {
    "collapsed": true
   },
   "source": [
    "### Get TOKEN"
   ]
  },
  {
   "cell_type": "markdown",
   "metadata": {},
   "source": [
    "- Use this bot to get the token https://telegram.me/botfather (read https://core.telegram.org/bots before)\n",
    "- Write something to your bot in telegram, then run the example below"
   ]
  },
  {
   "cell_type": "markdown",
   "metadata": {},
   "source": [
    "### Run echo-bot"
   ]
  },
  {
   "cell_type": "code",
   "execution_count": null,
   "metadata": {
    "collapsed": true
   },
   "outputs": [],
   "source": [
    "# Borrowed from https://www.codementor.io/garethdwyer/building-a-telegram-bot-using-python-part-1-goi5fncay\n",
    "\n",
    "import json\n",
    "import requests\n",
    "\n",
    "TOKEN = \"\"\n",
    "URL = \"https://api.telegram.org/bot{}/\".format(TOKEN)\n",
    "\n",
    "\n",
    "def get_url(url):\n",
    "    response = requests.get(url)\n",
    "    content = response.content.decode(\"utf8\")\n",
    "    return content\n",
    "\n",
    "\n",
    "def get_json_from_url(url):\n",
    "    content = get_url(url)\n",
    "    js = json.loads(content)\n",
    "    return js\n",
    "\n",
    "\n",
    "def get_updates():\n",
    "    url = URL + \"getUpdates\"\n",
    "    js = get_json_from_url(url)\n",
    "    return js\n",
    "\n",
    "\n",
    "def get_last_chat_id_and_text(updates):\n",
    "    num_updates = len(updates[\"result\"])\n",
    "    last_update = num_updates - 1\n",
    "    print(updates)\n",
    "    text = updates[\"result\"][last_update][\"message\"][\"text\"]\n",
    "    chat_id = updates[\"result\"][last_update][\"message\"][\"chat\"][\"id\"]\n",
    "    return (text, chat_id)\n",
    "\n",
    "\n",
    "def send_message(text, chat_id):\n",
    "    url = URL + \"sendMessage?text={}&chat_id={}\".format(text, chat_id)\n",
    "    get_url(url)\n",
    "    \n",
    "\n",
    "text, chat = get_last_chat_id_and_text(get_updates())\n",
    "print(text, chat)\n",
    "send_message(text, chat)"
   ]
  },
  {
   "cell_type": "markdown",
   "metadata": {},
   "source": [
    "### Telepot"
   ]
  },
  {
   "cell_type": "markdown",
   "metadata": {},
   "source": [
    "read docs first: http://telepot.readthedocs.io/en/latest/"
   ]
  },
  {
   "cell_type": "code",
   "execution_count": null,
   "metadata": {
    "collapsed": true
   },
   "outputs": [],
   "source": [
    "# Borrowed from http://www.instructables.com/id/Set-up-Telegram-Bot-on-Raspberry-Pi/\n",
    "\n",
    "import time\n",
    "import random\n",
    "import datetime\n",
    "import telepot\n",
    "from telepot.loop import MessageLoop\n",
    "\n",
    "\n",
    "def handle(msg):\n",
    "    chat_id = msg['chat']['id']\n",
    "    command = msg['text']\n",
    "\n",
    "    print('Got command: %s' % command)\n",
    "\n",
    "    if command == '/roll':\n",
    "        bot.sendMessage(chat_id, random.randint(1,6))\n",
    "    elif command == '/time':\n",
    "        bot.sendMessage(chat_id, str(datetime.datetime.now()))\n",
    "\n",
    "        \n",
    "bot = telepot.Bot('put_your_token_here')\n",
    "\n",
    "MessageLoop(bot, handle).run_as_thread()\n",
    "print('I am listening ...')\n",
    "\n",
    "while 1:\n",
    "    time.sleep(10)"
   ]
  },
  {
   "cell_type": "code",
   "execution_count": null,
   "metadata": {
    "collapsed": true
   },
   "outputs": [],
   "source": [
    "# aync verstion, borrowed from http://telepot.readthedocs.io/en/latest/#maintain-threads-of-conversation\n",
    "\n",
    "import sys\n",
    "import asyncio\n",
    "import telepot\n",
    "from telepot.aio.loop import MessageLoop\n",
    "from telepot.aio.delegate import pave_event_space, per_chat_id, create_open\n",
    "\n",
    "\n",
    "class MessageCounter(telepot.aio.helper.ChatHandler):\n",
    "    def __init__(self, *args, **kwargs):\n",
    "        super(MessageCounter, self).__init__(*args, **kwargs)\n",
    "        self._count = 0\n",
    "\n",
    "    async def on_chat_message(self, msg):\n",
    "        self._count += 1\n",
    "        await self.sender.sendMessage(self._count)\n",
    "\n",
    "        \n",
    "TOKEN = 'put_your_token_here'\n",
    "\n",
    "bot = telepot.aio.DelegatorBot(\n",
    "    TOKEN,\n",
    "    [pave_event_space()(per_chat_id(),\n",
    "                        create_open,\n",
    "                        MessageCounter,\n",
    "                        timeout=10),\n",
    "    ])\n",
    "\n",
    "loop = asyncio.get_event_loop()\n",
    "loop.create_task(MessageLoop(bot).run_forever())\n",
    "print('Listening ...')\n",
    "\n",
    "loop.run_forever()"
   ]
  },
  {
   "cell_type": "markdown",
   "metadata": {},
   "source": [
    "### Use python-telegram-bot"
   ]
  },
  {
   "cell_type": "code",
   "execution_count": null,
   "metadata": {
    "collapsed": true
   },
   "outputs": [],
   "source": [
    "# do the same as above with\n",
    "# https://github.com/python-telegram-bot/python-telegram-bot"
   ]
  },
  {
   "cell_type": "markdown",
   "metadata": {},
   "source": [
    "### Tasks"
   ]
  },
  {
   "cell_type": "markdown",
   "metadata": {
    "collapsed": true
   },
   "source": [
    "- post some news from \"https://news.ycombinator.com/\" by request \"/news\"\n",
    "- post current weather (check location) or \"don't know your location\" in case of this option is turned off\n",
    "- save notes by request \"/notes <your notes>\" to db (tinydb) with datetime (\"datetime\", \"text\")\n",
    "- post \"nothing to save\" in case of no symbol after \"/notes \"\n",
    "- post \"saved\" in case of successful saving\n",
    "- post your prev notes: \"/getnotes min/hour/day/week/etc\""
   ]
  },
  {
   "cell_type": "markdown",
   "metadata": {
    "collapsed": true
   },
   "source": [
    "- async bot that post piece of map using google api (get google key first)\n",
    "- scale should be specified like: \"give me map, 1km radius\"\n",
    "- get location by telegram api\n",
    "- use telepot"
   ]
  }
 ],
 "metadata": {
  "kernelspec": {
   "display_name": "Python 3",
   "language": "python",
   "name": "python3"
  },
  "language_info": {
   "codemirror_mode": {
    "name": "ipython",
    "version": 3
   },
   "file_extension": ".py",
   "mimetype": "text/x-python",
   "name": "python",
   "nbconvert_exporter": "python",
   "pygments_lexer": "ipython3",
   "version": "3.6.1"
  }
 },
 "nbformat": 4,
 "nbformat_minor": 2
}
