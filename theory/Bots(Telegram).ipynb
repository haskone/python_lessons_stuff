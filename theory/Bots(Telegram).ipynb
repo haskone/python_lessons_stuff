{
 "cells": [
  {
   "cell_type": "markdown",
   "metadata": {},
   "source": [
    "# Telegram"
   ]
  },
  {
   "cell_type": "code",
   "execution_count": null,
   "metadata": {
    "collapsed": true
   },
   "outputs": [],
   "source": [
    "https://github.com/nickoala/telepot\n",
    "https://github.com/python-telegram-bot/python-telegram-bot\n",
    "https://www.codementor.io/garethdwyer/building-a-telegram-bot-using-python-part-1-goi5fncay"
   ]
  },
  {
   "cell_type": "markdown",
   "metadata": {
    "collapsed": true
   },
   "source": [
    "### Get TOKEN"
   ]
  },
  {
   "cell_type": "markdown",
   "metadata": {},
   "source": [
    "- Use this bot to get the token https://telegram.me/botfather (read https://core.telegram.org/bots before)\n",
    "- Write something to your bot in telegram, then run the example below"
   ]
  },
  {
   "cell_type": "markdown",
   "metadata": {},
   "source": [
    "### Run echo-bot"
   ]
  },
  {
   "cell_type": "code",
   "execution_count": null,
   "metadata": {
    "collapsed": true
   },
   "outputs": [],
   "source": [
    "import json \n",
    "import requests\n",
    "\n",
    "TOKEN = \"put_here_your_token\"\n",
    "URL = \"https://api.telegram.org/bot{}/\".format(TOKEN)\n",
    "\n",
    "\n",
    "def get_url(url):\n",
    "    response = requests.get(url)\n",
    "    content = response.content.decode(\"utf8\")\n",
    "    return content\n",
    "\n",
    "\n",
    "def get_json_from_url(url):\n",
    "    content = get_url(url)\n",
    "    js = json.loads(content)\n",
    "    return js\n",
    "\n",
    "\n",
    "def get_updates():\n",
    "    url = URL + \"getUpdates\"\n",
    "    js = get_json_from_url(url)\n",
    "    return js\n",
    "\n",
    "\n",
    "def get_last_chat_id_and_text(updates):\n",
    "    num_updates = len(updates[\"result\"])\n",
    "    last_update = num_updates - 1\n",
    "    print(updates)\n",
    "    text = updates[\"result\"][last_update][\"message\"][\"text\"]\n",
    "    chat_id = updates[\"result\"][last_update][\"message\"][\"chat\"][\"id\"]\n",
    "    return (text, chat_id)\n",
    "\n",
    "\n",
    "def send_message(text, chat_id):\n",
    "    url = URL + \"sendMessage?text={}&chat_id={}\".format(text, chat_id)\n",
    "    get_url(url)\n",
    "    \n",
    "\n",
    "text, chat = get_last_chat_id_and_text(get_updates())\n",
    "print(text, chat)\n",
    "send_message(text, chat)"
   ]
  },
  {
   "cell_type": "markdown",
   "metadata": {},
   "source": [
    "### Use python-telegram-bot"
   ]
  },
  {
   "cell_type": "code",
   "execution_count": null,
   "metadata": {
    "collapsed": true
   },
   "outputs": [],
   "source": [
    "# do the same as above with\n",
    "# https://github.com/python-telegram-bot/python-telegram-bot"
   ]
  },
  {
   "cell_type": "markdown",
   "metadata": {},
   "source": [
    "### Tasks"
   ]
  },
  {
   "cell_type": "markdown",
   "metadata": {
    "collapsed": true
   },
   "source": [
    "- post some news from \"https://news.ycombinator.com/\" by request \"get me something\"\n",
    "- post current weather (check location) or \"don't not your location\" in case of this option is turned off\n",
    "- save notes by request \"save this: <your notes>\" to db (tinydb) with datetime\n",
    "- post your prev notes: \"notes, for last day(s)/week/etc\"\n",
    "- post one of random phrase in other cases"
   ]
  }
 ],
 "metadata": {
  "kernelspec": {
   "display_name": "Python 3",
   "language": "python",
   "name": "python3"
  },
  "language_info": {
   "codemirror_mode": {
    "name": "ipython",
    "version": 3
   },
   "file_extension": ".py",
   "mimetype": "text/x-python",
   "name": "python",
   "nbconvert_exporter": "python",
   "pygments_lexer": "ipython3",
   "version": "3.6.2"
  }
 },
 "nbformat": 4,
 "nbformat_minor": 2
}
