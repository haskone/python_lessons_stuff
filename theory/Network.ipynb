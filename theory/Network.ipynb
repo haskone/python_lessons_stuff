{
 "cells": [
  {
   "cell_type": "markdown",
   "metadata": {},
   "source": [
    "Modules:\n",
    "- socket: create, bind/listen, accept"
   ]
  },
  {
   "cell_type": "code",
   "execution_count": null,
   "metadata": {
    "collapsed": true
   },
   "outputs": [],
   "source": [
    "udp vs tcp"
   ]
  },
  {
   "cell_type": "code",
   "execution_count": null,
   "metadata": {
    "collapsed": true
   },
   "outputs": [],
   "source": [
    "#create an INET, STREAMing socket\n",
    "s = socket.socket(socket.AF_INET,\n",
    "                  socket.SOCK_STREAM)\n",
    "s.connect((\"www.mcmillan-inc.com\", 80))"
   ]
  },
  {
   "cell_type": "code",
   "execution_count": null,
   "metadata": {
    "collapsed": true
   },
   "outputs": [],
   "source": [
    "serversocket = socket.socket(socket.AF_INET,\n",
    "                             socket.SOCK_STREAM)\n",
    "\n",
    "serversocket.bind((socket.gethostname(), 80))\n",
    "serversocket.listen(5)"
   ]
  },
  {
   "cell_type": "code",
   "execution_count": null,
   "metadata": {
    "collapsed": true
   },
   "outputs": [],
   "source": [
    "while 1:    \n",
    "    (clientsocket, address) = serversocket.accept()\n",
    "    ct = client_thread(clientsocket)\n",
    "    ct.run()"
   ]
  },
  {
   "cell_type": "markdown",
   "metadata": {},
   "source": [
    "# simple server/client"
   ]
  },
  {
   "cell_type": "code",
   "execution_count": null,
   "metadata": {
    "collapsed": true
   },
   "outputs": [],
   "source": [
    "encode/decode - for python3, socket uses bytes instead of str"
   ]
  },
  {
   "cell_type": "markdown",
   "metadata": {},
   "source": [
    "## Tcp"
   ]
  },
  {
   "cell_type": "code",
   "execution_count": null,
   "metadata": {
    "collapsed": true
   },
   "outputs": [],
   "source": [
    "# server, TCP\n",
    "\n",
    "import socket\n",
    "\n",
    "s = socket.socket(socket.AF_INET, socket.SOCK_STREAM)\n",
    "host = socket.gethostname()\n",
    "port = 12345\n",
    "\n",
    "s.bind((host, port))\n",
    "s.listen(5)\n",
    "\n",
    "while True:\n",
    "    c, addr = s.accept()\n",
    "    print('Got connection from', addr)\n",
    "    c.send('Thank you for connecting'.encode())\n",
    "    c.close()"
   ]
  },
  {
   "cell_type": "code",
   "execution_count": null,
   "metadata": {
    "collapsed": true
   },
   "outputs": [],
   "source": [
    "# client, TCP\n",
    "\n",
    "import socket\n",
    "\n",
    "s = socket.socket(socket.AF_INET, socket.SOCK_STREAM)\n",
    "host = socket.gethostname()\n",
    "port = 12345\n",
    "\n",
    "s.connect((host, port))\n",
    "print(s.recv(1024).decode())\n",
    "s.close()"
   ]
  },
  {
   "cell_type": "markdown",
   "metadata": {},
   "source": [
    "## Udp"
   ]
  },
  {
   "cell_type": "code",
   "execution_count": null,
   "metadata": {
    "collapsed": true
   },
   "outputs": [],
   "source": [
    "# send\n",
    "\n",
    "import socket\n",
    "\n",
    "UDP_IP = \"127.0.0.1\"\n",
    "UDP_PORT = 5005\n",
    "MESSAGE = \"Hello, World!\".encode()\n",
    "\n",
    "print(\"UDP target IP:\", UDP_IP)\n",
    "print(\"UDP target port:\", UDP_PORT)\n",
    "print(\"message:\", MESSAGE)\n",
    "\n",
    "sock = socket.socket(socket.AF_INET,\n",
    "                     socket.SOCK_DGRAM)\n",
    "sock.sendto(MESSAGE, (UDP_IP, UDP_PORT))"
   ]
  },
  {
   "cell_type": "code",
   "execution_count": null,
   "metadata": {
    "collapsed": true
   },
   "outputs": [],
   "source": [
    "# receive\n",
    "\n",
    "import socket\n",
    "\n",
    "UDP_IP = \"127.0.0.1\"\n",
    "UDP_PORT = 5005\n",
    "\n",
    "sock = socket.socket(socket.AF_INET, socket.SOCK_DGRAM)\n",
    "sock.bind((UDP_IP, UDP_PORT))\n",
    "\n",
    "while True:\n",
    "    data, addr = sock.recvfrom(1024)\n",
    "    print(\"received message:\", data.decode())"
   ]
  },
  {
   "cell_type": "code",
   "execution_count": null,
   "metadata": {
    "collapsed": true
   },
   "outputs": [],
   "source": [
    "# echo server\n",
    "\n",
    "import socket\n",
    "import sys\n",
    "\n",
    "\n",
    "sock = socket.socket(socket.AF_INET, socket.SOCK_DGRAM)\n",
    "server_address = ('localhost', 10000)\n",
    "\n",
    "print('starting up on {} port {}'.format(*server_address))\n",
    "sock.bind(server_address)\n",
    "\n",
    "while True:\n",
    "    print('\\nwaiting to receive message')\n",
    "    data, address = sock.recvfrom(4096)\n",
    "\n",
    "    print('received {} bytes from {}'.format(len(data), address))\n",
    "    print(data)\n",
    "\n",
    "    if data:\n",
    "        sent = sock.sendto(data, address)\n",
    "        print('sent {} bytes back to {}'.format(sent, address))"
   ]
  },
  {
   "cell_type": "markdown",
   "metadata": {},
   "source": [
    "# Tasks"
   ]
  },
  {
   "cell_type": "markdown",
   "metadata": {},
   "source": [
    "### 1"
   ]
  },
  {
   "cell_type": "markdown",
   "metadata": {},
   "source": [
    "A simple echo server, just return the same value to the client. Implement both tcp and udp"
   ]
  },
  {
   "cell_type": "markdown",
   "metadata": {},
   "source": [
    "### 2"
   ]
  },
  {
   "cell_type": "markdown",
   "metadata": {},
   "source": [
    "- a chain of servers, client -TCP-> server1 -UDP, TEXT-> server2 -UDP, JSON-> server3 -> DB (TinyDB)\n",
    "- push responses back to the client: DB -> server3 -> server2 -> server1 -> client use the same TCP connection\n",
    "- use TinyDB: http://tinydb.readthedocs.io/en/latest/"
   ]
  },
  {
   "cell_type": "markdown",
   "metadata": {},
   "source": [
    "### 3"
   ]
  },
  {
   "cell_type": "markdown",
   "metadata": {},
   "source": [
    "Simulation of redis server: return \"+OK\\r\\n\" or fail in case of the incoming message has wrong format (see REDIS PROTOCOL here: https://redis.io/topics/protocol). Then, use examples from https://pypi.python.org/pypi/redis to check"
   ]
  },
  {
   "cell_type": "markdown",
   "metadata": {},
   "source": [
    "### 4"
   ]
  },
  {
   "cell_type": "markdown",
   "metadata": {},
   "source": [
    "Process requests from the prev example with multiple processes/threads"
   ]
  },
  {
   "cell_type": "markdown",
   "metadata": {},
   "source": [
    "# Links"
   ]
  },
  {
   "cell_type": "markdown",
   "metadata": {},
   "source": [
    "https://www.tutorialspoint.com/python/python_networking.htm\n",
    "    \n",
    "https://docs.python.org/3/howto/sockets.html\n",
    "\n",
    "https://wiki.python.org/moin/UdpCommunication\n",
    "\n",
    "https://pymotw.com/3/socket/udp.html\n",
    "\n",
    "http://asyncio.readthedocs.io/en/latest/tcp_echo.html"
   ]
  }
 ],
 "metadata": {
  "kernelspec": {
   "display_name": "Python 3",
   "language": "python",
   "name": "python3"
  },
  "language_info": {
   "codemirror_mode": {
    "name": "ipython",
    "version": 3
   },
   "file_extension": ".py",
   "mimetype": "text/x-python",
   "name": "python",
   "nbconvert_exporter": "python",
   "pygments_lexer": "ipython3",
   "version": "3.6.1"
  }
 },
 "nbformat": 4,
 "nbformat_minor": 2
}
