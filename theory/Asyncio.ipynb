{
 "cells": [
  {
   "cell_type": "markdown",
   "metadata": {},
   "source": [
    "# Links"
   ]
  },
  {
   "cell_type": "markdown",
   "metadata": {},
   "source": [
    "- https://www.blog.pythonlibrary.org/2016/07/26/python-3-an-intro-to-asyncio/\n",
    "- https://pymotw.com/3/asyncio/index.html\n",
    "- http://telepot.readthedocs.io/en/latest/#async-version-python-3-5\n",
    "- https://redis.io/topics/protocol\n",
    "- https://developers.google.com/custom-search/json-api/v1/overview"
   ]
  },
  {
   "cell_type": "markdown",
   "metadata": {},
   "source": [
    "# Examples"
   ]
  },
  {
   "cell_type": "markdown",
   "metadata": {},
   "source": [
    "### simple"
   ]
  },
  {
   "cell_type": "code",
   "execution_count": null,
   "metadata": {
    "collapsed": true
   },
   "outputs": [],
   "source": [
    "import asyncio\n",
    "\n",
    "\n",
    "async def coroutine():\n",
    "    print('in coroutine')\n",
    "    return 'result'\n",
    "\n",
    "\n",
    "event_loop = asyncio.get_event_loop()\n",
    "try:\n",
    "    return_value = event_loop.run_until_complete(\n",
    "        coroutine()\n",
    "    )\n",
    "    print('it returned: {!r}'.format(return_value))\n",
    "finally:\n",
    "    event_loop.close()"
   ]
  },
  {
   "cell_type": "code",
   "execution_count": 1,
   "metadata": {},
   "outputs": [
    {
     "name": "stdout",
     "output_type": "stream",
     "text": [
      "starting event loop\n",
      "Event handler called 0 time\n",
      "Event handler called 1 time\n",
      "Event handler called 2 time\n",
      "Event handler called 3 time\n",
      "Event handler called 4 time\n",
      "Event handler called 0 time\n",
      "Event handler called 1 time\n",
      "Event handler called 2 time\n",
      "Event handler called 3 time\n",
      "Event handler called 4 time\n",
      "stopping the loop\n",
      "closing event loop\n"
     ]
    }
   ],
   "source": [
    "import asyncio\n",
    "import functools\n",
    " \n",
    " \n",
    "def event_handler(loop, stop=False):\n",
    "    for i in range(5):\n",
    "        print(f'Event handler called {i} time')\n",
    "    if stop:\n",
    "        print('stopping the loop')\n",
    "        loop.stop()\n",
    " \n",
    " \n",
    "loop = asyncio.get_event_loop()\n",
    "try:\n",
    "    loop.call_soon(functools.partial(event_handler, loop))\n",
    "    print('starting event loop')\n",
    "    loop.call_soon(functools.partial(event_handler, loop, stop=True))\n",
    "\n",
    "    loop.run_forever()\n",
    "finally:\n",
    "    print('closing event loop')\n",
    "    loop.close()"
   ]
  },
  {
   "cell_type": "code",
   "execution_count": 1,
   "metadata": {},
   "outputs": [
    {
     "name": "stdout",
     "output_type": "stream",
     "text": [
      "task creation started\n",
      "This task is taking 2 seconds to complete\n",
      "The task's result was: task finished\n"
     ]
    }
   ],
   "source": [
    "import asyncio\n",
    " \n",
    " \n",
    "async def my_task(seconds):\n",
    "    \"\"\"\n",
    "    A task to do for a number of seconds\n",
    "    \"\"\"\n",
    "    print('This task is taking {} seconds to complete'.format(\n",
    "        seconds))\n",
    "    await asyncio.sleep(seconds)\n",
    "    return 'task finished'\n",
    " \n",
    " \n",
    "loop = asyncio.get_event_loop()\n",
    "try:\n",
    "    print('task creation started')\n",
    "    task = loop.create_task(my_task(seconds=2))\n",
    "    loop.run_until_complete(task)\n",
    "finally:\n",
    "    loop.close()\n",
    "\n",
    "print(\"The task's result was: {}\".format(task.result()))"
   ]
  },
  {
   "cell_type": "markdown",
   "metadata": {},
   "source": [
    "### chain"
   ]
  },
  {
   "cell_type": "code",
   "execution_count": null,
   "metadata": {
    "collapsed": true
   },
   "outputs": [],
   "source": [
    "import asyncio\n",
    "\n",
    "\n",
    "async def outer():\n",
    "    print('in outer')\n",
    "    print('waiting for result1')\n",
    "    result1 = await phase1()\n",
    "    print('waiting for result2')\n",
    "    result2 = await phase2(result1)\n",
    "    return (result1, result2)\n",
    "\n",
    "\n",
    "async def phase1():\n",
    "    print('in phase1')\n",
    "    return 'result1'\n",
    "\n",
    "\n",
    "async def phase2(arg):\n",
    "    print('in phase2')\n",
    "    return 'result2 derived from {}'.format(arg)\n",
    "\n",
    "\n",
    "event_loop = asyncio.get_event_loop()\n",
    "try:\n",
    "    return_value = event_loop.run_until_complete(outer())\n",
    "    print('return value: {!r}'.format(return_value))\n",
    "finally:\n",
    "    event_loop.close()"
   ]
  },
  {
   "cell_type": "markdown",
   "metadata": {},
   "source": [
    "### future"
   ]
  },
  {
   "cell_type": "code",
   "execution_count": null,
   "metadata": {
    "collapsed": true
   },
   "outputs": [],
   "source": [
    "import asyncio\n",
    "\n",
    "\n",
    "def mark_done(future, result):\n",
    "    print('setting future result to {!r}'.format(result))\n",
    "    future.set_result(result)\n",
    "\n",
    "\n",
    "event_loop = asyncio.get_event_loop()\n",
    "try:\n",
    "    all_done = asyncio.Future()\n",
    "\n",
    "    print('scheduling mark_done')\n",
    "    event_loop.call_soon(mark_done, all_done, 'the result')\n",
    "\n",
    "    print('entering event loop')\n",
    "    result = event_loop.run_until_complete(all_done)\n",
    "    print('returned result: {!r}'.format(result))\n",
    "finally:\n",
    "    print('closing event loop')\n",
    "    event_loop.close()\n",
    "\n",
    "print('future result: {!r}'.format(all_done.result()))"
   ]
  },
  {
   "cell_type": "code",
   "execution_count": null,
   "metadata": {
    "collapsed": true
   },
   "outputs": [],
   "source": [
    "import asyncio\n",
    "\n",
    "\n",
    "def mark_done(future, result):\n",
    "    print('setting future result to {!r}'.format(result))\n",
    "    future.set_result(result)\n",
    "\n",
    "\n",
    "async def main(loop):\n",
    "    all_done = asyncio.Future()\n",
    "\n",
    "    print('scheduling mark_done')\n",
    "    loop.call_soon(mark_done, all_done, 'the result')\n",
    "\n",
    "    result = await all_done\n",
    "    print('returned result: {!r}'.format(result))\n",
    "\n",
    "\n",
    "event_loop = asyncio.get_event_loop()\n",
    "try:\n",
    "    event_loop.run_until_complete(main(event_loop))\n",
    "finally:\n",
    "    event_loop.close()"
   ]
  },
  {
   "cell_type": "markdown",
   "metadata": {},
   "source": [
    "### concurrently"
   ]
  },
  {
   "cell_type": "code",
   "execution_count": 1,
   "metadata": {},
   "outputs": [
    {
     "name": "stdout",
     "output_type": "stream",
     "text": [
      "creating task\n",
      "waiting for <Task pending coro=<task_func() running at <ipython-input-1-ab2a9d0a5432>:4>>\n",
      "in task_func\n",
      "task completed <Task finished coro=<task_func() done, defined at <ipython-input-1-ab2a9d0a5432>:4> result='the result'>\n",
      "return value: 'the result'\n"
     ]
    }
   ],
   "source": [
    "import asyncio\n",
    "\n",
    "\n",
    "async def task_func():\n",
    "    print('in task_func')\n",
    "    return 'the result'\n",
    "\n",
    "\n",
    "async def main(loop):\n",
    "    print('creating task')\n",
    "    task = loop.create_task(task_func())\n",
    "    print('waiting for {!r}'.format(task))\n",
    "    return_value = await task\n",
    "    print('task completed {!r}'.format(task))\n",
    "    print('return value: {!r}'.format(return_value))\n",
    "\n",
    "\n",
    "event_loop = asyncio.get_event_loop()\n",
    "try:\n",
    "    event_loop.run_until_complete(main(event_loop))\n",
    "finally:\n",
    "    event_loop.close()"
   ]
  },
  {
   "cell_type": "code",
   "execution_count": null,
   "metadata": {
    "collapsed": true
   },
   "outputs": [],
   "source": [
    "import asyncio\n",
    "\n",
    "\n",
    "async def task_func():\n",
    "    print('in task_func')\n",
    "    return 'the result'\n",
    "\n",
    "\n",
    "async def main(loop):\n",
    "    print('creating task')\n",
    "    task = loop.create_task(task_func())\n",
    "\n",
    "    print('canceling task')\n",
    "    task.cancel()\n",
    "\n",
    "    print('canceled task {!r}'.format(task))\n",
    "    try:\n",
    "        await task\n",
    "    except asyncio.CancelledError:\n",
    "        print('caught error from canceled task')\n",
    "    else:\n",
    "        print('task result: {!r}'.format(task.result()))\n",
    "\n",
    "\n",
    "event_loop = asyncio.get_event_loop()\n",
    "try:\n",
    "    event_loop.run_until_complete(main(event_loop))\n",
    "finally:\n",
    "    event_loop.close()"
   ]
  },
  {
   "cell_type": "code",
   "execution_count": 1,
   "metadata": {},
   "outputs": [
    {
     "name": "stdout",
     "output_type": "stream",
     "text": [
      "entering event loop\n",
      "starter: creating task\n",
      "starter: waiting for inner\n",
      "inner: starting\n",
      "inner: waiting for <Task pending coro=<wrapped() running at <ipython-input-1-694564e34419>:4>>\n",
      "wrapped: in\n",
      "inner: task returned 'result'\n",
      "starter: inner returned\n"
     ]
    }
   ],
   "source": [
    "import asyncio\n",
    "\n",
    "\n",
    "async def wrapped():\n",
    "    print('wrapped: in')\n",
    "    return 'result'\n",
    "\n",
    "\n",
    "async def inner(task):\n",
    "    print('inner: starting')\n",
    "    print('inner: waiting for {!r}'.format(task))\n",
    "    result = await task\n",
    "    print('inner: task returned {!r}'.format(result))\n",
    "\n",
    "\n",
    "async def starter():\n",
    "    print('starter: creating task')\n",
    "    task = asyncio.ensure_future(wrapped())\n",
    "    print('starter: waiting for inner')\n",
    "    await inner(task)\n",
    "    print('starter: inner returned')\n",
    "\n",
    "\n",
    "event_loop = asyncio.get_event_loop()\n",
    "try:\n",
    "    print('entering event loop')\n",
    "    result = event_loop.run_until_complete(starter())\n",
    "finally:\n",
    "    event_loop.close()"
   ]
  },
  {
   "cell_type": "code",
   "execution_count": 1,
   "metadata": {},
   "outputs": [
    {
     "name": "stdout",
     "output_type": "stream",
     "text": [
      "starting main\n",
      "waiting 0.1 for phases to complete\n",
      "in phase 0\n",
      "in phase 1\n",
      "in phase 2\n",
      "done with phase 0\n",
      "1 completed and 2 pending\n",
      "canceling tasks\n",
      "exiting main\n",
      "phase 1 canceled\n",
      "phase 2 canceled\n"
     ]
    }
   ],
   "source": [
    "import asyncio\n",
    "\n",
    "\n",
    "async def phase(i):\n",
    "    print('in phase {}'.format(i))\n",
    "    try:\n",
    "        await asyncio.sleep(0.1 * i)\n",
    "    except asyncio.CancelledError:\n",
    "        print('phase {} canceled'.format(i))\n",
    "        raise\n",
    "    else:\n",
    "        print('done with phase {}'.format(i))\n",
    "        return 'phase {} result'.format(i)\n",
    "\n",
    "\n",
    "async def main(num_phases):\n",
    "    print('starting main')\n",
    "    phases = [\n",
    "        phase(i)\n",
    "        for i in range(num_phases)\n",
    "    ]\n",
    "    print('waiting 0.1 for phases to complete')\n",
    "    completed, pending = await asyncio.wait(phases, timeout=0.1)\n",
    "    print('{} completed and {} pending'.format(\n",
    "        len(completed), len(pending),\n",
    "    ))\n",
    "    # Cancel remaining tasks so they do not generate errors\n",
    "    # as we exit without finishing them.\n",
    "    if pending:\n",
    "        print('canceling tasks')\n",
    "        for t in pending:\n",
    "            t.cancel()\n",
    "    print('exiting main')\n",
    "\n",
    "\n",
    "event_loop = asyncio.get_event_loop()\n",
    "try:\n",
    "    event_loop.run_until_complete(main(3))\n",
    "finally:\n",
    "    event_loop.close()"
   ]
  },
  {
   "cell_type": "code",
   "execution_count": 1,
   "metadata": {},
   "outputs": [
    {
     "name": "stdout",
     "output_type": "stream",
     "text": [
      "starting main\n",
      "waiting for phases to complete\n",
      "in phase2.0\n",
      "in phase1.0\n",
      "in phase1.1\n",
      "in phase2.1\n",
      "in phase1.2\n",
      "in phase2.2\n",
      "in phase2.3\n",
      "in phase1.3\n",
      "in phase1.4\n",
      "done with phase1\n",
      "in phase2.4\n",
      "done with phase2\n",
      "results: ['phase1 result', 'phase2 result']\n"
     ]
    }
   ],
   "source": [
    "import asyncio\n",
    "\n",
    "\n",
    "async def phase1():\n",
    "    for i, v in enumerate([1,3,5,2,1]):\n",
    "        print(f'in phase1.{i}')\n",
    "        await asyncio.sleep(v)\n",
    "    print('done with phase1')\n",
    "    return 'phase1 result'\n",
    "\n",
    "\n",
    "async def phase2():\n",
    "    for i, v in enumerate([3,2,1,7,2]):\n",
    "        print(f'in phase2.{i}')\n",
    "        await asyncio.sleep(v)\n",
    "    print('done with phase2')\n",
    "    return 'phase2 result'\n",
    "\n",
    "\n",
    "async def main():\n",
    "    print('starting main')\n",
    "    print('waiting for phases to complete')\n",
    "    results = await asyncio.gather(\n",
    "        phase1(),\n",
    "        phase2(),\n",
    "    )\n",
    "    print('results: {!r}'.format(results))\n",
    "\n",
    "\n",
    "event_loop = asyncio.get_event_loop()\n",
    "try:\n",
    "    event_loop.run_until_complete(main())\n",
    "finally:\n",
    "    event_loop.close()"
   ]
  },
  {
   "cell_type": "code",
   "execution_count": 1,
   "metadata": {},
   "outputs": [
    {
     "name": "stdout",
     "output_type": "stream",
     "text": [
      "starting main\n",
      "waiting for phases to complete\n",
      "in phase 1\n",
      "in phase 0\n",
      "in phase 2\n",
      "done with phase 2\n",
      "received answer 'phase 2 result'\n",
      "done with phase 1\n",
      "received answer 'phase 1 result'\n",
      "done with phase 0\n",
      "received answer 'phase 0 result'\n",
      "results: ['phase 2 result', 'phase 1 result', 'phase 0 result']\n"
     ]
    }
   ],
   "source": [
    "import asyncio\n",
    "\n",
    "\n",
    "async def phase(i):\n",
    "    print('in phase {}'.format(i))\n",
    "    await asyncio.sleep(0.5 - (0.1 * i))\n",
    "    print('done with phase {}'.format(i))\n",
    "    return 'phase {} result'.format(i)\n",
    "\n",
    "\n",
    "async def main(num_phases):\n",
    "    print('starting main')\n",
    "    phases = [\n",
    "        phase(i)\n",
    "        for i in range(num_phases)\n",
    "    ]\n",
    "    print('waiting for phases to complete')\n",
    "    results = []\n",
    "    for next_to_complete in asyncio.as_completed(phases):\n",
    "        answer = await next_to_complete\n",
    "        print('received answer {!r}'.format(answer))\n",
    "        results.append(answer)\n",
    "    print('results: {!r}'.format(results))\n",
    "    return results\n",
    "\n",
    "\n",
    "event_loop = asyncio.get_event_loop()\n",
    "try:\n",
    "    event_loop.run_until_complete(main(3))\n",
    "finally:\n",
    "    event_loop.close()"
   ]
  },
  {
   "cell_type": "markdown",
   "metadata": {},
   "source": [
    "### locks"
   ]
  },
  {
   "cell_type": "code",
   "execution_count": 1,
   "metadata": {},
   "outputs": [
    {
     "name": "stdout",
     "output_type": "stream",
     "text": [
      "acquiring the lock before starting coroutines\n",
      "lock acquired: True\n",
      "waiting for coroutines\n",
      "coro2 waiting for the lock\n",
      "coro1 waiting for the lock\n",
      "callback releasing lock\n",
      "coro2 acquired lock\n",
      "coro2 released lock\n",
      "coro1 acquired lock\n",
      "coro1 released lock\n"
     ]
    }
   ],
   "source": [
    "import asyncio\n",
    "import functools\n",
    "\n",
    "\n",
    "def unlock(lock):\n",
    "    print('callback releasing lock')\n",
    "    lock.release()\n",
    "\n",
    "\n",
    "async def coro1(lock):\n",
    "    print('coro1 waiting for the lock')\n",
    "    with await lock:\n",
    "        print('coro1 acquired lock')\n",
    "    print('coro1 released lock')\n",
    "\n",
    "\n",
    "async def coro2(lock):\n",
    "    print('coro2 waiting for the lock')\n",
    "    await lock\n",
    "    try:\n",
    "        print('coro2 acquired lock')\n",
    "    finally:\n",
    "        print('coro2 released lock')\n",
    "        lock.release()\n",
    "\n",
    "\n",
    "async def main(loop):\n",
    "    # Create and acquire a shared lock.\n",
    "    lock = asyncio.Lock()\n",
    "    print('acquiring the lock before starting coroutines')\n",
    "    await lock.acquire()\n",
    "    print('lock acquired: {}'.format(lock.locked()))\n",
    "\n",
    "    # Schedule a callback to unlock the lock.\n",
    "    loop.call_later(0.1, functools.partial(unlock, lock))\n",
    "\n",
    "    # Run the coroutines that want to use the lock.\n",
    "    print('waiting for coroutines')\n",
    "    await asyncio.wait([coro1(lock), coro2(lock)]),\n",
    "\n",
    "\n",
    "event_loop = asyncio.get_event_loop()\n",
    "try:\n",
    "    event_loop.run_until_complete(main(event_loop))\n",
    "finally:\n",
    "    event_loop.close()"
   ]
  },
  {
   "cell_type": "code",
   "execution_count": null,
   "metadata": {
    "collapsed": true
   },
   "outputs": [],
   "source": [
    "import asyncio\n",
    "import functools\n",
    "\n",
    "\n",
    "def set_event(event):\n",
    "    print('setting event in callback')\n",
    "    event.set()\n",
    "\n",
    "\n",
    "async def coro1(event):\n",
    "    print('coro1 waiting for event')\n",
    "    await event.wait()\n",
    "    print('coro1 triggered')\n",
    "\n",
    "\n",
    "async def coro2(event):\n",
    "    print('coro2 waiting for event')\n",
    "    await event.wait()\n",
    "    print('coro2 triggered')\n",
    "\n",
    "\n",
    "async def main(loop):\n",
    "    # Create a shared event\n",
    "    event = asyncio.Event()\n",
    "    print('event start state: {}'.format(event.is_set()))\n",
    "\n",
    "    loop.call_later(\n",
    "        0.1, functools.partial(set_event, event)\n",
    "    )\n",
    "\n",
    "    await asyncio.wait([coro1(event), coro2(event)])\n",
    "    print('event end state: {}'.format(event.is_set()))\n",
    "\n",
    "\n",
    "event_loop = asyncio.get_event_loop()\n",
    "try:\n",
    "    event_loop.run_until_complete(main(event_loop))\n",
    "finally:\n",
    "    event_loop.close()"
   ]
  },
  {
   "cell_type": "code",
   "execution_count": null,
   "metadata": {
    "collapsed": true
   },
   "outputs": [],
   "source": [
    "import asyncio\n",
    "\n",
    "\n",
    "async def consumer(condition, n):\n",
    "    with await condition:\n",
    "        print('consumer {} is waiting'.format(n))\n",
    "        await condition.wait()\n",
    "        print('consumer {} triggered'.format(n))\n",
    "    print('ending consumer {}'.format(n))\n",
    "\n",
    "\n",
    "async def manipulate_condition(condition):\n",
    "    print('starting manipulate_condition')\n",
    "\n",
    "    # pause to let consumers start\n",
    "    await asyncio.sleep(0.1)\n",
    "\n",
    "    for i in range(1, 3):\n",
    "        with await condition:\n",
    "            print('notifying {} consumers'.format(i))\n",
    "            condition.notify(n=i)\n",
    "        await asyncio.sleep(0.1)\n",
    "\n",
    "    with await condition:\n",
    "        print('notifying remaining consumers')\n",
    "        condition.notify_all()\n",
    "\n",
    "    print('ending manipulate_condition')\n",
    "\n",
    "\n",
    "async def main(loop):\n",
    "    # Create a condition\n",
    "    condition = asyncio.Condition()\n",
    "\n",
    "    # Set up tasks watching the condition\n",
    "    consumers = [\n",
    "        consumer(condition, i)\n",
    "        for i in range(5)\n",
    "    ]\n",
    "\n",
    "    # Schedule a task to manipulate the condition variable\n",
    "    loop.create_task(manipulate_condition(condition))\n",
    "\n",
    "    # Wait for the consumers to be done\n",
    "    await asyncio.wait(consumers)\n",
    "\n",
    "\n",
    "event_loop = asyncio.get_event_loop()\n",
    "try:\n",
    "    result = event_loop.run_until_complete(main(event_loop))\n",
    "finally:\n",
    "    event_loop.close()"
   ]
  },
  {
   "cell_type": "code",
   "execution_count": null,
   "metadata": {
    "collapsed": true
   },
   "outputs": [],
   "source": [
    "import asyncio\n",
    "\n",
    "\n",
    "async def consumer(n, q):\n",
    "    print('consumer {}: starting'.format(n))\n",
    "    while True:\n",
    "        print('consumer {}: waiting for item'.format(n))\n",
    "        item = await q.get()\n",
    "        print('consumer {}: has item {}'.format(n, item))\n",
    "        if item is None:\n",
    "            # None is the signal to stop.\n",
    "            q.task_done()\n",
    "            break\n",
    "        else:\n",
    "            await asyncio.sleep(0.01 * item)\n",
    "            q.task_done()\n",
    "    print('consumer {}: ending'.format(n))\n",
    "\n",
    "\n",
    "async def producer(q, num_workers):\n",
    "    print('producer: starting')\n",
    "    # Add some numbers to the queue to simulate jobs\n",
    "    for i in range(num_workers * 3):\n",
    "        await q.put(i)\n",
    "        print('producer: added task {} to the queue'.format(i))\n",
    "    # Add None entries in the queue\n",
    "    # to signal the consumers to exit\n",
    "    print('producer: adding stop signals to the queue')\n",
    "    for i in range(num_workers):\n",
    "        await q.put(None)\n",
    "    print('producer: waiting for queue to empty')\n",
    "    await q.join()\n",
    "    print('producer: ending')\n",
    "\n",
    "\n",
    "async def main(loop, num_consumers):\n",
    "    # Create the queue with a fixed size so the producer\n",
    "    # will block until the consumers pull some items out.\n",
    "    q = asyncio.Queue(maxsize=num_consumers)\n",
    "\n",
    "    # Scheduled the consumer tasks.\n",
    "    consumers = [\n",
    "        loop.create_task(consumer(i, q))\n",
    "        for i in range(num_consumers)\n",
    "    ]\n",
    "\n",
    "    # Schedule the producer task.\n",
    "    prod = loop.create_task(producer(q, num_consumers))\n",
    "\n",
    "    # Wait for all of the coroutines to finish.\n",
    "    await asyncio.wait(consumers + [prod])\n",
    "\n",
    "\n",
    "event_loop = asyncio.get_event_loop()\n",
    "try:\n",
    "    event_loop.run_until_complete(main(event_loop, 2))\n",
    "finally:\n",
    "    event_loop.close()"
   ]
  },
  {
   "cell_type": "markdown",
   "metadata": {},
   "source": [
    "### aiohttp"
   ]
  },
  {
   "cell_type": "markdown",
   "metadata": {},
   "source": [
    "see https://aiohttp.readthedocs.io/en/stable/"
   ]
  },
  {
   "cell_type": "code",
   "execution_count": null,
   "metadata": {
    "collapsed": true
   },
   "outputs": [],
   "source": [
    "# simple http client\n",
    "# that fetchs python.prg and print it\n",
    "\n",
    "import aiohttp\n",
    "import asyncio\n",
    "import async_timeout\n",
    "\n",
    "async def fetch(session, url):\n",
    "    async with async_timeout.timeout(10):\n",
    "        async with session.get(url) as response:\n",
    "            return await response.text()\n",
    "\n",
    "async def main():\n",
    "    async with aiohttp.ClientSession() as session:\n",
    "        html = await fetch(session, 'http://python.org')\n",
    "        print(html)\n",
    "\n",
    "loop = asyncio.get_event_loop()\n",
    "loop.run_until_complete(main())"
   ]
  },
  {
   "cell_type": "code",
   "execution_count": null,
   "metadata": {
    "collapsed": true
   },
   "outputs": [],
   "source": [
    "# simple http server\n",
    "# that answers with \"Hello, {user}|Anonymous\"\n",
    "\n",
    "from aiohttp import web\n",
    "\n",
    "async def handle(request):\n",
    "    name = request.match_info.get('name', \"Anonymous\")\n",
    "    text = \"Hello, \" + name\n",
    "    return web.Response(text=text)\n",
    "\n",
    "app = web.Application()\n",
    "app.router.add_get('/', handle)\n",
    "app.router.add_get('/{name}', handle)\n",
    "\n",
    "web.run_app(app)"
   ]
  },
  {
   "cell_type": "markdown",
   "metadata": {},
   "source": [
    "# Tasks"
   ]
  },
  {
   "cell_type": "markdown",
   "metadata": {},
   "source": [
    "- run tcp/udp echo clients/servers: see https://docs.python.org/3/library/asyncio-protocol.html\n",
    "- implement the following protocol:\n",
    "  - -> ```<number>```\n",
    "  - <- \"prime\" if the given number is prime\n",
    "  - <- \"not prime\" if not\n",
    "  - <- \"not a number\" if any other case\n",
    "- try with 10 clients and 1 server\n",
    "- implement both for tcp and udp\n",
    "\n",
    "\n",
    "- implement peer-to-peer tcp chat\n",
    "- configure client/server ip/port by json file\n",
    "```json\n",
    "{\n",
    "    \"my\": \"1.1.1.1:0000\",\n",
    "    \"hosts\": [\"0.0.0.0:0000\", \"0.0.0.0:0001\", ... , \"0.0.0.0:0010\"],\n",
    "}\n",
    "```\n",
    "\n",
    "\n",
    "- emulate redis client/server (tcp, see https://redis.io/topics/protocol)\n",
    "\n",
    "\n",
    "- run the example from https://aiohttp.readthedocs.io/en/stable/\n",
    "- download all episodes from https://pythonbytes.fm/episodes/all using aiohttp\n",
    "\n",
    "\n",
    "- telepot (telegram bot), use async example http://telepot.readthedocs.io/en/latest/\n",
    "- add one more feature: download images by using google custom search api (command example \"/images 10 kitty\"). ONLY 100 free requests per day. Try do not test so often"
   ]
  }
 ],
 "metadata": {
  "kernelspec": {
   "display_name": "Python 3",
   "language": "python",
   "name": "python3"
  },
  "language_info": {
   "codemirror_mode": {
    "name": "ipython",
    "version": 3
   },
   "file_extension": ".py",
   "mimetype": "text/x-python",
   "name": "python",
   "nbconvert_exporter": "python",
   "pygments_lexer": "ipython3",
   "version": "3.6.2"
  }
 },
 "nbformat": 4,
 "nbformat_minor": 2
}
