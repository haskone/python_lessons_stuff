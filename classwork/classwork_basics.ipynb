{
 "cells": [
  {
   "cell_type": "markdown",
   "metadata": {},
   "source": [
    "# Intro"
   ]
  },
  {
   "cell_type": "markdown",
   "metadata": {
    "collapsed": true
   },
   "source": [
    "High-level languages VS Low-level languages\n",
    "Interpret VS Compiled\n",
    "Typing: duck, static vs dynamic, weak vs strong, explicit vs implicit\n",
    "python: dynamic (runtime type), strong (only explicit cast), implicit (type of new vars)\n",
    "\n",
    "Python Interpreter\n",
    "Python Virtual Machine, Byte code\n",
    "\n",
    "CPython (most common usage) compiles into bytecode and sends them to a C based virtual machine\n",
    "https://github.com/python/cpython\n",
    "\n",
    "PyPy, Pyston\n",
    "\n",
    "Cython (superset)\n",
    "\n",
    "Jython compiles into java bytecode data\n",
    "\n",
    "IronPython compiles into .net bytecode data"
   ]
  },
  {
   "cell_type": "markdown",
   "metadata": {},
   "source": [
    "### Practicing"
   ]
  },
  {
   "cell_type": "markdown",
   "metadata": {},
   "source": [
    "type, isinstance, cast (use for the following vars)\n",
    "dis module"
   ]
  },
  {
   "cell_type": "markdown",
   "metadata": {},
   "source": [
    "# Core object types & data structure"
   ]
  },
  {
   "cell_type": "code",
   "execution_count": null,
   "metadata": {
    "collapsed": true
   },
   "outputs": [],
   "source": [
    "_int_var = 1\n",
    "int_just_like_long = 1111111111111111111320947892365788364576345675\n",
    "\n",
    "float_var = 1.34565656768\n",
    "bool_var = True\n",
    "__text_var = \"var var\"\n",
    "complex_var = 1 + 4j\n",
    "\n",
    "lst_empty = []\n",
    "lst_some = [1, 2, 3]\n",
    "dict_example = {\"key\": \"value\", \"another_key\": 123, \"list_key\": lst_some}\n",
    "set_example = {1, 2, 3, \"123\"}"
   ]
  },
  {
   "cell_type": "code",
   "execution_count": null,
   "metadata": {},
   "outputs": [],
   "source": [
    "type(int_just_like_long)"
   ]
  },
  {
   "cell_type": "code",
   "execution_count": null,
   "metadata": {},
   "outputs": [],
   "source": [
    "a = 257\n",
    "b = 257\n",
    "\n",
    "print(a is b)\n",
    "print(a == b)"
   ]
  },
  {
   "cell_type": "code",
   "execution_count": null,
   "metadata": {},
   "outputs": [],
   "source": [
    "str1 = \"123\"\n",
    "str2 = \"321\"\n",
    "\n",
    "print(id(str1))\n",
    "print(id(str2))\n",
    "\n",
    "str1 += str2\n",
    "print(id(str1))"
   ]
  },
  {
   "cell_type": "code",
   "execution_count": null,
   "metadata": {},
   "outputs": [],
   "source": [
    "def str_concat():\n",
    "    s = \"\"\n",
    "    for i in range(int(1e6)):\n",
    "        s += str(i)\n",
    "        \n",
    "% timeit str_concat()"
   ]
  },
  {
   "cell_type": "code",
   "execution_count": null,
   "metadata": {},
   "outputs": [],
   "source": [
    "import io\n",
    "\n",
    "def str_stringio():\n",
    "    output = io.StringIO()\n",
    "    for i in range(int(1e6)):\n",
    "        output.write(str(i))\n",
    "        \n",
    "% timeit str_stringio()"
   ]
  },
  {
   "cell_type": "code",
   "execution_count": null,
   "metadata": {},
   "outputs": [],
   "source": [
    "def str_string_conc():\n",
    "    output = \"\"\n",
    "    for i in range(int(1e6)):\n",
    "        output += str(i)\n",
    "        \n",
    "% timeit str_string_conc()"
   ]
  },
  {
   "cell_type": "code",
   "execution_count": null,
   "metadata": {
    "collapsed": true
   },
   "outputs": [],
   "source": [
    "def fun(a):\n",
    "    s = 0\n",
    "    for i in a:\n",
    "        s += i\n",
    "\n",
    "lst = [i for i in range(int(1e6))]\n",
    "tpl = tuple(lst)"
   ]
  },
  {
   "cell_type": "code",
   "execution_count": null,
   "metadata": {},
   "outputs": [],
   "source": [
    "% timeit fun(lst)"
   ]
  },
  {
   "cell_type": "code",
   "execution_count": null,
   "metadata": {},
   "outputs": [],
   "source": [
    "% timeit fun(tpl)"
   ]
  },
  {
   "cell_type": "code",
   "execution_count": null,
   "metadata": {},
   "outputs": [],
   "source": [
    "\"some str %e / %s\" % (123, 2545.0)  # s - string, d - decimal, e - exp, f - float, etc"
   ]
  },
  {
   "cell_type": "code",
   "execution_count": null,
   "metadata": {},
   "outputs": [],
   "source": [
    "\"%64.3f\" % 2324.456546"
   ]
  },
  {
   "cell_type": "code",
   "execution_count": null,
   "metadata": {},
   "outputs": [],
   "source": [
    "\"{0:.3f}\".format(5.34546)"
   ]
  },
  {
   "cell_type": "code",
   "execution_count": null,
   "metadata": {},
   "outputs": [],
   "source": [
    "\"int: {0:d};  hex: {0:x};  oct: {0:#o};  bin: {1:#b}\".format(42, 41)"
   ]
  },
  {
   "cell_type": "code",
   "execution_count": null,
   "metadata": {
    "collapsed": true
   },
   "outputs": [],
   "source": [
    "\"some str {}\".format(123)"
   ]
  },
  {
   "cell_type": "code",
   "execution_count": null,
   "metadata": {},
   "outputs": [],
   "source": [
    "\"some str {one} and {two}\".format(two=123, one=345)"
   ]
  },
  {
   "cell_type": "code",
   "execution_count": null,
   "metadata": {},
   "outputs": [],
   "source": [
    "# try in with https://repl.it/languages/python3\n",
    "\n",
    "f'there is a cool f-string: {[str(i) for i in range(120) if i % 2 == 0]}'"
   ]
  },
  {
   "cell_type": "code",
   "execution_count": null,
   "metadata": {
    "collapsed": true
   },
   "outputs": [],
   "source": [
    "# mutable: list, dict, set, bytearray, user-defined classes (unless specifically made immutable)\n",
    "# immutable: int, float, decimal, complex, bool, string, tuple, range, frozenset, bytes"
   ]
  },
  {
   "cell_type": "code",
   "execution_count": null,
   "metadata": {},
   "outputs": [],
   "source": [
    "from decimal import Decimal\n",
    "\n",
    "d = Decimal(32.123403958)\n",
    "print(type(d), dir(d), d)"
   ]
  },
  {
   "cell_type": "code",
   "execution_count": null,
   "metadata": {},
   "outputs": [],
   "source": [
    "s = {i % 3 for i in range(100)}\n",
    "print(dir(s))\n",
    "\n",
    "s_f = frozenset(s)\n",
    "print(dir(s_f))"
   ]
  },
  {
   "cell_type": "code",
   "execution_count": null,
   "metadata": {},
   "outputs": [],
   "source": [
    "items = [5, 10, 0, 0, 100]\n",
    "b = bytes(items)\n",
    "print(dir(b))"
   ]
  },
  {
   "cell_type": "code",
   "execution_count": null,
   "metadata": {
    "collapsed": true
   },
   "outputs": [],
   "source": [
    "r = range(10, 100, 1)\n",
    "print(dir(r))"
   ]
  },
  {
   "cell_type": "code",
   "execution_count": null,
   "metadata": {},
   "outputs": [],
   "source": [
    "from contextlib import contextmanager\n",
    "\n",
    "@contextmanager\n",
    "def print_extra(s):\n",
    "    print(\"do something on start\")\n",
    "    yield \"<tag> %s </tag>\" % s \n",
    "    print(\"on exit\")\n",
    "    \n",
    "with print_extra(\"some text\") as t:\n",
    "    print(t)"
   ]
  },
  {
   "cell_type": "code",
   "execution_count": null,
   "metadata": {},
   "outputs": [],
   "source": [
    "ls1 = [1, 2, 3]\n",
    "ls2 = ls1\n",
    "\n",
    "ls2[0] = 1242356\n",
    "print(ls2, ls1)"
   ]
  },
  {
   "cell_type": "code",
   "execution_count": null,
   "metadata": {},
   "outputs": [],
   "source": [
    "from copy import copy\n",
    "\n",
    "ls1 = [1, 2, 3]\n",
    "ls2 = ls1[:]\n",
    "\n",
    "ls2[0] = 1242356\n",
    "\n",
    "print(ls1)\n",
    "print(ls2)"
   ]
  },
  {
   "cell_type": "code",
   "execution_count": null,
   "metadata": {},
   "outputs": [],
   "source": [
    "lst1 = ['a','b',['ab','ba']]\n",
    "\n",
    "lst2 = list(lst1)\n",
    "\n",
    "lst2[2][1] = \"21_CHANGED\"\n",
    "lst2[0] = \"0_CHANGED\"\n",
    "\n",
    "print(lst2)\n",
    "print(lst1)"
   ]
  },
  {
   "cell_type": "code",
   "execution_count": null,
   "metadata": {},
   "outputs": [],
   "source": [
    "from copy import deepcopy\n",
    "\n",
    "lst1 = ['a','b',['ab','ba', ['A']]]\n",
    "\n",
    "lst2 = deepcopy(lst1)\n",
    "\n",
    "lst2[2][1] = \"21_CHANGED\"\n",
    "lst2[2][2] = \"sdf\"\n",
    "lst2[0] = \"0_CHANGED\"\n",
    "\n",
    "print(lst2)\n",
    "print(lst1)"
   ]
  },
  {
   "cell_type": "markdown",
   "metadata": {},
   "source": [
    "### 1"
   ]
  },
  {
   "cell_type": "markdown",
   "metadata": {},
   "source": [
    "Print the characters that have even indexes.\n",
    "\n",
    "Input:\n",
    "\n",
    "H1e2l3l4o5w6o7r8l9d\n",
    "\n",
    "Output:\n",
    "\n",
    "Helloworld\n",
    "\n",
    "Hints:\n",
    "slices: lst[from:to:step]"
   ]
  },
  {
   "cell_type": "markdown",
   "metadata": {},
   "source": [
    "### 2"
   ]
  },
  {
   "cell_type": "markdown",
   "metadata": {},
   "source": [
    "Count and print the numbers of each character in a string.\n",
    "\n",
    "Input:\n",
    "\n",
    "abcdefgabc\n",
    "\n",
    "Output:\n",
    "\n",
    "a,2\n",
    "c,2\n",
    "b,2\n",
    "e,1\n",
    "d,1\n",
    "g,1\n",
    "f,1\n",
    "\n",
    "3 possible implementations:\n",
    "- dict.get(<index>, <default_value>)\n",
    "- defaultdict(<default_value_type>), from collections import defaultdict\n",
    "- Counter(<str>), from collections import Counter"
   ]
  },
  {
   "cell_type": "markdown",
   "metadata": {},
   "source": [
    "### 3"
   ]
  },
  {
   "cell_type": "code",
   "execution_count": null,
   "metadata": {
    "collapsed": true
   },
   "outputs": [],
   "source": [
    "from contextlib import contextmanager\n",
    "\n",
    "# TODO: implement the following contextmanager\n",
    "\n",
    ">>> with no_exceptions(ZeroDivisionError):\n",
    "...     1 / 0\n",
    "ignoring exception: integer division or modulo by zero\n",
    ">>>"
   ]
  },
  {
   "cell_type": "markdown",
   "metadata": {},
   "source": [
    "### 4"
   ]
  },
  {
   "cell_type": "code",
   "execution_count": null,
   "metadata": {
    "collapsed": true
   },
   "outputs": [],
   "source": [
    "from contextlib import contextmanager\n",
    "\n",
    "# TODO: implement the following contextmanager\n",
    "\n",
    "def benchmark():\n",
    "    with Timed(\"list comprehension\"):\n",
    "        [str(i) for i in range(100000)]\n",
    "    with Timed(\"map\"):\n",
    "        map(str, range(100000))\n",
    "\n",
    ">>> benchmark()\n",
    "list comprehension took 0.0324079990387\n",
    "map took 0.0171928405762\n",
    "\n",
    "# Hints:\n",
    "import time\n",
    "time.time()"
   ]
  }
 ],
 "metadata": {
  "kernelspec": {
   "display_name": "Python 3",
   "language": "python",
   "name": "python3"
  },
  "language_info": {
   "codemirror_mode": {
    "name": "ipython",
    "version": 3
   },
   "file_extension": ".py",
   "mimetype": "text/x-python",
   "name": "python",
   "nbconvert_exporter": "python",
   "pygments_lexer": "ipython3",
   "version": "3.6.1"
  }
 },
 "nbformat": 4,
 "nbformat_minor": 2
}
