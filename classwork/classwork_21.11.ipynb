{
 "cells": [
  {
   "cell_type": "markdown",
   "metadata": {},
   "source": [
    "# 60"
   ]
  },
  {
   "cell_type": "code",
   "execution_count": 1,
   "metadata": {},
   "outputs": [],
   "source": [
    "import random\n",
    "\n",
    "val = random.randrange(0, 38)"
   ]
  },
  {
   "cell_type": "code",
   "execution_count": 2,
   "metadata": {},
   "outputs": [
    {
     "name": "stdout",
     "output_type": "stream",
     "text": [
      "The spin resulted in 13...\n",
      "Pay 13\n"
     ]
    }
   ],
   "source": [
    "if val == 37:\n",
    "    print(\"The spin resulted in 00...\")\n",
    "    print(\"Pay 00\")\n",
    "else:\n",
    "    print(\"The spin resulted in %s...\" % val)\n",
    "    print(\"Pay %s\" % val)"
   ]
  },
  {
   "cell_type": "code",
   "execution_count": 3,
   "metadata": {},
   "outputs": [
    {
     "name": "stdout",
     "output_type": "stream",
     "text": [
      "Pay Black\n"
     ]
    }
   ],
   "source": [
    "reds = [3, 5, 7, 9,\n",
    "        12, 14, 16, 18,\n",
    "        19, 21, 23, 25, 27,\n",
    "        30, 32, 34, 36]\n",
    "\n",
    "if val in reds:\n",
    "    print(\"Pay Red\")\n",
    "elif val in [0, 37]:\n",
    "    print(\"Pay Green\")\n",
    "else:\n",
    "    print(\"Pay Black\")"
   ]
  },
  {
   "cell_type": "code",
   "execution_count": 5,
   "metadata": {},
   "outputs": [
    {
     "name": "stdout",
     "output_type": "stream",
     "text": [
      "Pay Odd\n",
      "Pay 1 to 18\n"
     ]
    }
   ],
   "source": [
    "if val not in [0, 37]:\n",
    "    if val % 2 == 0:\n",
    "        print(\"Pay Even\")\n",
    "    else:\n",
    "        print(\"Pay Odd\")\n",
    "        \n",
    "    if 1 <= val <= 18:\n",
    "        print(\"Pay 1 to 18\")\n",
    "    else:\n",
    "        print(\"Pay 19 to 36\")"
   ]
  },
  {
   "cell_type": "markdown",
   "metadata": {},
   "source": [
    "# 72"
   ]
  },
  {
   "cell_type": "code",
   "execution_count": 16,
   "metadata": {},
   "outputs": [],
   "source": [
    "st = \"level\""
   ]
  },
  {
   "cell_type": "code",
   "execution_count": 17,
   "metadata": {},
   "outputs": [
    {
     "name": "stdout",
     "output_type": "stream",
     "text": [
      "a pal\n"
     ]
    }
   ],
   "source": [
    "for i, v in enumerate(st[0:len(st)//2]):\n",
    "    if v != st[-1 - i]:      \n",
    "        print(\"not a pal\")\n",
    "        break\n",
    "else:\n",
    "    print(\"a pal\")"
   ]
  },
  {
   "cell_type": "markdown",
   "metadata": {},
   "source": [
    "# 73"
   ]
  },
  {
   "cell_type": "raw",
   "metadata": {},
   "source": [
    "There are numerous phrases that are palindromes when spacing is ignored. Examples\n",
    "include “go dog”, “flee to me remote elf” and “some men interpret nine memos”,\n",
    "among many others. Extend your solution to Exercise 72 so that it ignores spacing\n",
    "while determining whether or not a string is a palindrome. For an additional challenge,\n",
    "extend your solution so that is also ignores punctuation marks and treats uppercase\n",
    "and lowercase letters as equivalent."
   ]
  },
  {
   "cell_type": "code",
   "execution_count": 8,
   "metadata": {},
   "outputs": [],
   "source": [
    "st = \"fLee;to me remotE, Elf.\""
   ]
  },
  {
   "cell_type": "code",
   "execution_count": 9,
   "metadata": {},
   "outputs": [
    {
     "data": {
      "text/plain": [
       "'fleetomeremoteelf'"
      ]
     },
     "execution_count": 9,
     "metadata": {},
     "output_type": "execute_result"
    }
   ],
   "source": [
    "import string\n",
    "\n",
    "st = st.lower()\n",
    "result_st = ''.join([s for s in st if s in string.ascii_letters])"
   ]
  },
  {
   "cell_type": "code",
   "execution_count": 10,
   "metadata": {},
   "outputs": [
    {
     "name": "stdout",
     "output_type": "stream",
     "text": [
      "a pal\n"
     ]
    }
   ],
   "source": [
    "st = result_st\n",
    "for i, v in enumerate(st[0:len(st)//2]):\n",
    "    if v != st[-1 - i]:      \n",
    "        print(\"not a pal\")\n",
    "        break\n",
    "else:\n",
    "    print(\"a pal\")"
   ]
  },
  {
   "cell_type": "markdown",
   "metadata": {},
   "source": [
    "# 69"
   ]
  },
  {
   "cell_type": "code",
   "execution_count": 15,
   "metadata": {},
   "outputs": [
    {
     "name": "stdout",
     "output_type": "stream",
     "text": [
      "3.1666666666666665\n",
      "3.1333333333333333\n",
      "3.145238095238095\n",
      "3.1396825396825396\n",
      "3.1427128427128426\n",
      "3.1408813408813407\n",
      "3.142071817071817\n",
      "3.1412548236077646\n",
      "3.141839618929402\n",
      "3.1414067184965018\n"
     ]
    }
   ],
   "source": [
    "pi = 3\n",
    "approx = 10\n",
    "s = 1\n",
    "for num in range(2, 2 + approx * 2, 2):    \n",
    "    pi += s * (4 / (num * (num + 1) * (num + 2)))\n",
    "    s *= -1\n",
    "    print(pi)"
   ]
  },
  {
   "cell_type": "markdown",
   "metadata": {},
   "source": [
    "# Function"
   ]
  },
  {
   "cell_type": "code",
   "execution_count": 39,
   "metadata": {},
   "outputs": [],
   "source": [
    "ran = 15\n",
    "\n",
    "def fun():\n",
    "    a = 1\n",
    "    def fun_inner():\n",
    "        nonlocal a\n",
    "        a += 1\n",
    "        print(a)\n",
    "    fun_inner()\n",
    "    return [i * 2 for i in range(ran)]\n",
    "    "
   ]
  },
  {
   "cell_type": "code",
   "execution_count": 40,
   "metadata": {},
   "outputs": [
    {
     "name": "stdout",
     "output_type": "stream",
     "text": [
      "2\n"
     ]
    },
    {
     "data": {
      "text/plain": [
       "[0, 2, 4, 6, 8, 10, 12, 14, 16, 18, 20, 22, 24, 26, 28]"
      ]
     },
     "execution_count": 40,
     "metadata": {},
     "output_type": "execute_result"
    }
   ],
   "source": [
    "fun()"
   ]
  },
  {
   "cell_type": "code",
   "execution_count": 41,
   "metadata": {},
   "outputs": [
    {
     "name": "stdout",
     "output_type": "stream",
     "text": [
      "1\n",
      "2\n",
      "3\n",
      "4\n",
      "5\n",
      "6\n",
      "7\n",
      "8\n",
      "9\n",
      "10\n"
     ]
    }
   ],
   "source": [
    "def recurs(a):\n",
    "    print(a)\n",
    "    if a < 10:\n",
    "        recurs(a + 1)\n",
    "        \n",
    "recurs(1)"
   ]
  },
  {
   "cell_type": "code",
   "execution_count": 42,
   "metadata": {},
   "outputs": [
    {
     "data": {
      "text/plain": [
       "[3]"
      ]
     },
     "execution_count": 42,
     "metadata": {},
     "output_type": "execute_result"
    }
   ],
   "source": [
    "list(filter(lambda x: x > 2, [1,2,3]))"
   ]
  },
  {
   "cell_type": "code",
   "execution_count": 51,
   "metadata": {},
   "outputs": [
    {
     "name": "stdout",
     "output_type": "stream",
     "text": [
      "(1, 2, 3) <class 'tuple'>\n"
     ]
    }
   ],
   "source": [
    "func = lambda a,b,c: (a, b, c)\n",
    "res = func(1, 2, 3)\n",
    "print(res, type(res))"
   ]
  },
  {
   "cell_type": "code",
   "execution_count": 56,
   "metadata": {},
   "outputs": [
    {
     "data": {
      "text/plain": [
       "['new val 2', 'new val 4', 'new val 6']"
      ]
     },
     "execution_count": 56,
     "metadata": {},
     "output_type": "execute_result"
    }
   ],
   "source": [
    "list(map(lambda x: 'new val %s' % (x * 2), [1,2,3]))"
   ]
  },
  {
   "cell_type": "code",
   "execution_count": 68,
   "metadata": {},
   "outputs": [],
   "source": [
    "def not_gen():\n",
    "    return 10\n",
    "\n",
    "\n",
    "def gen():\n",
    "    a = 100500\n",
    "    yield a\n",
    "    \n",
    "    b = a - 500\n",
    "    yield b \n",
    "    \n",
    "g = gen()"
   ]
  },
  {
   "cell_type": "code",
   "execution_count": 69,
   "metadata": {},
   "outputs": [
    {
     "data": {
      "text/plain": [
       "100500"
      ]
     },
     "execution_count": 69,
     "metadata": {},
     "output_type": "execute_result"
    }
   ],
   "source": [
    "next(g)"
   ]
  },
  {
   "cell_type": "code",
   "execution_count": 70,
   "metadata": {},
   "outputs": [
    {
     "data": {
      "text/plain": [
       "100000"
      ]
     },
     "execution_count": 70,
     "metadata": {},
     "output_type": "execute_result"
    }
   ],
   "source": [
    "next(g)"
   ]
  },
  {
   "cell_type": "code",
   "execution_count": 71,
   "metadata": {},
   "outputs": [
    {
     "ename": "StopIteration",
     "evalue": "",
     "output_type": "error",
     "traceback": [
      "\u001b[0;31m---------------------------------------------------------------------------\u001b[0m",
      "\u001b[0;31mStopIteration\u001b[0m                             Traceback (most recent call last)",
      "\u001b[0;32m<ipython-input-71-5f315c5de15b>\u001b[0m in \u001b[0;36m<module>\u001b[0;34m()\u001b[0m\n\u001b[0;32m----> 1\u001b[0;31m \u001b[0mnext\u001b[0m\u001b[0;34m(\u001b[0m\u001b[0mg\u001b[0m\u001b[0;34m)\u001b[0m\u001b[0;34m\u001b[0m\u001b[0m\n\u001b[0m",
      "\u001b[0;31mStopIteration\u001b[0m: "
     ]
    }
   ],
   "source": [
    "next(g)"
   ]
  },
  {
   "cell_type": "code",
   "execution_count": 72,
   "metadata": {},
   "outputs": [
    {
     "data": {
      "text/plain": [
       "100500"
      ]
     },
     "execution_count": 72,
     "metadata": {},
     "output_type": "execute_result"
    }
   ],
   "source": [
    "g2 = gen()\n",
    "next(g2)"
   ]
  },
  {
   "cell_type": "code",
   "execution_count": null,
   "metadata": {},
   "outputs": [],
   "source": []
  },
  {
   "cell_type": "code",
   "execution_count": null,
   "metadata": {},
   "outputs": [],
   "source": [
    "def open_file(func):\n",
    "    def wrapper(filename):\n",
    "        f = open(filename, 'w')\n",
    "        func(f)\n",
    "    return wrapper\n",
    "\n",
    "\n",
    "def file_processing(file):\n",
    "    file.write(\"hello\")\n",
    "\n",
    "    \n",
    "@open_file\n",
    "def file_processing_1(file):\n",
    "    file.write(\"hello\")\n",
    "    \n",
    "file_processing(\"filename\")"
   ]
  }
 ],
 "metadata": {
  "kernelspec": {
   "display_name": "Python 3",
   "language": "python",
   "name": "python3"
  },
  "language_info": {
   "codemirror_mode": {
    "name": "ipython",
    "version": 3
   },
   "file_extension": ".py",
   "mimetype": "text/x-python",
   "name": "python",
   "nbconvert_exporter": "python",
   "pygments_lexer": "ipython3",
   "version": "3.6.1"
  }
 },
 "nbformat": 4,
 "nbformat_minor": 2
}
