{
 "cells": [
  {
   "cell_type": "code",
   "execution_count": 16,
   "metadata": {},
   "outputs": [
    {
     "name": "stdout",
     "output_type": "stream",
     "text": [
      "Domain for Ukraine is UA\n",
      "Domain for Russia is RU\n",
      "Domain for USA is US\n",
      "Domain for China is CH\n",
      "Domain for Bel is BL\n",
      "Domain for OneMore is OM\n",
      "The capital of UA is Kiev\n",
      "The capital of RU is Moscow\n",
      "The capital of USA is W\n",
      "The capital of CH is P\n",
      "The capital of BL is B\n",
      "The capital of SecondMore is SM\n"
     ]
    }
   ],
   "source": [
    "d_1 = {\"Ukraine\": \"UA\", \"Russia\": \"RU\", \"USA\": \"US\", \"China\": \"CH\", \"Bel\": \"BL\"}\n",
    "\n",
    "d_2 = {\"UA\": \"Kiev\", \"RU\": \"Moscow\", \"USA\": \"W\", \"CH\": \"P\", \"BL\": \"B\"}\n",
    "\n",
    "d_1[\"OneMore\"] = \"OM\"\n",
    "d_2[\"SecondMore\"] = \"SM\"\n",
    "\n",
    "for k, v in d_1.items():\n",
    "    print(\"Domain for {} is {}\".format(k, v))\n",
    "    \n",
    "for k, v in d_2.items():\n",
    "    print(\"The capital of {} is {}\".format(k, v))\n",
    "    \n",
    "d_1.update(d_2)"
   ]
  },
  {
   "cell_type": "code",
   "execution_count": 19,
   "metadata": {},
   "outputs": [
    {
     "name": "stdout",
     "output_type": "stream",
     "text": [
      "Domain for Ukraine is UA.GOV.COM\n",
      "Domain for Russia is RU.COM.COM\n",
      "Domain for USA is W.COM.GOV\n",
      "Domain for China is CH.COM.GOV\n",
      "Domain for Bel is BL.GOV.COM\n",
      "Domain for OneMore is OM.GOV.COM\n",
      "Domain for UA is Kiev.GOV.GOV\n",
      "Domain for RU is Moscow.COM.COM\n",
      "Domain for CH is P.COM.COM\n",
      "Domain for BL is B.COM.COM\n",
      "Domain for SecondMore is SM.COM.COM\n"
     ]
    }
   ],
   "source": [
    "for_one_str = []\n",
    "for k, v in d_1.items():\n",
    "    for_one_str.append(f\"Domain for {k} is {v}\")\n",
    "print('\\n'.join(for_one_str))"
   ]
  },
  {
   "cell_type": "code",
   "execution_count": 18,
   "metadata": {},
   "outputs": [
    {
     "name": "stdout",
     "output_type": "stream",
     "text": [
      "{'Ukraine': 'UA.GOV.COM', 'Russia': 'RU.COM.COM', 'USA': 'W.COM.GOV', 'China': 'CH.COM.GOV', 'Bel': 'BL.GOV.COM', 'OneMore': 'OM.GOV.COM', 'UA': 'Kiev.GOV.GOV', 'RU': 'Moscow.COM.COM', 'CH': 'P.COM.COM', 'BL': 'B.COM.COM', 'SecondMore': 'SM.COM.COM'}\n"
     ]
    }
   ],
   "source": [
    "import random\n",
    "list_of_choices = [\".COM\", \".GOV\"]\n",
    "\n",
    "for k, v in d_1.items():\n",
    "    d_1[k] = v + random.choice(list_of_choices)\n",
    "print(d_1)"
   ]
  },
  {
   "cell_type": "markdown",
   "metadata": {},
   "source": [
    "## Sets and tuples"
   ]
  },
  {
   "cell_type": "code",
   "execution_count": 29,
   "metadata": {},
   "outputs": [
    {
     "name": "stdout",
     "output_type": "stream",
     "text": [
      "{0, 2, 4, 5, 7, 8, 9, 11, 12, 13, ';', '\\x14', '9', \"'\", '\\x16'}\n",
      "{'-', 0, ')', 3, 5, 6, 4, 9, 11, 12, 13, '\\x1d', 14, \"'\", '%'}\n",
      "\n",
      "\n",
      "\n",
      "{2, 7, 8, ';', '\\x14', '9', '\\x16'}\n",
      "{0, 4, 5, 9, 11, 12, 13, \"'\"}\n",
      "\n",
      "\n",
      "\n",
      "{2, 7, 8, ';', '\\x14', '9', '\\x16'}\n",
      "{0, 4, 5, 9, 11, 12, 13, \"'\"}\n"
     ]
    }
   ],
   "source": [
    "import random\n",
    "\n",
    "set_1 = set([chr(random.randint(1, 100)) for _ in range(5)] +\n",
    "            random.sample(range(15), 10))\n",
    "print(set_1)\n",
    "\n",
    "set_2 = set([chr(random.randint(1, 100)) for _ in range(5)] +\n",
    "            random.sample(range(15), 10))\n",
    "print(set_2)\n",
    "\n",
    "print('\\n\\n')\n",
    "\n",
    "print(set_1.difference(set_2))\n",
    "print(set_1.intersection(set_2))\n",
    "\n",
    "print('\\n\\n')\n",
    "\n",
    "print(set_1 - set_2)\n",
    "print(set_1 & set_2)"
   ]
  },
  {
   "cell_type": "code",
   "execution_count": 30,
   "metadata": {},
   "outputs": [
    {
     "name": "stdout",
     "output_type": "stream",
     "text": [
      "(2, 7, 8, ';', '\\x14', '9', '\\x16') (0, 4, 5, 9, 11, 12, 13, \"'\")\n"
     ]
    }
   ],
   "source": [
    "tpl_1 = tuple(set_1 - set_2)\n",
    "tpl_2 = tuple(set_1 & set_2)\n",
    "\n",
    "print(tpl_1, tpl_2)"
   ]
  },
  {
   "cell_type": "code",
   "execution_count": 31,
   "metadata": {},
   "outputs": [
    {
     "data": {
      "text/plain": [
       "(2, 7, 8)"
      ]
     },
     "execution_count": 31,
     "metadata": {},
     "output_type": "execute_result"
    }
   ],
   "source": [
    "tpl_1[:3]"
   ]
  },
  {
   "cell_type": "code",
   "execution_count": 33,
   "metadata": {},
   "outputs": [
    {
     "name": "stdout",
     "output_type": "stream",
     "text": [
      "0\n",
      "3\n",
      "5\n",
      "6\n",
      "4\n",
      "9\n",
      "11\n",
      "12\n",
      "13\n",
      "14\n",
      "{'-', 0, ')', 3, 5, 6, 4, 9, 11, 12, 13, '\\x1d', 14, \"'\", '%'}\n"
     ]
    }
   ],
   "source": [
    "for item in set_2:\n",
    "    if str(item).isnumeric():\n",
    "        print(item)\n",
    "print(set_2)"
   ]
  },
  {
   "cell_type": "code",
   "execution_count": 41,
   "metadata": {},
   "outputs": [
    {
     "name": "stdout",
     "output_type": "stream",
     "text": [
      "{'-', 0, ')', 3, 5, 6, 4, 9, 11, 12, 13, '\\x1d', 14, \"'\", '%'}\n",
      "[]\n"
     ]
    }
   ],
   "source": [
    "import string\n",
    "\n",
    "set_3 = set(string.digits).intersection(set_2)\n",
    "print(list(set_3))"
   ]
  },
  {
   "cell_type": "code",
   "execution_count": 34,
   "metadata": {},
   "outputs": [
    {
     "data": {
      "text/plain": [
       "('\\x16', '9', '\\x14', ';', 8, 7, 2)"
      ]
     },
     "execution_count": 34,
     "metadata": {},
     "output_type": "execute_result"
    }
   ],
   "source": [
    "tpl_1[::-1]"
   ]
  },
  {
   "cell_type": "code",
   "execution_count": 35,
   "metadata": {},
   "outputs": [
    {
     "name": "stdout",
     "output_type": "stream",
     "text": [
      "[2, 7, 8, ';', '\\x14', '9', '\\x16'] <class 'list'>\n"
     ]
    }
   ],
   "source": [
    "lst_1 = list(tpl_1)\n",
    "lst_2 = list(tpl_2)\n",
    "\n",
    "print(lst_1, type(lst_1))"
   ]
  },
  {
   "cell_type": "markdown",
   "metadata": {},
   "source": [
    "## Files"
   ]
  },
  {
   "cell_type": "code",
   "execution_count": 61,
   "metadata": {},
   "outputs": [
    {
     "data": {
      "text/plain": [
       "17"
      ]
     },
     "execution_count": 61,
     "metadata": {},
     "output_type": "execute_result"
    }
   ],
   "source": [
    "f = open(\"myfile.txt\", \"w\")\n",
    "\n",
    "f.write(\"Hello file world!\")"
   ]
  },
  {
   "cell_type": "code",
   "execution_count": 64,
   "metadata": {},
   "outputs": [
    {
     "name": "stdout",
     "output_type": "stream",
     "text": [
      "Hello my file world!\n",
      "Hello my file world!\n"
     ]
    }
   ],
   "source": [
    "f2 = open(\"myfile.txt\", \"r+\")\n",
    "print(f2.read())\n",
    "\n",
    "f2.seek(6)\n",
    "f2.write('my file world!')\n",
    "\n",
    "f3 = open(\"myfile.txt\", \"r+\")\n",
    "print(f3.read())"
   ]
  },
  {
   "cell_type": "markdown",
   "metadata": {},
   "source": [
    "## Exceptions"
   ]
  },
  {
   "cell_type": "code",
   "execution_count": 84,
   "metadata": {},
   "outputs": [
    {
     "name": "stdout",
     "output_type": "stream",
     "text": [
      "FIN!\n"
     ]
    },
    {
     "ename": "ValueError",
     "evalue": "some str",
     "output_type": "error",
     "traceback": [
      "\u001b[0;31m---------------------------------------------------------------------------\u001b[0m",
      "\u001b[0;31mValueError\u001b[0m                                Traceback (most recent call last)",
      "\u001b[0;32m<ipython-input-84-5b4f27139db6>\u001b[0m in \u001b[0;36m<module>\u001b[0;34m()\u001b[0m\n\u001b[1;32m      3\u001b[0m \u001b[0;32mtry\u001b[0m\u001b[0;34m:\u001b[0m\u001b[0;34m\u001b[0m\u001b[0m\n\u001b[1;32m      4\u001b[0m     \u001b[0;31m# print(d[\"4\"])\u001b[0m\u001b[0;34m\u001b[0m\u001b[0;34m\u001b[0m\u001b[0m\n\u001b[0;32m----> 5\u001b[0;31m     \u001b[0;32mraise\u001b[0m \u001b[0mValueError\u001b[0m\u001b[0;34m(\u001b[0m\u001b[0;34m\"some str\"\u001b[0m\u001b[0;34m)\u001b[0m\u001b[0;34m\u001b[0m\u001b[0m\n\u001b[0m\u001b[1;32m      6\u001b[0m \u001b[0;32mexcept\u001b[0m \u001b[0mKeyError\u001b[0m \u001b[0;32mas\u001b[0m \u001b[0mex\u001b[0m\u001b[0;34m:\u001b[0m\u001b[0;34m\u001b[0m\u001b[0m\n\u001b[1;32m      7\u001b[0m     \u001b[0md\u001b[0m\u001b[0;34m[\u001b[0m\u001b[0;34m\"4\"\u001b[0m\u001b[0;34m]\u001b[0m \u001b[0;34m=\u001b[0m \u001b[0;36m4\u001b[0m\u001b[0;34m\u001b[0m\u001b[0m\n",
      "\u001b[0;31mValueError\u001b[0m: some str"
     ]
    }
   ],
   "source": [
    "\"\"\"\n",
    "THis is module for.\n",
    "\n",
    "dlkgjlkf\n",
    "\"\"\"\n",
    "\n",
    "\n",
    "# 1/0\n",
    "d = {}\n",
    "try:\n",
    "    \n",
    "    # print(d[\"4\"])\n",
    "    raise ValueError(\"some str\")\n",
    "except KeyError as ex: \n",
    "    d[\"4\"] = 4\n",
    "    print(ex, ': KeyError except block')\n",
    "except ZeroDivisionError as ex:\n",
    "    print(ex, ': ZeroDivisionError except block')\n",
    "# except Exception as ex:\n",
    "#     print(ex, ': common except block')\n",
    "else:\n",
    "    print(\"no excs\")\n",
    "finally:\n",
    "    print(\"FIN!\")\n",
    "    \n",
    "print(d)"
   ]
  }
 ],
 "metadata": {
  "kernelspec": {
   "display_name": "Python 3",
   "language": "python",
   "name": "python3"
  },
  "language_info": {
   "codemirror_mode": {
    "name": "ipython",
    "version": 3
   },
   "file_extension": ".py",
   "mimetype": "text/x-python",
   "name": "python",
   "nbconvert_exporter": "python",
   "pygments_lexer": "ipython3",
   "version": "3.6.1"
  }
 },
 "nbformat": 4,
 "nbformat_minor": 2
}
