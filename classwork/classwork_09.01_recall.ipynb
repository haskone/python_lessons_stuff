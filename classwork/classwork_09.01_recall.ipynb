{
 "cells": [
  {
   "cell_type": "markdown",
   "metadata": {},
   "source": [
    "Count and print the numbers of each character in a string.\n",
    "\n",
    "Input:\n",
    "\n",
    "abcdefgabc\n",
    "\n",
    "Output:\n",
    "\n",
    "a,2\n",
    "c,2\n",
    "b,2\n",
    "e,1\n",
    "d,1\n",
    "g,1\n",
    "f,1\n",
    "\n",
    "Hints:\n",
    "- dict.get(<index>, <default_value>)\n",
    "- defaultdict(<default_value_type>), from collections import defaultdict\n",
    "- Counter(<str>), from collections import Counter"
   ]
  },
  {
   "cell_type": "code",
   "execution_count": 18,
   "metadata": {},
   "outputs": [
    {
     "name": "stdout",
     "output_type": "stream",
     "text": [
      "a,1 s,2 d,4 f,3 g,1\n",
      "a,1 s,2 d,4 f,3 g,1\n"
     ]
    }
   ],
   "source": [
    "from collections import defaultdict\n",
    "from collections import Counter\n",
    "\n",
    "def counter_d(s):\n",
    "    \"\"\"\n",
    "    Implement Counter with dict.get method.\n",
    "    \"\"\"\n",
    "    d = {}\n",
    "    for i in s:\n",
    "        d[i] = d.get(i, 0) + 1\n",
    "    return ' '.join([f\"{k},{v}\" for k, v in d.items()])\n",
    "\n",
    "def counter_dd(s):\n",
    "    \"\"\"\n",
    "    Implement Counter with collections.defaultdict class.\n",
    "    \"\"\"\n",
    "    dd = defaultdict(int)\n",
    "    for i in s:\n",
    "        dd[i] += 1\n",
    "    return ' '.join([f\"{k},{v}\" for k, v in dd.items()])\n",
    "\n",
    "def test_counter(func, s):\n",
    "    d = Counter(s)\n",
    "    r = ' '.join([f\"{k},{v}\" for k, v in d.items()])\n",
    "\n",
    "    return func(s) == r\n",
    "\n",
    "assert test_counter(counter_d, \"asdfsdfdgdf\")\n",
    "assert test_counter(counter_dd, \"asdfsdfdgdf\")\n",
    "\n",
    "print(counter_d(\"asdfsdfdgdf\"))\n",
    "print(counter_dd(\"asdfsdfdgdf\"))"
   ]
  },
  {
   "cell_type": "markdown",
   "metadata": {},
   "source": [
    "Suppress exceptions"
   ]
  },
  {
   "cell_type": "code",
   "execution_count": 19,
   "metadata": {},
   "outputs": [
    {
     "name": "stdout",
     "output_type": "stream",
     "text": [
      "ignoring: 'a'\n"
     ]
    }
   ],
   "source": [
    "from contextlib import contextmanager\n",
    "\n",
    "@contextmanager\n",
    "def no_exceptions(*errs):\n",
    "    try:\n",
    "        yield\n",
    "    except errs as e:\n",
    "        print(f\"ignoring: {e}\")\n",
    "\n",
    "with no_exceptions(ZeroDivisionError, KeyError):\n",
    "    # 1 / 0\n",
    "    d = {}\n",
    "    d[\"a\"] += 1"
   ]
  },
  {
   "cell_type": "markdown",
   "metadata": {},
   "source": [
    "Benchmarking with context managers"
   ]
  },
  {
   "cell_type": "code",
   "execution_count": 13,
   "metadata": {
    "collapsed": true
   },
   "outputs": [],
   "source": [
    "import time\n",
    "\n",
    "class Timed:\n",
    "    \n",
    "    def __init__(self, name):\n",
    "        self.name = name\n",
    "        self.t1 = None\n",
    "    \n",
    "    def __enter__(self):\n",
    "        self.t1 = time.time()\n",
    "        return [1,2,3]\n",
    "\n",
    "    def __exit__(self, *args):\n",
    "        print(f\"{self.name} took {time.time() - self.t1}\")"
   ]
  },
  {
   "cell_type": "code",
   "execution_count": 14,
   "metadata": {},
   "outputs": [
    {
     "name": "stdout",
     "output_type": "stream",
     "text": [
      "[1, 2, 3]\n",
      "list comprehension took 2.4901788234710693\n",
      "from Timed: 1515611259.8461847\n",
      "map took 0.0\n"
     ]
    }
   ],
   "source": [
    "def benchmark():\n",
    "    t = Timed(\"list comprehension\")\n",
    "    with t as l:\n",
    "        print(l)\n",
    "        [str(i) for i in range(10000000)]\n",
    "    print(f\"from Timed: {t.t1}\")\n",
    "    \n",
    "    with Timed(\"map\") as l:\n",
    "        map(str, range(10000000))\n",
    "\n",
    "benchmark()"
   ]
  },
  {
   "cell_type": "code",
   "execution_count": 15,
   "metadata": {
    "collapsed": true
   },
   "outputs": [],
   "source": [
    "import time\n",
    "from contextlib import contextmanager\n",
    "\n",
    "@contextmanager\n",
    "def Timed(name):\n",
    "    t1 = time.time()\n",
    "    yield\n",
    "    t2 = time.time()\n",
    "    print(f\"{name} took {t2 - t1}\")"
   ]
  },
  {
   "cell_type": "code",
   "execution_count": 16,
   "metadata": {},
   "outputs": [
    {
     "name": "stdout",
     "output_type": "stream",
     "text": [
      "list comprehension took 2.487147331237793\n",
      "map took 0.0\n"
     ]
    }
   ],
   "source": [
    "def benchmark():\n",
    "    t = Timed(\"list comprehension\")\n",
    "    with t:\n",
    "        [str(i) for i in range(10000000)]\n",
    "    \n",
    "    with Timed(\"map\"):\n",
    "        map(str, range(10000000))\n",
    "\n",
    "benchmark()"
   ]
  },
  {
   "cell_type": "markdown",
   "metadata": {},
   "source": [
    "Logging decorator"
   ]
  },
  {
   "cell_type": "code",
   "execution_count": 1,
   "metadata": {},
   "outputs": [
    {
     "name": "stdout",
     "output_type": "stream",
     "text": [
      "you called func with (4,) and {'c': 1, 'b': 4}\n",
      "it returned 19.1\n"
     ]
    },
    {
     "data": {
      "text/plain": [
       "19.1"
      ]
     },
     "execution_count": 1,
     "metadata": {},
     "output_type": "execute_result"
    }
   ],
   "source": [
    "# Write a decorator which wraps functions to log function\n",
    "# arguments and the return value on each call.\n",
    "# Provide support for both positional and named arguments\n",
    "# (your wrapper function should take both\n",
    "# *args and **kwargs and print them both):\n",
    "\n",
    "def logged_param(p):\n",
    "    def logged(f):\n",
    "        def wrapped_func(*args, **kwargs):        \n",
    "            print(f\"you called {f.__name__} \" +\n",
    "                  f\"with {args} and {kwargs}\")\n",
    "            result = f(*args, **kwargs)\n",
    "            print(f\"it returned {result}\")\n",
    "            return result\n",
    "\n",
    "        return wrapped_func\n",
    "    return logged \n",
    "\n",
    "\n",
    "@logged_param(\"some_arg1\")\n",
    "def func(a, b, c):\n",
    "    return 3 + a * b + c / 10\n",
    "\n",
    "@logged_param(\"some_arg2\")\n",
    "def func2(a, b, c):\n",
    "    return 3 + a * b + c / 10\n",
    "\n",
    "func(4, c=1, b=4)"
   ]
  }
 ],
 "metadata": {
  "kernelspec": {
   "display_name": "Python 3",
   "language": "python",
   "name": "python3"
  },
  "language_info": {
   "codemirror_mode": {
    "name": "ipython",
    "version": 3
   },
   "file_extension": ".py",
   "mimetype": "text/x-python",
   "name": "python",
   "nbconvert_exporter": "python",
   "pygments_lexer": "ipython3",
   "version": "3.6.2"
  }
 },
 "nbformat": 4,
 "nbformat_minor": 2
}
