{
 "cells": [
  {
   "cell_type": "code",
   "execution_count": 4,
   "metadata": {},
   "outputs": [
    {
     "name": "stdout",
     "output_type": "stream",
     "text": [
      "obj: 1\n",
      "obj: 123\n",
      "obj: some str\n",
      "class: some str\n"
     ]
    }
   ],
   "source": [
    "class A:\n",
    "    \n",
    "    some_class_attr = \"some str\"\n",
    "    \n",
    "    def __init__(self):\n",
    "        # do some initialization stuff when (actually, after) object is created\n",
    "        self.some_object_var = 1\n",
    "        \n",
    "    def some_method(self, another_arg):\n",
    "        # access to vars by 'self'\n",
    "        print(f\"obj: {self.some_object_var}\")\n",
    "        print(f\"obj: {another_arg}\")\n",
    "        \n",
    "        # by self it's possible to access even to class attributes\n",
    "        print(f\"obj: {self.some_class_attr}\")\n",
    "        \n",
    "\n",
    "# do not provide any args, because __init__ doesn't have any (first arg - a special one)\n",
    "a = A()\n",
    "\n",
    "# again, ignore first arg (self) in methods, it has special meaning\n",
    "# provide only second\n",
    "a.some_method(123)\n",
    "\n",
    "# can be called even without an object of the class\n",
    "print(f\"class: {A.some_class_attr}\")"
   ]
  },
  {
   "cell_type": "markdown",
   "metadata": {},
   "source": [
    "### Lab tasks"
   ]
  },
  {
   "cell_type": "code",
   "execution_count": 3,
   "metadata": {},
   "outputs": [
    {
     "name": "stdout",
     "output_type": "stream",
     "text": [
      "out of stock\n",
      "1\n"
     ]
    }
   ],
   "source": [
    "class Building:\n",
    "    \n",
    "    def __init__(self, material, color, number=0):\n",
    "        self.material = material\n",
    "        self.color = color\n",
    "        self.number = number\n",
    "        \n",
    "        if number < 0:\n",
    "            print(\"out of stock\")\n",
    "        elif 0 < number < 100:\n",
    "            print(\"warehouse\")\n",
    "        else:\n",
    "            print(\"remote warehouse\")\n",
    "\n",
    "b = Building(1, 1, -123)\n",
    "print(b.color)"
   ]
  },
  {
   "cell_type": "code",
   "execution_count": 10,
   "metadata": {},
   "outputs": [
    {
     "name": "stdout",
     "output_type": "stream",
     "text": [
      "remote warehouse\n",
      "warehouse\n",
      "\n",
      "init:\n",
      "remote warehouse\n",
      "warehouse\n",
      "\n",
      "after:\n",
      "warehouse\n",
      "remote warehouse\n"
     ]
    }
   ],
   "source": [
    "class Building:\n",
    "    \n",
    "    def __init__(self, material, color, number=0):\n",
    "        self.material = material\n",
    "        self.color = color\n",
    "        self.number = number\n",
    "        self.show()\n",
    "        \n",
    "    def plus(self, number):\n",
    "        self.number += number\n",
    "        self.show()\n",
    "        \n",
    "    def minus(self, number):\n",
    "        self.number -= number\n",
    "        self.show()\n",
    "        \n",
    "    def show(self):\n",
    "        if self.number < 0:\n",
    "            print(\"out of stock\")\n",
    "        elif 0 < self.number < 100:\n",
    "            print(\"warehouse\")\n",
    "        else:\n",
    "            print(\"remote warehouse\")\n",
    "            \n",
    "b1 = Building(\"some material 1\", \"some color 1\", 300)\n",
    "b2 = Building(\"some material 2\", \"some color 2\", 20)\n",
    "\n",
    "print(\"\\ninit:\")\n",
    "b1.show()\n",
    "b2.show()\n",
    "\n",
    "print(\"\\nafter:\")\n",
    "b1.minus(210)\n",
    "b2.plus(100)"
   ]
  },
  {
   "cell_type": "code",
   "execution_count": 13,
   "metadata": {},
   "outputs": [
    {
     "name": "stdout",
     "output_type": "stream",
     "text": [
      "remote warehouse\n",
      "warehouse\n",
      "\n",
      "init:\n",
      "remote warehouse\n",
      "warehouse\n",
      "\n",
      "after:\n",
      "warehouse\n",
      "remote warehouse\n"
     ]
    }
   ],
   "source": [
    "class Building:\n",
    "    def __init__(self, material, color, number=0):\n",
    "        self.material = material\n",
    "        self.color = color\n",
    "        self.number = number\n",
    "        self.show()\n",
    "        \n",
    "    def __add__(self, number):\n",
    "        self.number += number\n",
    "        self.show()\n",
    "        \n",
    "    def __sub__(self, number):\n",
    "        self.number -= number\n",
    "        self.show()\n",
    "        \n",
    "    def show(self):\n",
    "        if self.number < 0:\n",
    "            print(\"out of stock\")\n",
    "        elif 0 < self.number < 100:\n",
    "            print(\"warehouse\")\n",
    "        else:\n",
    "            print(\"remote warehouse\")\n",
    "            \n",
    "b1 = Building(\"some material 1\", \"some color 1\", 300)\n",
    "b2 = Building(\"some material 2\", \"some color 2\", 20)\n",
    "\n",
    "print(\"\\ninit:\")\n",
    "b1.show()\n",
    "b2.show()\n",
    "\n",
    "print(\"\\nafter:\")\n",
    "b1 = b1 - 210\n",
    "b2 = b2 + 100"
   ]
  }
 ],
 "metadata": {
  "kernelspec": {
   "display_name": "Python 3",
   "language": "python",
   "name": "python3"
  },
  "language_info": {
   "codemirror_mode": {
    "name": "ipython",
    "version": 3
   },
   "file_extension": ".py",
   "mimetype": "text/x-python",
   "name": "python",
   "nbconvert_exporter": "python",
   "pygments_lexer": "ipython3",
   "version": "3.6.1"
  }
 },
 "nbformat": 4,
 "nbformat_minor": 2
}
