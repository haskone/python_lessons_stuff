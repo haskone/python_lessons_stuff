{
 "cells": [
  {
   "cell_type": "code",
   "execution_count": null,
   "metadata": {},
   "outputs": [],
   "source": [
    "# A function that returns concatenation of arbitrary number of strings\n",
    "\n",
    "def concat(*arg):\n",
    "    st = \"\"\n",
    "    for s in arg:\n",
    "        st += str(s)\n",
    "    return st\n",
    "        \n",
    "assert concat(\"onestr:\", \"twostr\") == \"onestr:twostr\"\n",
    "assert concat(\"a\", \"b\", \"c\", \"d\") == \"abcd\"\n",
    "assert concat(\"a\", 1.3, \"c\", 1, 2, 3) == \"a1.3c123\"\n",
    "assert concat(\"a\") == \"a\""
   ]
  },
  {
   "cell_type": "code",
   "execution_count": null,
   "metadata": {},
   "outputs": [],
   "source": [
    "import io\n",
    "\n",
    "def concat_stringio(*arg):\n",
    "    st = io.StringIO()\n",
    "    for s in arg:\n",
    "        st.write(str(s))\n",
    "    return st.getvalue()"
   ]
  },
  {
   "cell_type": "code",
   "execution_count": null,
   "metadata": {},
   "outputs": [],
   "source": [
    "def concat_arr(*arg):\n",
    "    st = []\n",
    "    for s in arg:\n",
    "        st.append(str(s))\n",
    "    return ''.join(st)"
   ]
  },
  {
   "cell_type": "markdown",
   "metadata": {},
   "source": [
    "# 85"
   ]
  },
  {
   "cell_type": "code",
   "execution_count": null,
   "metadata": {},
   "outputs": [],
   "source": [
    "def to_ordinals(number):\n",
    "    try:\n",
    "        int(number)\n",
    "    except ValueError:\n",
    "        return \"\"\n",
    "    \n",
    "    if number < 1 or number > 11:\n",
    "        return \"\"\n",
    "    \n",
    "    ordinals_map = {1: \"first\",\n",
    "                    2: \"second\",\n",
    "                    4: \"fourth\",\n",
    "                   # and then need to specify all numbers 1-11\n",
    "                   }\n",
    "    \n",
    "    return ordinals_map[number]\n",
    "\n",
    "assert to_ordinals(1) == \"first\"\n",
    "assert to_ordinals(4) == \"fourth\"\n",
    "assert to_ordinals(15) == \"\"\n",
    "assert to_ordinals(-1) == \"\"\n",
    "assert to_ordinals(\"somestr\") == \"\""
   ]
  },
  {
   "cell_type": "markdown",
   "metadata": {},
   "source": [
    "# 87"
   ]
  },
  {
   "cell_type": "code",
   "execution_count": null,
   "metadata": {},
   "outputs": [],
   "source": [
    "def center_str(orig, w):\n",
    "    if len(orig) > w or w <= 0:\n",
    "        return orig\n",
    "    return \" \" * (w - len(orig)) + orig\n",
    "\n",
    "assert center_str(\"abc\", -1) == \"abc\"\n",
    "assert center_str(\"abc\", 5) == \"  abc\"\n",
    "assert center_str(\"some_str\", 10) == \"  some_str\"\n",
    "assert center_str(\"some_log_str\", 3) == \"some_log_str\""
   ]
  },
  {
   "cell_type": "markdown",
   "metadata": {},
   "source": [
    "# 90"
   ]
  },
  {
   "cell_type": "code",
   "execution_count": null,
   "metadata": {},
   "outputs": [],
   "source": [
    "def is_integer_except(int_str):\n",
    "    try:\n",
    "        int(int_str)\n",
    "    except ValueError:\n",
    "        return False\n",
    "    else:\n",
    "        return True"
   ]
  },
  {
   "cell_type": "code",
   "execution_count": null,
   "metadata": {},
   "outputs": [],
   "source": [
    "def is_integer(int_str):\n",
    "    int_str = int_str.strip()  \n",
    "    return (int_str[0] in [\"+\", \"-\"] and int_str[1:].isdigit()) or \\\n",
    "           int_str.isdigit()"
   ]
  },
  {
   "cell_type": "code",
   "execution_count": null,
   "metadata": {},
   "outputs": [],
   "source": [
    "def check_is_int(check_fun):\n",
    "    assert check_fun(\"345\")\n",
    "    assert check_fun(\"+23\")\n",
    "    assert check_fun(\"-231\")\n",
    "    assert not check_fun(\"-23y1\")\n",
    "    assert not check_fun(\"abc\")"
   ]
  },
  {
   "cell_type": "code",
   "execution_count": null,
   "metadata": {},
   "outputs": [],
   "source": [
    "check_is_int(is_integer)\n",
    "check_is_int(is_integer_except)"
   ]
  },
  {
   "cell_type": "markdown",
   "metadata": {},
   "source": [
    "# 96"
   ]
  },
  {
   "cell_type": "code",
   "execution_count": null,
   "metadata": {},
   "outputs": [],
   "source": [
    "# at least:\n",
    "# 8 characters\n",
    "# one upper case\n",
    "# one lower case\n",
    "# one digit\n",
    "def is_good_password(password):\n",
    "    is_8_char = True if len(password) >= 8 else False\n",
    "    is_upper = False\n",
    "    is_lower = False\n",
    "    is_digit = False\n",
    "    \n",
    "    for s in password:\n",
    "        if s.islower():\n",
    "            is_lower = True\n",
    "        elif s.isupper():\n",
    "            is_upper = True\n",
    "        elif s.isdigit():\n",
    "            is_digit = True\n",
    "            \n",
    "    return all([is_8_char, is_upper, is_lower, is_digit])\n",
    "\n",
    "\n",
    "assert is_good_password(\"fi1543fwenufiP\")\n",
    "assert not is_good_password(\"fifwenufiP\")\n",
    "assert not is_good_password(\"fifwenufi\")\n",
    "assert not is_good_password(\"fiF\")\n",
    "assert not is_good_password(\"1fiF\")"
   ]
  },
  {
   "cell_type": "markdown",
   "metadata": {},
   "source": [
    "# 97"
   ]
  },
  {
   "cell_type": "code",
   "execution_count": null,
   "metadata": {},
   "outputs": [],
   "source": [
    "# use 96 for testing\n",
    "from random import randint, sample, shuffle\n",
    "from string import ascii_uppercase, ascii_lowercase\n",
    "\n",
    "\n",
    "def get_new_password():\n",
    "    len_upper = randint(5, 15)\n",
    "    len_lower = randint(5, 15)\n",
    "    len_digit = randint(5, 15)\n",
    "    \n",
    "    password_lst = []\n",
    "    password_lst.extend(sample(ascii_uppercase, len_upper))\n",
    "    password_lst.extend(sample(ascii_lowercase, len_lower))\n",
    "    password_lst.extend(list(map(str, sample(range(100), len_digit))))\n",
    "    \n",
    "    shuffle(password_lst)\n",
    "    return ''.join(password_lst)\n",
    "\n",
    "\n",
    "for _ in range(100):\n",
    "    assert is_good_password(get_new_password())\n",
    "    \n",
    "for _ in range(10):\n",
    "    print(get_new_password())"
   ]
  },
  {
   "cell_type": "raw",
   "metadata": {},
   "source": [
    "Write a program which takes 2 digits, X,Y and generates a 2-dimensional array. The element value in the i-th row and j-th column of the array should be i*j.\n",
    "\n",
    "Note: i=0,1.., X-1; j=0,1,Y-1.\n",
    "\n",
    "Input: 3,5\n",
    "\n",
    "[[0, 0, 0, 0, 0], [0, 1, 2, 3, 4], [0, 2, 4, 6, 8]]\n",
    "\n",
    "Hints: muiltidim list, nested blocks (for/if/etc)"
   ]
  },
  {
   "cell_type": "markdown",
   "metadata": {},
   "source": [
    "# Recursion"
   ]
  },
  {
   "cell_type": "code",
   "execution_count": null,
   "metadata": {},
   "outputs": [],
   "source": [
    "# Returns a sum from 0 to `arg`\n",
    "\n",
    "def custom_sum(arg):\n",
    "    if arg < 0:\n",
    "        raise ValueError(\"Please, provide arg > 0\")\n",
    "\n",
    "    if arg == 0:\n",
    "        return 0\n",
    "    else:\n",
    "        return arg + custom_sum(arg - 1)\n",
    "    \n",
    "custom_sum(17)"
   ]
  },
  {
   "cell_type": "code",
   "execution_count": null,
   "metadata": {},
   "outputs": [],
   "source": [
    "# fibonacci with recursion: 1, 1, 2, 3, 5, 8, ...\n",
    "# fn = fn-1 + fn-2\n",
    "\n",
    "def fib(n):   \n",
    "    if n in [1, 2]:\n",
    "        return 1\n",
    "    return fib(n - 1) + fib(n - 2)\n",
    "\n",
    "fib(10)"
   ]
  },
  {
   "cell_type": "code",
   "execution_count": null,
   "metadata": {},
   "outputs": [],
   "source": [
    "# factorial\n",
    "\n",
    "def fact(n):\n",
    "    if n == 1:\n",
    "        return 1\n",
    "    return n * fact(n - 1)\n",
    "\n",
    "def fact_loop(n):\n",
    "    res = 1\n",
    "    for i in range(1, n + 1):\n",
    "        res *= i\n",
    "    return res\n",
    "\n",
    "print(fact(10))\n",
    "print(fact_loop(10))"
   ]
  },
  {
   "cell_type": "code",
   "execution_count": null,
   "metadata": {},
   "outputs": [],
   "source": [
    "%timeit fact(20)"
   ]
  },
  {
   "cell_type": "code",
   "execution_count": null,
   "metadata": {},
   "outputs": [],
   "source": [
    "%timeit fact_loop(20)"
   ]
  },
  {
   "cell_type": "code",
   "execution_count": null,
   "metadata": {},
   "outputs": [],
   "source": [
    "# Generate all possible permutations of an array using recursion"
   ]
  },
  {
   "cell_type": "code",
   "execution_count": null,
   "metadata": {},
   "outputs": [],
   "source": [
    "# Write a recursive Python function that has a\n",
    "# parameter representing a list of integers and returns the maximum\n",
    "# stored in the list. Thinking recursively, the maximum is either the\n",
    "# first value in the list or the maximum of the rest of the list,\n",
    "# whichever is larger. If the list only has 1 integer, then its maximum\n",
    "# is this single value, naturally. "
   ]
  },
  {
   "cell_type": "markdown",
   "metadata": {},
   "source": [
    "# Generators"
   ]
  },
  {
   "cell_type": "code",
   "execution_count": null,
   "metadata": {},
   "outputs": [],
   "source": [
    "# Implement simple range() as a generator (def it as crange(start, stop))\n",
    "\n",
    "def crange(start, stop):\n",
    "    for i in range(start, stop):\n",
    "        yield i\n",
    "        \n",
    "def crange_while(start, stop):\n",
    "    curr = start\n",
    "    while curr != stop:\n",
    "        yield curr\n",
    "        curr += 1\n",
    "\n",
    "for i in crange(150, 155):\n",
    "    print(i)\n",
    "\n",
    "print(\"manual\")\n",
    "g = crange(150, 155)\n",
    "print(next(g))\n",
    "print(next(g))\n",
    "print(next(g))\n",
    "\n",
    "assert list(crange(5, 7)) == [5, 6]"
   ]
  },
  {
   "cell_type": "code",
   "execution_count": null,
   "metadata": {},
   "outputs": [],
   "source": [
    "# Use generator to print the even numbers between 0 and N.\n",
    "# Provide solutions with \"for\" and \"while\"\n",
    "\n",
    "def get_even(last):\n",
    "    for i in range(last + 1):\n",
    "        if i % 2 == 0:\n",
    "            yield i\n",
    "        \n",
    "def get_even_wh(last):    \n",
    "    curr = 0\n",
    "    while curr != last + 2:\n",
    "        if curr % 2 == 0:\n",
    "            yield curr\n",
    "        curr += 1\n",
    "\n",
    "# Example:\n",
    "for i in get_even(10):\n",
    "    print(i, end=\",\")\n",
    "\n",
    "# Output:\n",
    "# 0,2,4,6,8,10"
   ]
  },
  {
   "cell_type": "code",
   "execution_count": null,
   "metadata": {},
   "outputs": [],
   "source": [
    "# Write a program that takes filename as argument, generates file with\n",
    "# lines 10-100 characters long.\n",
    "# Then it prints all the lines which are longer than 40 characters.\n",
    "\n",
    "def gen_file(filename):    \n",
    "    import random\n",
    "    with open(filename, \"w+\") as f:\n",
    "        for _ in range(100):\n",
    "            line = ''.join([chr(random.randrange(65, 90))\n",
    "                            for _ in range(random.randrange(10, 60))])\n",
    "            f.write(\"%s\\n\" % line)\n",
    "            \n",
    "def read_file(filename):\n",
    "    with open(\"file.txt\", \"r+\") as f:\n",
    "        for line in f:                 \n",
    "            if len(line) > 40:\n",
    "                yield line\n",
    "                print(\"next iter\")\n",
    "\n",
    "gen_file(\"file.txt\")\n",
    "g = read_file(\"file.txt\")\n",
    "\n",
    "print(\"1\", next(g))\n",
    "print(\"#\" * 10)\n",
    "print(\"2\", next(g))\n",
    "print(\"#\" * 10)\n",
    "print(\"3\", next(g))\n",
    "# for line in read_file(\"file.txt\"):    \n",
    "#     print(line)"
   ]
  },
  {
   "cell_type": "code",
   "execution_count": null,
   "metadata": {},
   "outputs": [],
   "source": [
    "# Define a generator which can iterate the numbers,\n",
    "# which are divisible by 7, between a given range 0 and n.\n",
    "\n",
    "def iterate_div_by_7(n):\n",
    "#     for i in range(n):\n",
    "#         if i % 7 == 0 and i > 0:\n",
    "#             yield i\n",
    "    for i in [i for i in range(n) if i % 7 == 0 and i > 0]:\n",
    "        yield i  \n",
    "\n",
    "# Example:\n",
    "\n",
    "for i in iterate_div_by_7(100):\n",
    "    print(i, end=\"\")\n",
    "    \n",
    "# Output:\n",
    "# 7, 14, ..."
   ]
  },
  {
   "cell_type": "code",
   "execution_count": null,
   "metadata": {},
   "outputs": [],
   "source": [
    "for i in (i for i in range(100) if i % 7 == 0 and i > 0):\n",
    "    print(i, end=\"\")"
   ]
  },
  {
   "cell_type": "code",
   "execution_count": null,
   "metadata": {},
   "outputs": [],
   "source": [
    "# Return sequence of numbers 0-9 but start from 1 when 10\n",
    "# will be reached (some kind of infinite loop)"
   ]
  },
  {
   "cell_type": "code",
   "execution_count": null,
   "metadata": {},
   "outputs": [],
   "source": [
    "# Read filename.\n",
    "# Print a new line for each enter key press"
   ]
  },
  {
   "cell_type": "markdown",
   "metadata": {},
   "source": [
    "# Decorators"
   ]
  },
  {
   "cell_type": "markdown",
   "metadata": {},
   "source": [
    "### Idea"
   ]
  },
  {
   "cell_type": "code",
   "execution_count": null,
   "metadata": {},
   "outputs": [],
   "source": [
    "def my_decorator(some_function):\n",
    "\n",
    "    def wrapper(a):\n",
    "        print(\"Something is happening before some_function() is called.\")\n",
    "        print(some_function, a)\n",
    "        res = some_function(a)\n",
    "\n",
    "        print(\"Something is happening after some_function() is called.\")\n",
    "        return res\n",
    "\n",
    "    return wrapper\n",
    "\n",
    "\n",
    "def just_some_function(name):\n",
    "    print(\"Wheee! %s\" % name)\n",
    "    return 1\n",
    "\n",
    "\n",
    "just_some_function_1 = my_decorator(just_some_function)\n",
    "\n",
    "res = just_some_function_1(\"SomeName\")\n",
    "print(res)"
   ]
  },
  {
   "cell_type": "markdown",
   "metadata": {},
   "source": [
    "### Examples"
   ]
  },
  {
   "cell_type": "code",
   "execution_count": null,
   "metadata": {},
   "outputs": [],
   "source": [
    "# simple decorator\n",
    "def p_decorate(func):\n",
    "    def func_wrapper(name):\n",
    "        return \"<p>{0}</p>\".format(func(name))\n",
    "    return func_wrapper\n",
    "\n",
    "@p_decorate\n",
    "def get_text(name):\n",
    "    return \"lorem ipsum, {0} dolor sit amet\".format(name)\n",
    "\n",
    "@p_decorate\n",
    "def get_text2(name):\n",
    "    return \"lorem ipsum, {0}\".format(name)\n",
    "\n",
    "print(get_text(name=\"some name\"))\n",
    "print(get_text(name=\"some name 2\"))"
   ]
  },
  {
   "cell_type": "code",
   "execution_count": null,
   "metadata": {},
   "outputs": [],
   "source": [
    "# decorator with parameters\n",
    "def tags(tag_name):\n",
    "    def tags_decorator(func):\n",
    "        def func_wrapper(name):\n",
    "            \"\"\"\n",
    "            this is func_wr\n",
    "            \"\"\"\n",
    "            return \"<{0}>{1}</{0}>\".format(tag_name, func(name))\n",
    "        return func_wrapper\n",
    "    return tags_decorator\n",
    "\n",
    "@tags(\"p\")\n",
    "def get_text(name):\n",
    "    return \"Hello \" + name\n",
    "\n",
    "get_text(name=\"username\")\n",
    "print(get_text.__name__)\n",
    "print(get_text.__doc__)\n",
    "print(get_text.__module__)"
   ]
  },
  {
   "cell_type": "code",
   "execution_count": null,
   "metadata": {},
   "outputs": [],
   "source": [
    "# wraps\n",
    "from functools import wraps\n",
    "\n",
    "def tags(tag_name):\n",
    "    def tags_decorator(func):\n",
    "        @wraps(func)\n",
    "        def func_wrapper(name):\n",
    "            return \"<{0}>{1}</{0}>\".format(tag_name, func(name))\n",
    "        return func_wrapper\n",
    "    return tags_decorator\n",
    "\n",
    "@tags(\"p\")\n",
    "def get_text(name):\n",
    "    \"\"\"returns some text\"\"\"\n",
    "    return \"Hello \" + name\n",
    "\n",
    "# but without \"wraps\" - decorator info\n",
    "print(get_text.__name__)\n",
    "print(get_text.__doc__)\n",
    "print(get_text.__module__)"
   ]
  },
  {
   "cell_type": "markdown",
   "metadata": {},
   "source": [
    "### Tasks"
   ]
  },
  {
   "cell_type": "code",
   "execution_count": null,
   "metadata": {},
   "outputs": [],
   "source": [
    "# Just prints input args\n",
    "\n",
    "# def tags_decorator(func):\n",
    "#     def func_wrapper(name):\n",
    "#         \"\"\"\n",
    "#         this is func_wr\n",
    "#         \"\"\"\n",
    "#         return \"<{0}>{1}</{0}>\".format(tag_name, func(name))\n",
    "#     return func_wrapper\n",
    "\n",
    "# @tags_decorator\n",
    "# def get_text(name):\n",
    "#     return \"Hello \" + name\n",
    "\n",
    "def print_args(some_fn):\n",
    "    def wr(*args, **kwargs):\n",
    "        print(\"args: %s; kwargs: %s\" % (args, kwargs))\n",
    "        return some_fn(*args, **kwargs)\n",
    "    return wr\n",
    "\n",
    "@print_args\n",
    "def fun(a, b, c):\n",
    "    d = a + b + c\n",
    "    return d\n",
    "\n",
    "@print_args\n",
    "def fun_2(lst):\n",
    "    return lst\n",
    "\n",
    "\n",
    "res = fun(1, b=2, c=3)\n",
    "fun_2(lst=[1,2,3])"
   ]
  },
  {
   "cell_type": "code",
   "execution_count": null,
   "metadata": {},
   "outputs": [],
   "source": [
    "# Write a decorator which wraps functions to log function arguments\n",
    "# and the return value on each call.\n",
    "# Provide support for both positional and\n",
    "# named arguments (your wrapper function should take both\n",
    "# *args and **kwargs and print them both):\n",
    "\n",
    "@logged\n",
    "def func(*args):\n",
    "    return 3 + len(args)\n",
    "\n",
    ">> func(4, 4, 4)\n",
    "\n",
    ">> you called func(4, 4, 4)\n",
    "   it returned 6"
   ]
  },
  {
   "cell_type": "code",
   "execution_count": null,
   "metadata": {},
   "outputs": [],
   "source": [
    "# Chain of wrappers: make_bold/italic/underline\n",
    "# (use <b>some_text</b>, <i>, <u>)"
   ]
  },
  {
   "cell_type": "code",
   "execution_count": null,
   "metadata": {},
   "outputs": [],
   "source": [
    "# Write a decorator to cache function invocation results.\n",
    "# Store pairs arg:result in a dictionary in an\n",
    "# attribute of the function object.\n",
    "# The function being memoized is: fibonacci"
   ]
  },
  {
   "cell_type": "code",
   "execution_count": 2,
   "metadata": {},
   "outputs": [
    {
     "data": {
      "text/plain": [
       "(1, [1, 2, 3])"
      ]
     },
     "execution_count": 2,
     "metadata": {},
     "output_type": "execute_result"
    }
   ],
   "source": [
    "# Implement a parametrized decorator which checks type of arguments\n",
    "\n",
    "def validator(*args):\n",
    "    def val_decorator(func):        \n",
    "        def func_wrapper(*func_args):\n",
    "            for t, v in zip(args, func_args):\n",
    "                if not isinstance(v, t):\n",
    "                    raise ValueError(\n",
    "                        \"Got '%s' but expected '%s'\" % (v, t))\n",
    "                    \n",
    "            return func(*func_args)\n",
    "        return func_wrapper\n",
    "    return val_decorator\n",
    "\n",
    "\n",
    "@validator(int, list)\n",
    "def some_fun(a, b):\n",
    "    return a, b\n",
    "\n",
    "some_fun(1, [1,2,3])  # NOT OK, raise ValueError(\"type error\")"
   ]
  }
 ],
 "metadata": {
  "kernelspec": {
   "display_name": "Python 3",
   "language": "python",
   "name": "python3"
  },
  "language_info": {
   "codemirror_mode": {
    "name": "ipython",
    "version": 3
   },
   "file_extension": ".py",
   "mimetype": "text/x-python",
   "name": "python",
   "nbconvert_exporter": "python",
   "pygments_lexer": "ipython3",
   "version": "3.6.1"
  }
 },
 "nbformat": 4,
 "nbformat_minor": 2
}
