{
 "cells": [
  {
   "cell_type": "code",
   "execution_count": 3,
   "metadata": {
    "collapsed": true
   },
   "outputs": [],
   "source": [
    "# A function that returns concatenation of arbitrary number of strings\n",
    "\n",
    "def concat(*arg):\n",
    "    st = \"\"\n",
    "    for s in arg:\n",
    "        st += str(s)\n",
    "    return st\n",
    "        \n",
    "assert concat(\"onestr:\", \"twostr\") == \"onestr:twostr\"\n",
    "assert concat(\"a\", \"b\", \"c\", \"d\") == \"abcd\"\n",
    "assert concat(\"a\", 1.3, \"c\", 1, 2, 3) == \"a1.3c123\"\n",
    "assert concat(\"a\") == \"a\""
   ]
  },
  {
   "cell_type": "code",
   "execution_count": 2,
   "metadata": {
    "collapsed": true
   },
   "outputs": [],
   "source": [
    "import io\n",
    "\n",
    "def concat_stringio(*arg):\n",
    "    st = io.StringIO()\n",
    "    for s in arg:\n",
    "        st.write(str(s))\n",
    "    return st.getvalue()"
   ]
  },
  {
   "cell_type": "code",
   "execution_count": 9,
   "metadata": {
    "collapsed": true
   },
   "outputs": [],
   "source": [
    "def concat_arr(*arg):\n",
    "    st = []\n",
    "    for s in arg:\n",
    "        st.append(str(s))\n",
    "    return ''.join(st)"
   ]
  },
  {
   "cell_type": "markdown",
   "metadata": {},
   "source": [
    "# 85"
   ]
  },
  {
   "cell_type": "code",
   "execution_count": 11,
   "metadata": {
    "collapsed": true
   },
   "outputs": [],
   "source": [
    "def to_ordinals(number):\n",
    "    try:\n",
    "        int(number)\n",
    "    except ValueError:\n",
    "        return \"\"\n",
    "    \n",
    "    if number < 1 or number > 11:\n",
    "        return \"\"\n",
    "    \n",
    "    ordinals_map = {1: \"first\",\n",
    "                    2: \"second\",\n",
    "                    4: \"fourth\",\n",
    "                   # and then need to specify all numbers 1-11\n",
    "                   }\n",
    "    \n",
    "    return ordinals_map[number]\n",
    "\n",
    "assert to_ordinals(1) == \"first\"\n",
    "assert to_ordinals(4) == \"fourth\"\n",
    "assert to_ordinals(15) == \"\"\n",
    "assert to_ordinals(-1) == \"\"\n",
    "assert to_ordinals(\"somestr\") == \"\""
   ]
  },
  {
   "cell_type": "markdown",
   "metadata": {},
   "source": [
    "# 87"
   ]
  },
  {
   "cell_type": "code",
   "execution_count": 27,
   "metadata": {
    "collapsed": true
   },
   "outputs": [],
   "source": [
    "def center_str(orig, w):\n",
    "    if len(orig) > w or w <= 0:\n",
    "        return orig\n",
    "    return \" \" * (w - len(orig)) + orig\n",
    "\n",
    "assert center_str(\"abc\", -1) == \"abc\"\n",
    "assert center_str(\"abc\", 5) == \"  abc\"\n",
    "assert center_str(\"some_str\", 10) == \"  some_str\"\n",
    "assert center_str(\"some_log_str\", 3) == \"some_log_str\""
   ]
  },
  {
   "cell_type": "markdown",
   "metadata": {},
   "source": [
    "# 90"
   ]
  },
  {
   "cell_type": "code",
   "execution_count": 36,
   "metadata": {
    "collapsed": true
   },
   "outputs": [],
   "source": [
    "def is_integer_except(int_str):\n",
    "    try:\n",
    "        int(int_str)\n",
    "    except ValueError:\n",
    "        return False\n",
    "    else:\n",
    "        return True"
   ]
  },
  {
   "cell_type": "code",
   "execution_count": 37,
   "metadata": {
    "collapsed": true
   },
   "outputs": [],
   "source": [
    "def is_integer(int_str):\n",
    "    int_str = int_str.strip()  \n",
    "    return (int_str[0] in [\"+\", \"-\"] and int_str[1:].isdigit()) or \\\n",
    "           int_str.isdigit()"
   ]
  },
  {
   "cell_type": "code",
   "execution_count": 38,
   "metadata": {
    "collapsed": true
   },
   "outputs": [],
   "source": [
    "def check_is_int(check_fun):\n",
    "    assert check_fun(\"345\")\n",
    "    assert check_fun(\"+23\")\n",
    "    assert check_fun(\"-231\")\n",
    "    assert not check_fun(\"-23y1\")\n",
    "    assert not check_fun(\"abc\")"
   ]
  },
  {
   "cell_type": "code",
   "execution_count": 39,
   "metadata": {
    "collapsed": true
   },
   "outputs": [],
   "source": [
    "check_is_int(is_integer)\n",
    "check_is_int(is_integer_except)"
   ]
  },
  {
   "cell_type": "markdown",
   "metadata": {},
   "source": [
    "# 96"
   ]
  },
  {
   "cell_type": "code",
   "execution_count": 44,
   "metadata": {
    "collapsed": true
   },
   "outputs": [],
   "source": [
    "# at least:\n",
    "# 8 characters\n",
    "# one upper case\n",
    "# one lower case\n",
    "# one digit\n",
    "def is_good_password(password):\n",
    "    is_8_char = True if len(password) >= 8 else False\n",
    "    is_upper = False\n",
    "    is_lower = False\n",
    "    is_digit = False\n",
    "    \n",
    "    for s in password:\n",
    "        if s.islower():\n",
    "            is_lower = True\n",
    "        elif s.isupper():\n",
    "            is_upper = True\n",
    "        elif s.isdigit():\n",
    "            is_digit = True\n",
    "            \n",
    "    return all([is_8_char, is_upper, is_lower, is_digit])\n",
    "\n",
    "\n",
    "assert is_good_password(\"fi1543fwenufiP\")\n",
    "assert not is_good_password(\"fifwenufiP\")\n",
    "assert not is_good_password(\"fifwenufi\")\n",
    "assert not is_good_password(\"fiF\")\n",
    "assert not is_good_password(\"1fiF\")"
   ]
  },
  {
   "cell_type": "markdown",
   "metadata": {},
   "source": [
    "# 97"
   ]
  },
  {
   "cell_type": "code",
   "execution_count": 49,
   "metadata": {},
   "outputs": [
    {
     "name": "stdout",
     "output_type": "stream",
     "text": [
      "V28436pCkP22zQT13OvYRm2338UJ9460AS5997IW89l2486E\n",
      "255783SIW6948G0P62EBy17d46nOHf9399495Lge\n",
      "rlDfMS96Cg24hx725463z25Y99X46d2390mFIp21nT45Zy14oP\n",
      "jul36ndE1654U19fkAtW31hTaeJ5177Krg\n",
      "P3929Q56q71sG15Inm66gwohj77DMx45HSl9E17T21kW24X34uN41OpUy\n",
      "Uzco962084Cj81t70143iWre23QY9467KMEp54\n",
      "EMdap25NuJ77q8o56gf94FUTkc98Cj8361Iv6391G24Ry69\n",
      "47C2772NJB30VZWwlfnASm55H2883M3664rbI\n",
      "41FO55jWK9829V97XMr14Ll60GPfD36p1256I95\n",
      "h57l8037P97s35aqX25ijd21fE14mL9684zygTwv13\n"
     ]
    }
   ],
   "source": [
    "# use 96 for testing\n",
    "from random import randint, sample, shuffle\n",
    "from string import ascii_uppercase, ascii_lowercase\n",
    "\n",
    "\n",
    "def get_new_password():\n",
    "    len_upper = randint(5, 15)\n",
    "    len_lower = randint(5, 15)\n",
    "    len_digit = randint(5, 15)\n",
    "    \n",
    "    password_lst = []\n",
    "    password_lst.extend(sample(ascii_uppercase, len_upper))\n",
    "    password_lst.extend(sample(ascii_lowercase, len_lower))\n",
    "    password_lst.extend(list(map(str, sample(range(100), len_digit))))\n",
    "    \n",
    "    shuffle(password_lst)\n",
    "    return ''.join(password_lst)\n",
    "\n",
    "\n",
    "for _ in range(100):\n",
    "    assert is_good_password(get_new_password())\n",
    "    \n",
    "for _ in range(10):\n",
    "    print(get_new_password())"
   ]
  },
  {
   "cell_type": "raw",
   "metadata": {},
   "source": [
    "Write a program which takes 2 digits, X,Y and generates a 2-dimensional array. The element value in the i-th row and j-th column of the array should be i*j.\n",
    "\n",
    "Note: i=0,1.., X-1; j=0,1,Y-1.\n",
    "\n",
    "Input: 3,5\n",
    "\n",
    "[[0, 0, 0, 0, 0], [0, 1, 2, 3, 4], [0, 2, 4, 6, 8]]\n",
    "\n",
    "Hints: muiltidim list, nested blocks (for/if/etc)"
   ]
  },
  {
   "cell_type": "markdown",
   "metadata": {},
   "source": [
    "# Recursion"
   ]
  },
  {
   "cell_type": "code",
   "execution_count": null,
   "metadata": {
    "collapsed": true
   },
   "outputs": [],
   "source": [
    "# Returns a sum from 0 to `arg`"
   ]
  },
  {
   "cell_type": "code",
   "execution_count": null,
   "metadata": {
    "collapsed": true
   },
   "outputs": [],
   "source": [
    "# fibonacci with recursion: 1, 1, 2, 3, 5, 8, ..."
   ]
  },
  {
   "cell_type": "code",
   "execution_count": null,
   "metadata": {
    "collapsed": true
   },
   "outputs": [],
   "source": [
    "# factorial"
   ]
  },
  {
   "cell_type": "code",
   "execution_count": null,
   "metadata": {
    "collapsed": true
   },
   "outputs": [],
   "source": [
    "# Generate all possible permutations of an array using recursion"
   ]
  },
  {
   "cell_type": "code",
   "execution_count": null,
   "metadata": {
    "collapsed": true
   },
   "outputs": [],
   "source": [
    "# Write a recursive Python function that has a\n",
    "# parameter representing a list of integers and returns the maximum\n",
    "# stored in the list. Thinking recursively, the maximum is either the\n",
    "# first value in the list or the maximum of the rest of the list,\n",
    "# whichever is larger. If the list only has 1 integer, then its maximum\n",
    "# is this single value, naturally. "
   ]
  },
  {
   "cell_type": "markdown",
   "metadata": {},
   "source": [
    "# Generators"
   ]
  },
  {
   "cell_type": "code",
   "execution_count": null,
   "metadata": {
    "collapsed": true
   },
   "outputs": [],
   "source": [
    "# Implement simple range() as a generator (def it as crange(start, stop))"
   ]
  },
  {
   "cell_type": "code",
   "execution_count": null,
   "metadata": {
    "collapsed": true
   },
   "outputs": [],
   "source": [
    "# Use generator to print the even numbers between 0 and N.\n",
    "# Provide solutions with \"for\" and \"while\"\n",
    "\n",
    "# Example:\n",
    "\n",
    "for i in get_even(10):\n",
    "    print(i)\n",
    "\n",
    "# Output:\n",
    "# 0,2,4,6,8,10"
   ]
  },
  {
   "cell_type": "code",
   "execution_count": null,
   "metadata": {
    "collapsed": true
   },
   "outputs": [],
   "source": [
    "# Write a program that takes one or more filenames as arguments and prints all the lines which are longer than 40 characters."
   ]
  },
  {
   "cell_type": "code",
   "execution_count": null,
   "metadata": {
    "collapsed": true
   },
   "outputs": [],
   "source": [
    "# Define a generator which can iterate the numbers,\n",
    "# which are divisible by 7, between a given range 0 and n.\n",
    "\n",
    "# Example:\n",
    "\n",
    "for i in iterate_div_by_7(100):\n",
    "    print(i)\n",
    "\n",
    "# Output:\n",
    "# 7, 14, ..."
   ]
  },
  {
   "cell_type": "code",
   "execution_count": 2,
   "metadata": {},
   "outputs": [],
   "source": [
    "# Return sequence of numbers 0-9 but start from 1 when 10 will be reached (some kind of infinite loop)"
   ]
  },
  {
   "cell_type": "code",
   "execution_count": null,
   "metadata": {
    "collapsed": true
   },
   "outputs": [],
   "source": [
    "# Read filename.\n",
    "# Print a new line for each enter key press"
   ]
  },
  {
   "cell_type": "markdown",
   "metadata": {},
   "source": [
    "# Decorators"
   ]
  },
  {
   "cell_type": "markdown",
   "metadata": {},
   "source": [
    "### Idea"
   ]
  },
  {
   "cell_type": "code",
   "execution_count": 3,
   "metadata": {},
   "outputs": [
    {
     "name": "stdout",
     "output_type": "stream",
     "text": [
      "Something is happening before some_function() is called.\n",
      "Wheee!\n",
      "Something is happening after some_function() is called.\n"
     ]
    }
   ],
   "source": [
    "def my_decorator(some_function):\n",
    "\n",
    "    def wrapper():\n",
    "\n",
    "        print(\"Something is happening before some_function() is called.\")\n",
    "\n",
    "        some_function()\n",
    "\n",
    "        print(\"Something is happening after some_function() is called.\")\n",
    "\n",
    "    return wrapper\n",
    "\n",
    "\n",
    "def just_some_function():\n",
    "    print(\"Wheee!\")\n",
    "\n",
    "\n",
    "just_some_function = my_decorator(just_some_function)\n",
    "\n",
    "just_some_function()"
   ]
  },
  {
   "cell_type": "markdown",
   "metadata": {},
   "source": [
    "### Examples"
   ]
  },
  {
   "cell_type": "code",
   "execution_count": null,
   "metadata": {
    "collapsed": true
   },
   "outputs": [],
   "source": [
    "# simple decorator\n",
    "def p_decorate(func):\n",
    "    def func_wrapper(name):\n",
    "        return \"<p>{0}</p>\".format(func(name))\n",
    "    return func_wrapper\n",
    "\n",
    "@p_decorate\n",
    "def get_text(name):\n",
    "    return \"lorem ipsum, {0} dolor sit amet\".format(name)\n",
    "\n",
    "get_text(name=\"some name\")"
   ]
  },
  {
   "cell_type": "code",
   "execution_count": null,
   "metadata": {
    "collapsed": true
   },
   "outputs": [],
   "source": [
    "# decorator with parameters\n",
    "def tags(tag_name):\n",
    "    def tags_decorator(func):\n",
    "        def func_wrapper(name):\n",
    "            \"\"\"\n",
    "            this is func_wr\n",
    "            \"\"\"\n",
    "            return \"<{0}>{1}</{0}>\".format(tag_name, func(name))\n",
    "        return func_wrapper\n",
    "    return tags_decorator\n",
    "\n",
    "@tags(\"p\")\n",
    "def get_text(name):\n",
    "    return \"Hello \" + name\n",
    "\n",
    "get_text(name=\"username\")\n",
    "print(get_text.__name__)\n",
    "print(get_text.__doc__)\n",
    "print(get_text.__module__)"
   ]
  },
  {
   "cell_type": "code",
   "execution_count": null,
   "metadata": {
    "collapsed": true
   },
   "outputs": [],
   "source": [
    "# wraps\n",
    "from functools import wraps\n",
    "\n",
    "def tags(tag_name):\n",
    "    def tags_decorator(func):\n",
    "        @wraps(func)\n",
    "        def func_wrapper(name):\n",
    "            return \"<{0}>{1}</{0}>\".format(tag_name, func(name))\n",
    "        return func_wrapper\n",
    "    return tags_decorator\n",
    "\n",
    "@tags(\"p\")\n",
    "def get_text(name):\n",
    "    \"\"\"returns some text\"\"\"\n",
    "    return \"Hello \" + name\n",
    "\n",
    "# but without \"wraps\" - decorator info\n",
    "print(get_text.__name__)\n",
    "print(get_text.__doc__)\n",
    "print(get_text.__module__)"
   ]
  },
  {
   "cell_type": "markdown",
   "metadata": {},
   "source": [
    "### Tasks"
   ]
  },
  {
   "cell_type": "code",
   "execution_count": null,
   "metadata": {
    "collapsed": true
   },
   "outputs": [],
   "source": [
    "# Just prints input args"
   ]
  },
  {
   "cell_type": "code",
   "execution_count": null,
   "metadata": {
    "collapsed": true
   },
   "outputs": [],
   "source": [
    "# Write a decorator which wraps functions to log function arguments\n",
    "# and the return value on each call.\n",
    "# Provide support for both positional and\n",
    "# named arguments (your wrapper function should take both\n",
    "# *args and **kwargs and print them both):\n",
    "\n",
    "@logged\n",
    "def func(*args):\n",
    "    return 3 + len(args)\n",
    "\n",
    ">> func(4, 4, 4)\n",
    "\n",
    ">> you called func(4, 4, 4)\n",
    "   it returned 6"
   ]
  },
  {
   "cell_type": "code",
   "execution_count": null,
   "metadata": {
    "collapsed": true
   },
   "outputs": [],
   "source": [
    "# Chain of wrappers: make_bold/italic/underline (use <b>some_text</b>, <i>, <u>)"
   ]
  },
  {
   "cell_type": "code",
   "execution_count": null,
   "metadata": {
    "collapsed": true
   },
   "outputs": [],
   "source": [
    "# Write a decorator to cache function invocation results.\n",
    "# Store pairs arg:result in a dictionary in an\n",
    "# attribute of the function object. The function being memoized is: fibonacci"
   ]
  },
  {
   "cell_type": "code",
   "execution_count": null,
   "metadata": {
    "collapsed": true
   },
   "outputs": [],
   "source": [
    "# Implement a parametrized decorator which checks type of arguments\n",
    "\n",
    "@validarot(int, int, bool)\n",
    "def some_fun(1, 1, True):  # OK\n",
    "    pass\n",
    "\n",
    "@validarot(int, float)\n",
    "def some_fun(1, []):  # NOT OK, raise ValueError\n",
    "    pass"
   ]
  }
 ],
 "metadata": {
  "kernelspec": {
   "display_name": "Python 3",
   "language": "python",
   "name": "python3"
  },
  "language_info": {
   "codemirror_mode": {
    "name": "ipython",
    "version": 3
   },
   "file_extension": ".py",
   "mimetype": "text/x-python",
   "name": "python",
   "nbconvert_exporter": "python",
   "pygments_lexer": "ipython3",
   "version": "3.5.3"
  }
 },
 "nbformat": 4,
 "nbformat_minor": 2
}
