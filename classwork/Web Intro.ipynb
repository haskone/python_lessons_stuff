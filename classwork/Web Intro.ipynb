{
 "cells": [
  {
   "cell_type": "markdown",
   "metadata": {},
   "source": [
    "# Web: http/dns/network/etc"
   ]
  },
  {
   "cell_type": "markdown",
   "metadata": {},
   "source": [
    "client <--> server <--> DB"
   ]
  },
  {
   "cell_type": "markdown",
   "metadata": {},
   "source": [
    "- osi, tcp/ip (udp)\n",
    "- dns, ip\n",
    "- http(s)"
   ]
  },
  {
   "cell_type": "markdown",
   "metadata": {},
   "source": [
    "# Front-end/Back-end"
   ]
  },
  {
   "cell_type": "markdown",
   "metadata": {},
   "source": [
    "- HTML/CSS/JS\n",
    "- PYTHON/PHP/JAVA/.../many_of_them\n",
    "- Auth\n",
    "- Templates"
   ]
  },
  {
   "cell_type": "markdown",
   "metadata": {},
   "source": [
    "# API"
   ]
  },
  {
   "cell_type": "markdown",
   "metadata": {},
   "source": [
    "RESTful/graphql and others"
   ]
  },
  {
   "cell_type": "code",
   "execution_count": null,
   "metadata": {
    "collapsed": true
   },
   "outputs": [],
   "source": [
    "https://stackoverflow.com/questions/671118/what-exactly-is-restful-programming"
   ]
  },
  {
   "cell_type": "markdown",
   "metadata": {},
   "source": [
    "# HTTP"
   ]
  },
  {
   "cell_type": "markdown",
   "metadata": {},
   "source": [
    "get/post/put/post/delete/head/patch"
   ]
  },
  {
   "cell_type": "raw",
   "metadata": {},
   "source": [
    "GET /index.html HTTP/1.1\n",
    "Host: www.example.com"
   ]
  },
  {
   "cell_type": "raw",
   "metadata": {},
   "source": [
    "HTTP/1.1 200 OK\n",
    "Date: Mon, 23 May 2005 22:38:34 GMT\n",
    "Content-Type: text/html; charset=UTF-8\n",
    "Content-Encoding: UTF-8\n",
    "Content-Length: 138\n",
    "Last-Modified: Wed, 08 Jan 2003 23:11:55 GMT\n",
    "Server: Apache/1.3.3.7 (Unix) (Red-Hat/Linux)\n",
    "ETag: \"3f80f-1b6-3e1cb03b\"\n",
    "Accept-Ranges: bytes\n",
    "Connection: close\n",
    "\n",
    "<html>\n",
    "<head>\n",
    "  <title>An Example Page</title>\n",
    "</head>\n",
    "<body>\n",
    "  Hello World, this is a very simple HTML document.\n",
    "</body>\n",
    "</html>"
   ]
  },
  {
   "cell_type": "markdown",
   "metadata": {},
   "source": [
    "# Web Servers"
   ]
  },
  {
   "cell_type": "markdown",
   "metadata": {},
   "source": [
    "- apache2\n",
    "- nginx\n",
    "\n",
    "- gunicorn\n",
    "- tornado\n",
    "- lighttpd\n",
    "- flask default server?"
   ]
  },
  {
   "cell_type": "code",
   "execution_count": null,
   "metadata": {
    "collapsed": true
   },
   "outputs": [],
   "source": [
    "https://wiki.python.org/moin/WebServers"
   ]
  },
  {
   "cell_type": "markdown",
   "metadata": {},
   "source": [
    "# WSGI"
   ]
  },
  {
   "cell_type": "markdown",
   "metadata": {
    "collapsed": true
   },
   "source": [
    "The Web Server Gateway Interface (WSGI) is a specification for simple and universal interface between web servers and web applications or frameworks for the Python programming language."
   ]
  },
  {
   "cell_type": "markdown",
   "metadata": {},
   "source": [
    "# MVC"
   ]
  },
  {
   "cell_type": "code",
   "execution_count": null,
   "metadata": {
    "collapsed": true
   },
   "outputs": [],
   "source": [
    "https://realpython.com/blog/python/the-model-view-controller-mvc-paradigm-summarized-with-legos/"
   ]
  },
  {
   "cell_type": "markdown",
   "metadata": {},
   "source": [
    "# Flask"
   ]
  },
  {
   "cell_type": "code",
   "execution_count": null,
   "metadata": {
    "collapsed": true
   },
   "outputs": [],
   "source": [
    "from flask import Flask\n",
    "app = Flask(__name__)\n",
    "\n",
    "@app.route('/')\n",
    "def hello_world():\n",
    "    return 'Hello, World!'\n",
    "\n",
    "if __name__ == '__main__':\n",
    "    app.run()"
   ]
  },
  {
   "cell_type": "markdown",
   "metadata": {},
   "source": [
    "# Django"
   ]
  },
  {
   "cell_type": "code",
   "execution_count": null,
   "metadata": {
    "collapsed": true
   },
   "outputs": [],
   "source": [
    "https://docs.djangoproject.com/en/2.0/intro/tutorial01/"
   ]
  },
  {
   "cell_type": "code",
   "execution_count": null,
   "metadata": {
    "collapsed": true
   },
   "outputs": [],
   "source": [
    "from django.http import HttpResponse\n",
    "\n",
    "\n",
    "def index(request):\n",
    "    return HttpResponse(\"Hello, world. You're at the polls index.\")"
   ]
  },
  {
   "cell_type": "code",
   "execution_count": null,
   "metadata": {
    "collapsed": true
   },
   "outputs": [],
   "source": [
    "from django.urls import path\n",
    "\n",
    "from . import views\n",
    "\n",
    "urlpatterns = [\n",
    "    path('', views.index, name='index'),\n",
    "]"
   ]
  },
  {
   "cell_type": "markdown",
   "metadata": {},
   "source": [
    "flask vs django\n",
    "\n",
    "https://www.youtube.com/watch?v=KnbAUplWXC0"
   ]
  },
  {
   "cell_type": "markdown",
   "metadata": {},
   "source": [
    "# Others: Falcon, Pyramid, webapp2"
   ]
  },
  {
   "cell_type": "code",
   "execution_count": null,
   "metadata": {
    "collapsed": true
   },
   "outputs": [],
   "source": [
    "import falcon\n",
    "\n",
    "class QuoteResource:\n",
    "    def on_get(self, req, resp):\n",
    "        \"\"\"Handles GET requests\"\"\"\n",
    "        quote = {\n",
    "            'quote': (\n",
    "                \"I've always been more interested in \"\n",
    "                \"the future than in the past.\"\n",
    "            ),\n",
    "            'author': 'Grace Hopper'\n",
    "        }\n",
    "        resp.media = quote\n",
    "\n",
    "if __name__ == '__main__':\n",
    "    api = falcon.API()\n",
    "    api.add_route('/quote', QuoteResource())"
   ]
  },
  {
   "cell_type": "code",
   "execution_count": null,
   "metadata": {
    "collapsed": true
   },
   "outputs": [],
   "source": [
    "from wsgiref.simple_server import make_server\n",
    "from pyramid.config import Configurator\n",
    "from pyramid.response import Response\n",
    "\n",
    "def hello_world(request):\n",
    "    return Response('Hello World!', )\n",
    "\n",
    "if __name__ == '__main__':\n",
    "    with Configurator() as config:\n",
    "        config.add_route('hello', '/')\n",
    "        config.add_view(hello_world, route_name='hello')\n",
    "        app = config.make_wsgi_app()\n",
    "    server = make_server('0.0.0.0', 6543, app)\n",
    "    server.serve_forever()"
   ]
  },
  {
   "cell_type": "code",
   "execution_count": null,
   "metadata": {
    "collapsed": true
   },
   "outputs": [],
   "source": [
    "import webapp2\n",
    "from paste import httpserver\n",
    "\n",
    "class HelloWebapp2(webapp2.RequestHandler):\n",
    "    def get(self):\n",
    "        self.response.write('Hello, webapp2!')\n",
    "\n",
    "app = webapp2.WSGIApplication([\n",
    "    ('/', HelloWebapp2),\n",
    "], debug=True)\n",
    "\n",
    "if __name__ == '__main__':\n",
    "    httpserver.serve(app, host='127.0.0.1', port='8080')"
   ]
  },
  {
   "cell_type": "markdown",
   "metadata": {},
   "source": [
    "# Flask Tasks"
   ]
  },
  {
   "cell_type": "markdown",
   "metadata": {},
   "source": [
    "### Hello Word\n",
    "\n",
    "- get \\\n",
    "  - return \"Hello Word\"\n",
    "- get \\api\n",
    "  - return {\"json_key\": \"json_value\"}\n",
    "- get \\sessions\n",
    "  - return {\"users\": [\"some_user\", ...]}\n",
    "- post {\"user\": \"%some_user%\"}\n",
    "  - return {\"status\": \"user %some_user% added to session\"}\n",
    "  - or {\"status\": \"sessions list already contains %some_user%\"}\n",
    "- delete {\"user\": \"%some_user%\"}\n",
    "  - delete %some_user% from the sessions list"
   ]
  },
  {
   "cell_type": "markdown",
   "metadata": {},
   "source": [
    "### Fill template"
   ]
  },
  {
   "cell_type": "raw",
   "metadata": {},
   "source": [
    "- create some simple template with several html tags\n",
    "- get \\template\n",
    "  - return \"<html> ... This is <h1>default page</h1> ... </html>\"\n",
    "- get \\template?page=some_cool_page&another=123\n",
    "  - return \"<html> ... This is <h1>some_cool_page</h1> with additional args: another=123... </html>\"\n",
    " -get any other route\n",
    "  - redirect to page_not_found.html (create and put there some content)"
   ]
  },
  {
   "cell_type": "markdown",
   "metadata": {},
   "source": [
    "### Monitor system\n",
    "\n",
    "- flask api:\n",
    "  - based on https://flask-restful.readthedocs.io/en/latest/quickstart.html\n",
    "  - crud for server\n",
    "  - r(get) for monitoring: {\"server\": <name>, \"ping\": [\"datetime\": <ping_value>, ...]}\n",
    "- each server: id, name, ip, datetime(when added)\n",
    "- db (sqlite): id/name/ip/datetime -> id/ping/datetima\n",
    "\n",
    "- simple worker: just a script, loop over all records\n",
    "- ping each server in db\n",
    "- simple web: just Chart.js\n",
    "\n",
    "\n",
    "- levels:\n",
    "  - only get api\n",
    "  - get from db\n",
    "  - implement all c,u,d\n",
    "  - implement worker which makes ping"
   ]
  },
  {
   "cell_type": "markdown",
   "metadata": {},
   "source": [
    "#### front-end"
   ]
  },
  {
   "cell_type": "markdown",
   "metadata": {},
   "source": [
    "##### index.html"
   ]
  },
  {
   "cell_type": "raw",
   "metadata": {},
   "source": [
    "<html>\n",
    "<head>\n",
    "</head>\n",
    "\n",
    "<body>  \n",
    "    <canvas id=\"pings\" width=\"400\" height=\"100\"></canvas>\n",
    "</body>\n",
    "\n",
    "<script src=\"{{ url_for('static', filename='js/Chart.js') }}\"></script>\n",
    "<script src=\"{{ url_for('static', filename='js/Chart.min.js') }}\"></script>\n",
    "<script src=\"{{ url_for('static', filename='js/Show.js') }}\"></script>\n",
    "\n",
    "</html>"
   ]
  },
  {
   "cell_type": "markdown",
   "metadata": {},
   "source": [
    "###### Show.js"
   ]
  },
  {
   "cell_type": "raw",
   "metadata": {},
   "source": [
    "const url = 'json';\n",
    "\n",
    "fetch(url)\n",
    ".then((resp) => resp.json())\n",
    ".then(function(data) {    \n",
    "    var ctx = document.getElementById(\"pings\").getContext('2d');\n",
    "    var myChart = new Chart(ctx, {\n",
    "        type: 'line',\n",
    "        data: {\n",
    "            labels: data.y,\n",
    "            datasets: [{\n",
    "                label: '# Ping by Hours',\n",
    "                data: data.x,\n",
    "                backgroundColor: [\n",
    "                    'rgba(255, 99, 132, 0.2)',\n",
    "                    'rgba(54, 162, 235, 0.2)',\n",
    "                    'rgba(255, 206, 86, 0.2)',\n",
    "                    'rgba(75, 192, 192, 0.2)',\n",
    "                    'rgba(153, 102, 255, 0.2)',\n",
    "                    'rgba(255, 159, 64, 0.2)'\n",
    "                ],\n",
    "                borderColor: [\n",
    "                    'rgba(255,99,132,1)',\n",
    "                    'rgba(54, 162, 235, 1)',\n",
    "                    'rgba(255, 206, 86, 1)',\n",
    "                    'rgba(75, 192, 192, 1)',\n",
    "                    'rgba(153, 102, 255, 1)',\n",
    "                    'rgba(255, 159, 64, 1)'\n",
    "                ],\n",
    "                borderWidth: 1\n",
    "            }]\n",
    "        },\n",
    "        options: {\n",
    "            scales: {\n",
    "                yAxes: [{\n",
    "                    ticks: {\n",
    "                        beginAtZero:true\n",
    "                    }\n",
    "                }]\n",
    "            }\n",
    "        }\n",
    "    });\n",
    "})\n",
    ".catch(function(error) {\n",
    "    console.log(error);\n",
    "});"
   ]
  }
 ],
 "metadata": {
  "kernelspec": {
   "display_name": "Python 3",
   "language": "python",
   "name": "python3"
  },
  "language_info": {
   "codemirror_mode": {
    "name": "ipython",
    "version": 3
   },
   "file_extension": ".py",
   "mimetype": "text/x-python",
   "name": "python",
   "nbconvert_exporter": "python",
   "pygments_lexer": "ipython3",
   "version": "3.6.1"
  }
 },
 "nbformat": 4,
 "nbformat_minor": 2
}
