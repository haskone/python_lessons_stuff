{
 "cells": [
  {
   "cell_type": "markdown",
   "metadata": {},
   "source": [
    "# RE"
   ]
  },
  {
   "cell_type": "code",
   "execution_count": null,
   "metadata": {
    "collapsed": true
   },
   "outputs": [],
   "source": [
    "# re\n",
    "\n",
    "# https://www.python-course.eu/python3_re.php\n",
    "# https://docs.python.org/3/howto/regex.html\n",
    "\n",
    "# https://docs.python.org/3/library/re.html"
   ]
  },
  {
   "cell_type": "code",
   "execution_count": 1,
   "metadata": {},
   "outputs": [
    {
     "name": "stdout",
     "output_type": "stream",
     "text": [
      "def\n",
      "['__class__', '__copy__', '__deepcopy__', '__delattr__', '__dir__', '__doc__', '__eq__', '__format__', '__ge__', '__getattribute__', '__getitem__', '__gt__', '__hash__', '__init__', '__init_subclass__', '__le__', '__lt__', '__ne__', '__new__', '__reduce__', '__reduce_ex__', '__repr__', '__setattr__', '__sizeof__', '__str__', '__subclasshook__', 'end', 'endpos', 'expand', 'group', 'groupdict', 'groups', 'lastgroup', 'lastindex', 'pos', 're', 'regs', 'span', 'start', 'string']\n"
     ]
    }
   ],
   "source": [
    "import re\n",
    "\n",
    "m = re.search('(?<=abc)def', 'abcdef')\n",
    "print(m.group(0))\n",
    "\n",
    "m = re.search('(?<=-)\\w+', 'spam-egg')\n",
    "print(dir(m))\n",
    "# print(m.group(0))\n",
    "\n",
    "# print(m.start())\n",
    "# print(m.end())"
   ]
  },
  {
   "cell_type": "code",
   "execution_count": 3,
   "metadata": {},
   "outputs": [
    {
     "name": "stdout",
     "output_type": "stream",
     "text": [
      "SomeName, valualbeInfo: 234356sdf\n",
      "SomeName\n",
      "valualbeInfo\n",
      "234356sdf\n",
      "##########\n",
      "SomeName\n",
      "valualbeInfo\n",
      "234356sdf\n"
     ]
    }
   ],
   "source": [
    "import re\n",
    "\n",
    "contactInfo = \"SomeName, valualbeInfo: 234356sdf\"\n",
    "match = re.search(r'(\\w+), (\\w+): (\\S+)', contactInfo)\n",
    "\n",
    "print(match.group(0))\n",
    "print(match.group(1))\n",
    "print(match.group(2))\n",
    "print(match.group(3))\n",
    "print('#' * 10)\n",
    "\n",
    "# print(match.group(4))\n",
    "\n",
    "# can be named\n",
    "match = re.search(r'(?P<last>\\w+), (?P<first>\\w+): (?P<phone>\\S+)', contactInfo)\n",
    "print(match.group('last'))\n",
    "print(match.group(2))\n",
    "print(match.group('phone'))"
   ]
  },
  {
   "cell_type": "code",
   "execution_count": 2,
   "metadata": {},
   "outputs": [
    {
     "name": "stdout",
     "output_type": "stream",
     "text": [
      "dog\n"
     ]
    }
   ],
   "source": [
    "import re\n",
    "\n",
    "match = re.match(r'dog', 'dog cat hum') ## only start\n",
    "print(match.group(0))\n",
    "\n",
    "# match = re.match(r'cat', 'dog cat hum')\n",
    "# print(match.group(0))"
   ]
  },
  {
   "cell_type": "code",
   "execution_count": null,
   "metadata": {
    "collapsed": true
   },
   "outputs": [],
   "source": [
    "import re\n",
    "\n",
    "re.findall(r'\\d', 'dog cat dog123')"
   ]
  },
  {
   "cell_type": "code",
   "execution_count": null,
   "metadata": {
    "collapsed": true
   },
   "outputs": [],
   "source": [
    "import re\n",
    "\n",
    "regex = r\"[A-z]{1,2}[0-9R][0-9A-Z]? [0-9][ABD-HJLNP-UW-Z]{2}\"\n",
    "address = \"BBC News Centre, London, W12 7RJ\"\n",
    "compiled_re = re.compile(regex)\n",
    "res = compiled_re.search(address)\n",
    "print(res.group(0))"
   ]
  },
  {
   "cell_type": "markdown",
   "metadata": {
    "collapsed": true
   },
   "source": [
    "# Task"
   ]
  },
  {
   "cell_type": "code",
   "execution_count": null,
   "metadata": {
    "collapsed": true
   },
   "outputs": [],
   "source": [
    "s = \"\"\"Headquarters: San Francisco, CA, Customer Support number: 1-800-266-0172\"\"\"\n",
    "\n",
    "import re\n",
    "\n",
    "regex = r\"\"\n",
    "compiled_re = re.compile(regex)\n",
    "res = compiled_re.search(s)\n",
    "\n",
    "print(\"title: \", res.group('title'))\n",
    "print(\"location: \", res.group('location'))\n",
    "print(\"type: \", res.group('type'))\n",
    "print(\"number: \", res.group('number'))"
   ]
  },
  {
   "cell_type": "markdown",
   "metadata": {},
   "source": [
    "# Builtin"
   ]
  },
  {
   "cell_type": "markdown",
   "metadata": {
    "collapsed": true
   },
   "source": [
    "# os"
   ]
  },
  {
   "cell_type": "code",
   "execution_count": null,
   "metadata": {},
   "outputs": [],
   "source": [
    "Constant Value\n",
    "os.path path is either posixpath or ntpath\n",
    "os.name name is either 'posix', 'nt' or 'ce'\n",
    "os.curdir a string representing the current directory ('.' or ':')\n",
    "os.pardir a string representing the parent directory ('..' or '::')\n",
    "os.sep is the (or a most common) pathname separator ('/' or ':' or\n",
    "'\\\\')\n",
    "os.extsep is the extension separator (always '.')\n",
    "os.pathsep is the component separator used in $PATH etc\n",
    "os.linesep is the line separator in text files ('\\r' or '\\n' or '\\r\\n')\n",
    "os.defpath is the default search path for executables"
   ]
  },
  {
   "cell_type": "markdown",
   "metadata": {},
   "source": [
    "Create a module with name my_os.py with next code implementation: \n",
    "- print computer name, processor architecture\n",
    "- print current work directory\n",
    "- change work directory to “C:”\n",
    "- print list of directories\n",
    "- print list of files\n",
    "- for files check is it link or not\n",
    "- Back to initial work directory\n",
    "- Create “Temp” folder\n",
    "- Delete “Temp” folder "
   ]
  },
  {
   "cell_type": "code",
   "execution_count": 2,
   "metadata": {},
   "outputs": [
    {
     "name": "stdout",
     "output_type": "stream",
     "text": [
      "comp name: think\n",
      "arch: x86_64\n"
     ]
    }
   ],
   "source": [
    "import os\n",
    "\n",
    "uname = os.uname()\n",
    "print(f\"comp name: {uname.nodename}\")\n",
    "print(f\"arch: {uname.machine}\")"
   ]
  },
  {
   "cell_type": "code",
   "execution_count": 4,
   "metadata": {},
   "outputs": [
    {
     "name": "stdout",
     "output_type": "stream",
     "text": [
      "comp name: think\n",
      "arch: x86_64\n"
     ]
    }
   ],
   "source": [
    "import platform\n",
    "\n",
    "print(f\"comp name: {platform.uname().node}\")\n",
    "print(f\"arch: {platform.uname().machine}\")"
   ]
  },
  {
   "cell_type": "markdown",
   "metadata": {
    "collapsed": true
   },
   "source": [
    "# sys"
   ]
  },
  {
   "cell_type": "markdown",
   "metadata": {},
   "source": [
    "Create a module with name my_sys.py with next code implementation:\n",
    "- print computer platform\n",
    "- print installed computer python version\n",
    "- check and print size of string object – “abc”\n",
    "- create list variable with number items from 0 to n\n",
    "- n variable should be received as script argument\n",
    "- n variable default value set as 11 in case of read sys argument fail\n",
    "- use for loop and write every number item into system stdout flow\n",
    "- do not use print statement for above task\n",
    "- in case of n%2 ==0 exit script execution with n code "
   ]
  },
  {
   "cell_type": "markdown",
   "metadata": {
    "collapsed": true
   },
   "source": [
    "# argparse"
   ]
  },
  {
   "cell_type": "markdown",
   "metadata": {},
   "source": [
    "Create a module with name my_argparse.py with next code implementation:\n",
    "- Check that executable script __name__ variable is equal to “__main__”\n",
    "- If yes print next:\n",
    "- String 'Parcer initialized!' and variables: lang, keyword and value\n",
    "- 3 variables are script arguments\n",
    "- Set coding of the script as “utf8”\n",
    "- Import argparse module\n",
    "- Create parser object\n",
    "- Add parser argument with key “–l”, string type, “ua” as default value and add any help string for key. Store this value into lang variable\n",
    "- Add parser argument with key “–c”, string type, “word” as default value and add any help string for key. Store this value into keyword variable.\n",
    "- Add parser argument with key “–m”, integer type, “0” as default value and add any help string for key. Store this value into value variable. "
   ]
  },
  {
   "cell_type": "markdown",
   "metadata": {
    "collapsed": true
   },
   "source": [
    "# shutil"
   ]
  },
  {
   "cell_type": "markdown",
   "metadata": {},
   "source": [
    "Create a module with name my_shutil.py with next code implementation:\n",
    "- Create “folder_zip’ in current working directory\n",
    "- Create 3 files with an types of data in “folder_zip”\n",
    "- Archive “folder_zip” contents into one zip file with name “my_zip”\n",
    "- Copy “my_zip” into one folder above current\n",
    "- Remove folder “folder_zip” from disk\n",
    "- Add user prompt for checking folder state\n",
    "- Unpack archive in current folder\n",
    "- Print disk usage of folder were archive were copied "
   ]
  },
  {
   "cell_type": "markdown",
   "metadata": {
    "collapsed": true
   },
   "source": [
    "# time/datetime"
   ]
  },
  {
   "cell_type": "markdown",
   "metadata": {},
   "source": [
    "Create a module with name my_time.py with next code implementation:\n",
    "- Import time and datetime modules\n",
    "- After import statement set clock count for checking script execution time\n",
    "- Print current time in format 'Tue May 24 14:09:17 2016’\n",
    "- Print current time year\n",
    "- Print current time day from the year begining\n",
    "- Use time tuple convertion into string and create string line with next format '24 Mar 2015 12:14‘\n",
    "- Use time convertion from string into time tuple and create object from string '19 Sep. 2012 10:15'\n",
    "- Create datetime tuple with cureent day minus one day\n",
    "- Check the difference with datime delta\n",
    "- Print script execution time "
   ]
  },
  {
   "cell_type": "markdown",
   "metadata": {
    "collapsed": true
   },
   "source": [
    "# requests"
   ]
  },
  {
   "cell_type": "markdown",
   "metadata": {},
   "source": [
    "Create a module with name parse_news.py that will print all inner http links inside of page https://news.ycombinator.com/"
   ]
  },
  {
   "cell_type": "code",
   "execution_count": null,
   "metadata": {
    "collapsed": true
   },
   "outputs": [],
   "source": [
    "import requests\n",
    "base_url = 'http://maps.googleapis.com/maps/api/geocode/json'\n",
    "my_params = {'address': '100 Broadway, New York, NY, U.S.A', \n",
    "             'language': 'ca'}\n",
    "response = requests.get(base_url, params = my_params)\n",
    "\n",
    "def walk_dict(d):\n",
    "    \"\"\"\n",
    "    Return a new dict that\n",
    "    has all k=v from nested dicts\n",
    "    \"\"\"\n",
    "    pass\n",
    "\n",
    "walk_dict(response.json())"
   ]
  },
  {
   "cell_type": "code",
   "execution_count": null,
   "metadata": {
    "collapsed": true
   },
   "outputs": [],
   "source": [
    "import requests\n",
    "\n",
    "url = 'https://freepythontips.files.wordpress.com/2013/07/python_logo_notext.png'\n",
    "        \n",
    "# get filename\n",
    "# use request.get for specified url\n",
    "# check status code == 200\n",
    "# open filename with 'wb'\n",
    "# write content to file"
   ]
  },
  {
   "cell_type": "code",
   "execution_count": null,
   "metadata": {
    "collapsed": true
   },
   "outputs": [],
   "source": [
    "import requests\n",
    "response = requests.get(\"https://en.wikipedia.org/robots.txt\")\n",
    "txt = response.text\n",
    "print(txt)\n",
    "\n",
    "# remove all comments and save in file clean_robots.txt"
   ]
  },
  {
   "cell_type": "markdown",
   "metadata": {},
   "source": [
    "# Extra"
   ]
  },
  {
   "cell_type": "code",
   "execution_count": null,
   "metadata": {
    "collapsed": true
   },
   "outputs": [],
   "source": [
    "# arrow\n",
    "\n",
    "import arrow\n",
    "\n",
    "utc = arrow.utcnow()\n",
    "utc.shift(hours=1)\n",
    "\n",
    "local = utc.to('US/Pacific')\n",
    "print(f\"local: {local}\")\n",
    "print(f\"timestamp: {local.timestamp}\")\n",
    "\n",
    "print(local.format('YYYY-MM-DD HH:mm:ss ZZ'))\n",
    "\n",
    "print(f\"humanize default: {local.humanize()}\")\n",
    "\n",
    "print(f\"humanize localized: {local.humanize(locale='ko_kr')}\")\n",
    "print(f\"humanize localized ua: {local.humanize(locale='uk_ua')}\")\n",
    "\n",
    "# TASK\n",
    "# argparse + arrow:\n",
    "# get_time.py --type human|ymd|full --location ua|ru|en\n",
    "\n",
    "get_time.py --type human --location ua"
   ]
  },
  {
   "cell_type": "code",
   "execution_count": null,
   "metadata": {
    "collapsed": true
   },
   "outputs": [],
   "source": [
    "# urllib/ urllib3\n",
    "\n",
    "# Thread safety.\n",
    "# Connection pooling.\n",
    "# Client-side SSL/TLS verification.\n",
    "# File uploads with multipart encoding.\n",
    "# Helpers for retrying requests and dealing with HTTP redirects.\n",
    "# Support for gzip and deflate encoding.\n",
    "# Proxy support for HTTP and SOCKS.\n",
    "# 100% test coverage.\n",
    "\n",
    "import urllib3\n",
    "http = urllib3.PoolManager()\n",
    "r = http.request('GET', 'http://httpbin.org/robots.txt')\n",
    "r.status\n",
    "\n",
    "r.data"
   ]
  },
  {
   "cell_type": "code",
   "execution_count": null,
   "metadata": {
    "collapsed": true
   },
   "outputs": [],
   "source": [
    "# wget\n",
    "\n",
    "import wget\n",
    "url = 'https://en.wikipedia.org/robots.txt'\n",
    "filename = wget.download(url)\n",
    "\n",
    "text = \"\"\n",
    "with open(filename, \"r\") as f:\n",
    "    text = f.read()\n",
    "    \n",
    "text = text.replace(\"%\", \"\")\n",
    "\n",
    "with open(\"clean_robots.txt\", \"w+\") as f:\n",
    "    f.write(text)\n",
    "\n",
    "# TASK\n",
    "# download text https://en.wikipedia.org/robots.txt\n",
    "# open and resave without '%' as clean_robots.txt"
   ]
  }
 ],
 "metadata": {
  "kernelspec": {
   "display_name": "Python 3",
   "language": "python",
   "name": "python3"
  },
  "language_info": {
   "codemirror_mode": {
    "name": "ipython",
    "version": 3
   },
   "file_extension": ".py",
   "mimetype": "text/x-python",
   "name": "python",
   "nbconvert_exporter": "python",
   "pygments_lexer": "ipython3",
   "version": "3.6.1"
  }
 },
 "nbformat": 4,
 "nbformat_minor": 2
}
