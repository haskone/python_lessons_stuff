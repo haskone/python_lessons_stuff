{
 "cells": [
  {
   "cell_type": "markdown",
   "metadata": {},
   "source": [
    "# RE"
   ]
  },
  {
   "cell_type": "code",
   "execution_count": null,
   "metadata": {
    "collapsed": true
   },
   "outputs": [],
   "source": [
    "# https://www.python-course.eu/python3_re.php\n",
    "# https://docs.python.org/3/howto/regex.html\n",
    "\n",
    "# https://docs.python.org/3/library/re.html"
   ]
  },
  {
   "cell_type": "code",
   "execution_count": 6,
   "metadata": {},
   "outputs": [
    {
     "name": "stdout",
     "output_type": "stream",
     "text": [
      "def\n",
      "3\n",
      "6\n",
      "['__class__', '__copy__', '__deepcopy__', '__delattr__', '__dir__', '__doc__', '__eq__', '__format__', '__ge__', '__getattribute__', '__gt__', '__hash__', '__init__', '__le__', '__lt__', '__ne__', '__new__', '__reduce__', '__reduce_ex__', '__repr__', '__setattr__', '__sizeof__', '__str__', '__subclasshook__', 'end', 'endpos', 'expand', 'group', 'groupdict', 'groups', 'lastgroup', 'lastindex', 'pos', 're', 'regs', 'span', 'start', 'string']\n",
      "egg\n",
      "5\n",
      "8\n"
     ]
    }
   ],
   "source": [
    "import re\n",
    "\n",
    "m = re.search('(?<=abc)def', 'abcdef')\n",
    "print(m.group(0))\n",
    "print(m.start())\n",
    "print(m.end())\n",
    "\n",
    "m = re.search('(?<=-)\\w+', 'spam-egg')\n",
    "print(dir(m))\n",
    "print(m.group(0))\n",
    "\n",
    "print(m.start())\n",
    "print(m.end())"
   ]
  },
  {
   "cell_type": "code",
   "execution_count": 2,
   "metadata": {},
   "outputs": [
    {
     "name": "stdout",
     "output_type": "stream",
     "text": [
      "SomeName, valualbeInfo: 234356sdf\n",
      "SomeName\n",
      "valualbeInfo\n",
      "234356sdf\n",
      "##########\n",
      "SomeName\n",
      "valualbeInfo\n",
      "234356sdf\n"
     ]
    }
   ],
   "source": [
    "import re\n",
    "\n",
    "contactInfo = \"SomeName, valualbeInfo: 234356sdf\"\n",
    "match = re.search(r'(\\w+), (\\w+): (\\S+)', contactInfo)\n",
    "\n",
    "print(match.group(0))\n",
    "print(match.group(1))\n",
    "print(match.group(2))\n",
    "print(match.group(3))\n",
    "print('#' * 10)\n",
    "\n",
    "# print(match.group(4))\n",
    "\n",
    "# can be named\n",
    "match = re.search(r'(?P<last>\\w+), (?P<first>\\w+): (?P<phone>\\S+)', contactInfo)\n",
    "print(match.group('last'))\n",
    "print(match.group(2))\n",
    "print(match.group('phone'))"
   ]
  },
  {
   "cell_type": "code",
   "execution_count": 6,
   "metadata": {},
   "outputs": [
    {
     "name": "stdout",
     "output_type": "stream",
     "text": [
      "dog\n"
     ]
    }
   ],
   "source": [
    "import re\n",
    "\n",
    "match = re.match(r'dog', 'dog cat hum') ## only start\n",
    "print(match.group(0))\n",
    "\n",
    "# match = re.match(r'cat', 'dog cat hum')\n",
    "# print(match.group(0))"
   ]
  },
  {
   "cell_type": "code",
   "execution_count": 13,
   "metadata": {},
   "outputs": [
    {
     "data": {
      "text/plain": [
       "['567', '123']"
      ]
     },
     "execution_count": 13,
     "metadata": {},
     "output_type": "execute_result"
    }
   ],
   "source": [
    "import re\n",
    "\n",
    "re.findall(r'\\d+', 'dog 567cat dog123')"
   ]
  },
  {
   "cell_type": "code",
   "execution_count": 14,
   "metadata": {},
   "outputs": [
    {
     "name": "stdout",
     "output_type": "stream",
     "text": [
      "W12 7RJ\n"
     ]
    }
   ],
   "source": [
    "import re\n",
    "\n",
    "regex = r\"[A-z]{1,2}[0-9R][0-9A-Z]? [0-9][ABD-HJLNP-UW-Z]{2}\"\n",
    "address = \"BBC News Centre, London, W12 7RJ\"\n",
    "compiled_re = re.compile(regex)\n",
    "res = compiled_re.search(address)\n",
    "print(res.group(0))"
   ]
  },
  {
   "cell_type": "markdown",
   "metadata": {
    "collapsed": true
   },
   "source": [
    "# Task"
   ]
  },
  {
   "cell_type": "code",
   "execution_count": 53,
   "metadata": {},
   "outputs": [
    {
     "name": "stdout",
     "output_type": "stream",
     "text": [
      "title:  Headquarters\n",
      "location:  San Francisco, CA\n",
      "type:  Customer Support number\n",
      "number:  1-800-266-0172\n"
     ]
    }
   ],
   "source": [
    "s = \"\"\"Headquarters: San Francisco, CA, Customer Support number: 1-800-266-0172\"\"\"\n",
    "\n",
    "import re\n",
    "\n",
    "# regex = r\"(?P<title>[A-z]+): \" + \\\n",
    "#         r\"(?P<location>[A-z]+\\s[A-z]+,\\s[A-Z]+), \" + \\\n",
    "#         r\"(?P<type>[A-z\\s]+): \" + \\\n",
    "#         r\"(?P<number>[0-9\\-]+)\"\n",
    "\n",
    "regex = r\"(?P<title>\\w+): \" + \\\n",
    "        r\"(?P<location>[\\w ]+, [A-Z]+), \" + \\\n",
    "        r\"(?P<type>[\\w ]+): \" + \\\n",
    "        r\"(?P<number>[\\d-]+)\"\n",
    "        \n",
    "def compiled():\n",
    "    compiled_re = re.compile(regex)\n",
    "    for i in range(int(1e6)):\n",
    "        res = compiled_re.search(s)\n",
    "    \n",
    "def direct(): \n",
    "    for i in range(int(1e6)):\n",
    "        res = re.search(regex, s)\n",
    "\n",
    "res = re.search(regex, s)\n",
    "print(\"title: \", res.group(\"title\"))\n",
    "print(\"location: \", res.group(\"location\"))\n",
    "print(\"type: \", res.group(\"type\"))\n",
    "print(\"number: \", res.group(\"number\"))"
   ]
  },
  {
   "cell_type": "code",
   "execution_count": 45,
   "metadata": {},
   "outputs": [
    {
     "data": {
      "text/plain": [
       "'34654-45654-456'"
      ]
     },
     "execution_count": 45,
     "metadata": {},
     "output_type": "execute_result"
    }
   ],
   "source": [
    "import re\n",
    "\n",
    "s = \"skljdfkfdjg 34654-45654-456\"\n",
    "\n",
    "r = \"(?P<title>[0-9\\-]+)\"\n",
    "res = re.search(r, s)\n",
    "res.group(\"title\")"
   ]
  },
  {
   "cell_type": "markdown",
   "metadata": {},
   "source": [
    "# Builtin"
   ]
  },
  {
   "cell_type": "markdown",
   "metadata": {
    "collapsed": true
   },
   "source": [
    "# os"
   ]
  },
  {
   "cell_type": "markdown",
   "metadata": {},
   "source": [
    "see more: https://docs.python.org/3.6/library/os.html"
   ]
  },
  {
   "cell_type": "markdown",
   "metadata": {},
   "source": [
    "Create a module with name my_os.py with next code implementation: \n",
    "- print computer name, processor architecture\n",
    "- print current work directory\n",
    "- change work directory to “C:”\n",
    "- print list of directories\n",
    "- print list of files\n",
    "- for files check is it link or not\n",
    "- Back to initial work directory\n",
    "- Create “Temp” folder\n",
    "- Delete “Temp” folder "
   ]
  },
  {
   "cell_type": "code",
   "execution_count": 9,
   "metadata": {},
   "outputs": [
    {
     "name": "stdout",
     "output_type": "stream",
     "text": [
      "comp name: think\n",
      "arch: x86_64\n",
      "curr dir: /home/haskfp\n",
      "curr dir after chdir: /tmp\n",
      "files: ['.X0-lock', 'tmp-61a.xpi', 'unity_support_test.0', 'config-err-gxXb0L', 'dropbox-antifreeze-EQ2sNS']\n",
      "dirs: ['.ICE-unix', '.Test-unix', '.XIM-unix', '.X11-unix', 'systemd-private-9cab2f147f4e464dbc19d3d11c2b5f20-systemd-timesyncd.service-xX9CV1', 'gnome-software-P3BXCZ', '.font-unix', 'systemd-private-9cab2f147f4e464dbc19d3d11c2b5f20-rtkit-daemon.service-3rofLq', 'systemd-private-9cab2f147f4e464dbc19d3d11c2b5f20-colord.service-TJglVQ', 'Atom Crashes']\n",
      "temp was created\n"
     ]
    }
   ],
   "source": [
    "import os\n",
    "\n",
    "uname = os.uname()\n",
    "print(f\"comp name: {uname.nodename}\")\n",
    "print(f\"arch: {uname.machine}\")\n",
    "\n",
    "orig_dir = os.getcwd()\n",
    "print(f\"curr dir: {os.getcwd()}\")\n",
    "os.chdir(\"/tmp\")\n",
    "print(f\"curr dir after chdir: {os.getcwd()}\")\n",
    "\n",
    "files = []\n",
    "dirs = []\n",
    "for f in os.listdir():\n",
    "    if os.path.isfile(f):            \n",
    "        files.append(f)\n",
    "    elif os.path.isdir(f):\n",
    "        dirs.append(f)\n",
    "        \n",
    "print(f\"files: {files}\")\n",
    "print(f\"dirs: {dirs}\")\n",
    "\n",
    "os.chdir(orig_dir)\n",
    "\n",
    "os.mkdir(\"temp\")\n",
    "if \"temp\" in os.listdir():\n",
    "    print(\"temp was created\")\n",
    "os.rmdir(\"temp\")"
   ]
  },
  {
   "cell_type": "code",
   "execution_count": 4,
   "metadata": {},
   "outputs": [
    {
     "name": "stdout",
     "output_type": "stream",
     "text": [
      "comp name: think\n",
      "arch: x86_64\n"
     ]
    }
   ],
   "source": [
    "import platform\n",
    "\n",
    "print(f\"comp name: {platform.uname().node}\")\n",
    "print(f\"arch: {platform.uname().machine}\")"
   ]
  },
  {
   "cell_type": "markdown",
   "metadata": {
    "collapsed": true
   },
   "source": [
    "# sys"
   ]
  },
  {
   "cell_type": "markdown",
   "metadata": {},
   "source": [
    "see more: https://docs.python.org/3.6/library/sys.html"
   ]
  },
  {
   "cell_type": "markdown",
   "metadata": {},
   "source": [
    "Create a module with name my_sys.py with next code implementation:\n",
    "- print computer platform\n",
    "- print installed computer python version\n",
    "- check and print size of string object – “abc” (getsizeof)\n",
    "- create list variable with number items from 0 to n\n",
    "- n variable should be received as script argument\n",
    "- n variable default value set as 11 in case of read sys argument fail (sys.argv)\n",
    "- use for loop and write every number item into system stdout flow (sys.stdout.write(\"some content\"))\n",
    "- do not use print statement for above task\n",
    "- in case of n%2 ==0 exit script execution with n code (sys.exit(some_code))"
   ]
  },
  {
   "cell_type": "code",
   "execution_count": null,
   "metadata": {
    "collapsed": true
   },
   "outputs": [],
   "source": [
    "# copy it to file (file.py or any other name) and run by\n",
    "# python file.py 5\n",
    "# in this case n = 5\n",
    "\n",
    "import sys\n",
    "\n",
    "print(sys.platform)\n",
    "print(sys.version)\n",
    "print(sys.getsizeof(\"abc\"))\n",
    "\n",
    "try:\n",
    "    n = int(sys.argv[1])\n",
    "except (IndexError, ValueError):\n",
    "    n = 11\n",
    "    \n",
    "sys.stdout.write(f\"got n: {n}\")\n",
    "\n",
    "lst = [i for i in range(n)]\n",
    "for i in lst:\n",
    "    sys.stdout.write(i)\n",
    "\n",
    "# map(lambda x: sys.stdout.write(i), lst)\n",
    "    \n",
    "if n % 2 == 0:\n",
    "    sys.exit(n)"
   ]
  },
  {
   "cell_type": "markdown",
   "metadata": {
    "collapsed": true
   },
   "source": [
    "# argparse"
   ]
  },
  {
   "cell_type": "markdown",
   "metadata": {},
   "source": [
    "see more: https://docs.python.org/3.6/library/argparse.html"
   ]
  },
  {
   "cell_type": "markdown",
   "metadata": {},
   "source": [
    "Create a module with name my_argparse.py with next code implementation:\n",
    "- Check that executable script __name__ variable is equal to “__main__”\n",
    "- If yes print next:\n",
    "- String 'Parcer initialized!' and variables: lang, keyword and value\n",
    "- 3 variables are script arguments\n",
    "- Set coding of the script as “utf8”\n",
    "- Import argparse module\n",
    "- Create parser object\n",
    "- Add parser argument with key “–l”, string type, “ua” as default value and add any help string for key. Store this value into lang variable\n",
    "- Add parser argument with key “–c”, string type, “word” as default value and add any help string for key. Store this value into keyword variable.\n",
    "- Add parser argument with key “–m”, integer type, “0” as default value and add any help string for key. Store this value into value variable. "
   ]
  },
  {
   "cell_type": "code",
   "execution_count": 4,
   "metadata": {},
   "outputs": [
    {
     "name": "stdout",
     "output_type": "stream",
     "text": [
      "Namespace(c='some useful word', l='another aowrd', m=42)\n",
      "m: 42\n",
      "c: some useful word\n",
      "l: another aowrd\n"
     ]
    }
   ],
   "source": [
    "import argparse\n",
    "parser = argparse.ArgumentParser(description=\"Process some args.\")\n",
    "parser.add_argument(\"-m\", type=int, default=0,\n",
    "                    help=\"an integer arg\")\n",
    "parser.add_argument(\"-c\", type=str, default=\"word\",\n",
    "                    help=\"some str arg\")\n",
    "parser.add_argument(\"-l\", type=str, default=\"ua\",\n",
    "                    help=\"some str arg\")\n",
    "\n",
    "# when use file, use the folowing\n",
    "# args = parser.parse_args()\n",
    "\n",
    "args = parser.parse_args([\"-m\", \"42\",\n",
    "                          \"-c\", \"some useful word\",\n",
    "                          \"-l\", \"another aowrd\"])\n",
    "\n",
    "print(args)\n",
    "print(f\"m: {args.m}\")\n",
    "print(f\"c: {args.c}\")\n",
    "print(f\"l: {args.l}\")"
   ]
  },
  {
   "cell_type": "markdown",
   "metadata": {
    "collapsed": true
   },
   "source": [
    "# shutil"
   ]
  },
  {
   "cell_type": "markdown",
   "metadata": {},
   "source": [
    "Create a module with name my_shutil.py with next code implementation:\n",
    "- Create “folder_zip’ in current working directory\n",
    "- Create 3 files with an types of data in “folder_zip”\n",
    "- Archive “folder_zip” contents into one zip file with name “my_zip”\n",
    "- Copy “my_zip” into one folder above current\n",
    "- Remove folder “folder_zip” from disk\n",
    "- Add user prompt for checking folder state\n",
    "- Unpack archive in current folder\n",
    "- Print disk usage of folder were archive were copied "
   ]
  },
  {
   "cell_type": "code",
   "execution_count": 66,
   "metadata": {},
   "outputs": [
    {
     "data": {
      "text/plain": [
       "usage(total=738248007680, used=91564195840, free=609159315456)"
      ]
     },
     "execution_count": 66,
     "metadata": {},
     "output_type": "execute_result"
    }
   ],
   "source": [
    "import shutil\n",
    "\n",
    "folder_name = \"folder_zip\"\n",
    "\n",
    "shutil.os.mkdir(folder_name)\n",
    "shutil.os.chdir(folder_name)\n",
    "\n",
    "for i in range(3):\n",
    "    with open(f\"some_file_{i}\", \"w\"):\n",
    "        pass\n",
    "    \n",
    "print(shutil.os.listdir())\n",
    "shutil.os.chdir(\"../\")\n",
    "\n",
    "shutil.make_archive(\"my_zip\", \"zip\", root_dir=folder_name)\n",
    "print(shutil.os.listdir())\n",
    "\n",
    "shutil.copy(\"my_zip.zip\", \"my_zip_copied.zip\")\n",
    "shutil.rmtree(folder_name)\n",
    "\n",
    "shutil.unpack_archive(filename=\"my_zip.zip\", extract_dir=folder_name)\n",
    "shutil.disk_usage(folder_name)"
   ]
  },
  {
   "cell_type": "markdown",
   "metadata": {
    "collapsed": true
   },
   "source": [
    "# time/datetime"
   ]
  },
  {
   "cell_type": "markdown",
   "metadata": {},
   "source": [
    "Create a module with name my_time.py with next code implementation:\n",
    "- Import time and datetime modules\n",
    "- After import statement set clock count for checking script execution time\n",
    "- Print current time in format 'Tue May 24 14:09:17 2016’\n",
    "- Print current time year\n",
    "- Print current time day and the year at the begining\n",
    "- Use time tuple convertion into string and create string line with next format '24 Mar 2015 12:14‘\n",
    "- Use time convertion from string into time tuple and create object from string '19 Sep. 2012 10:15'\n",
    "- Create datetime tuple with current day minus one day\n",
    "- Check the difference with timedelta\n",
    "- Print script execution time "
   ]
  },
  {
   "cell_type": "code",
   "execution_count": 78,
   "metadata": {},
   "outputs": [
    {
     "name": "stdout",
     "output_type": "stream",
     "text": [
      "clock: 206.383178\n",
      "Thu Jan 18 21:34:24 2018\n",
      "year: 2018\n",
      "year + day: 2018 18\n",
      "spec time: Mon Mar 24 12:14:00 2015\n",
      "from str: time.struct_time(tm_year=2012, tm_mon=9, tm_mday=19, tm_hour=10, tm_min=15, tm_sec=0, tm_wday=2, tm_yday=263, tm_isdst=-1)\n",
      "curr minus one: 2018-01-17 00:00:00\n",
      "diff: 1 day, 21:34:24.242056\n",
      "execution time: 0.005279064178466797\n",
      "clock: 206.389802\n"
     ]
    }
   ],
   "source": [
    "import time\n",
    "from datetime import datetime\n",
    "\n",
    "print(f\"clock: {time.clock()}\")\n",
    "t_start = time.time()\n",
    "\n",
    "n = time.localtime()\n",
    "print(time.asctime(n))\n",
    "\n",
    "print(f\"year: {n.tm_year}\")\n",
    "\n",
    "print(f'year + day: {time.strftime(\"%Y %d\", n)}')\n",
    "\n",
    "print(f\"spec time: {time.asctime((2015, 3, 24, 12, 14, 0, 0, 0, 0))}\")\n",
    "\n",
    "str_time = \"19 Sep. 2012 10:15\"\n",
    "print(f'from str: {time.strptime(str_time, \"%d %b. %Y %H:%M\")}')\n",
    "\n",
    "curr_minus_day = datetime(n.tm_year, n.tm_mon, n.tm_mday - 1)\n",
    "print(f\"curr minus one: {curr_minus_day}\")\n",
    "print(f\"diff: {datetime.now() - curr_minus_day}\")\n",
    "\n",
    "print(f\"execution time: {time.time() - t_start}\")\n",
    "print(f\"clock: {time.clock()}\")"
   ]
  },
  {
   "cell_type": "markdown",
   "metadata": {
    "collapsed": true
   },
   "source": [
    "# requests"
   ]
  },
  {
   "cell_type": "markdown",
   "metadata": {},
   "source": [
    "Create a module with name parse_news.py that will print all inner http links inside of page https://news.ycombinator.com/"
   ]
  },
  {
   "cell_type": "code",
   "execution_count": 79,
   "metadata": {},
   "outputs": [
    {
     "data": {
      "text/plain": [
       "{'results': [{'address_components': [{'long_name': '100',\n",
       "     'short_name': '100',\n",
       "     'types': ['street_number']},\n",
       "    {'long_name': 'Broadway', 'short_name': 'Broadway', 'types': ['route']},\n",
       "    {'long_name': 'Manhattan',\n",
       "     'short_name': 'Manhattan',\n",
       "     'types': ['political', 'sublocality', 'sublocality_level_1']},\n",
       "    {'long_name': 'New York',\n",
       "     'short_name': 'New York',\n",
       "     'types': ['locality', 'political']},\n",
       "    {'long_name': 'New York County',\n",
       "     'short_name': 'New York County',\n",
       "     'types': ['administrative_area_level_2', 'political']},\n",
       "    {'long_name': 'New York',\n",
       "     'short_name': 'NY',\n",
       "     'types': ['administrative_area_level_1', 'political']},\n",
       "    {'long_name': \"Estats Units d'Amèrica\",\n",
       "     'short_name': 'US',\n",
       "     'types': ['country', 'political']},\n",
       "    {'long_name': '10005', 'short_name': '10005', 'types': ['postal_code']}],\n",
       "   'formatted_address': \"100 Broadway, New York, NY 10005, Estats Units d'Amèrica\",\n",
       "   'geometry': {'location': {'lat': 40.7080457, 'lng': -74.01123989999999},\n",
       "    'location_type': 'ROOFTOP',\n",
       "    'viewport': {'northeast': {'lat': 40.7093946802915,\n",
       "      'lng': -74.0098909197085},\n",
       "     'southwest': {'lat': 40.7066967197085, 'lng': -74.0125888802915}}},\n",
       "   'place_id': 'ChIJywL_PBdawokR4bOmKjJY3QE',\n",
       "   'types': ['street_address']}],\n",
       " 'status': 'OK'}"
      ]
     },
     "execution_count": 79,
     "metadata": {},
     "output_type": "execute_result"
    }
   ],
   "source": [
    "import requests\n",
    "base_url = 'http://maps.googleapis.com/maps/api/geocode/json'\n",
    "my_params = {'address': '100 Broadway, New York, NY, U.S.A', \n",
    "             'language': 'ca'}\n",
    "\n",
    "response = requests.get(base_url, params=my_params)\n",
    "response.json()\n",
    "\n",
    "# def walk_dict(d):\n",
    "#     \"\"\"\n",
    "#     Return a new dict that\n",
    "#     has all k=v from nested dicts\n",
    "#     \"\"\"\n",
    "#     pass\n",
    "\n",
    "# walk_dict(response.json())"
   ]
  },
  {
   "cell_type": "code",
   "execution_count": null,
   "metadata": {
    "collapsed": true
   },
   "outputs": [],
   "source": [
    "import requests\n",
    "\n",
    "url = 'https://freepythontips.files.wordpress.com/2013/07/python_logo_notext.png'\n",
    "        \n",
    "# get filename\n",
    "# use request.get for specified url\n",
    "# check status code == 200\n",
    "# open filename with 'wb'\n",
    "# write content to file"
   ]
  },
  {
   "cell_type": "code",
   "execution_count": null,
   "metadata": {
    "collapsed": true
   },
   "outputs": [],
   "source": [
    "import requests\n",
    "response = requests.get(\"https://en.wikipedia.org/robots.txt\")\n",
    "txt = response.text\n",
    "print(txt)\n",
    "\n",
    "# remove all comments and save in file clean_robots.txt"
   ]
  },
  {
   "cell_type": "markdown",
   "metadata": {},
   "source": [
    "# Extra"
   ]
  },
  {
   "cell_type": "code",
   "execution_count": 80,
   "metadata": {},
   "outputs": [
    {
     "name": "stdout",
     "output_type": "stream",
     "text": [
      "local: 2018-01-18T11:45:40.229160-08:00\n",
      "timestamp: 1516304740\n",
      "2018-01-18 11:45:40 -08:00\n",
      "humanize default: just now\n",
      "humanize localized: 지금\n",
      "humanize localized ua: зараз\n"
     ]
    }
   ],
   "source": [
    "# arrow\n",
    "\n",
    "import arrow\n",
    "\n",
    "utc = arrow.utcnow()\n",
    "utc.shift(hours=1)\n",
    "\n",
    "local = utc.to('US/Pacific')\n",
    "print(f\"local: {local}\")\n",
    "print(f\"timestamp: {local.timestamp}\")\n",
    "\n",
    "print(local.format('YYYY-MM-DD HH:mm:ss ZZ'))\n",
    "\n",
    "print(f\"humanize default: {local.humanize()}\")\n",
    "\n",
    "print(f\"humanize localized: {local.humanize(locale='ko_kr')}\")\n",
    "print(f\"humanize localized ua: {local.humanize(locale='uk_ua')}\")\n",
    "\n",
    "# TASK\n",
    "# argparse + arrow:\n",
    "# get_time.py --type human|ymd|full --location ua|ru|en\n",
    "\n",
    "# get_time.py --type human --location ua"
   ]
  },
  {
   "cell_type": "code",
   "execution_count": null,
   "metadata": {
    "collapsed": true
   },
   "outputs": [],
   "source": [
    "# urllib/ urllib3\n",
    "\n",
    "# Thread safety.\n",
    "# Connection pooling.\n",
    "# Client-side SSL/TLS verification.\n",
    "# File uploads with multipart encoding.\n",
    "# Helpers for retrying requests and dealing with HTTP redirects.\n",
    "# Support for gzip and deflate encoding.\n",
    "# Proxy support for HTTP and SOCKS.\n",
    "# 100% test coverage.\n",
    "\n",
    "import urllib3\n",
    "http = urllib3.PoolManager()\n",
    "r = http.request('GET', 'http://httpbin.org/robots.txt')\n",
    "r.status\n",
    "\n",
    "r.data"
   ]
  },
  {
   "cell_type": "code",
   "execution_count": null,
   "metadata": {
    "collapsed": true
   },
   "outputs": [],
   "source": [
    "# wget\n",
    "\n",
    "import wget\n",
    "url = 'https://en.wikipedia.org/robots.txt'\n",
    "filename = wget.download(url)\n",
    "\n",
    "text = \"\"\n",
    "with open(filename, \"r\") as f:\n",
    "    text = f.read()\n",
    "    \n",
    "text = text.replace(\"%\", \"\")\n",
    "\n",
    "with open(\"clean_robots.txt\", \"w+\") as f:\n",
    "    f.write(text)\n",
    "\n",
    "# TASK\n",
    "# download text https://en.wikipedia.org/robots.txt\n",
    "# open and resave without '%' as clean_robots.txt"
   ]
  }
 ],
 "metadata": {
  "kernelspec": {
   "display_name": "Python 3",
   "language": "python",
   "name": "python3"
  },
  "language_info": {
   "codemirror_mode": {
    "name": "ipython",
    "version": 3
   },
   "file_extension": ".py",
   "mimetype": "text/x-python",
   "name": "python",
   "nbconvert_exporter": "python",
   "pygments_lexer": "ipython3",
   "version": "3.6.2"
  }
 },
 "nbformat": 4,
 "nbformat_minor": 2
}
