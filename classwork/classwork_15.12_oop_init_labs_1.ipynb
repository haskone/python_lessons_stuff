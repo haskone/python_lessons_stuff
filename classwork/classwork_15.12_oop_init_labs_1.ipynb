{
 "cells": [
  {
   "cell_type": "markdown",
   "metadata": {},
   "source": [
    "# Lab tasks"
   ]
  },
  {
   "cell_type": "code",
   "execution_count": 24,
   "metadata": {},
   "outputs": [
    {
     "name": "stdout",
     "output_type": "stream",
     "text": [
      "123\n"
     ]
    }
   ],
   "source": [
    "\n",
    "class A:\n",
    "    \n",
    "    class_attr_1 = \"some attr\"\n",
    "    \n",
    "    def __init__(self):\n",
    "        self._value = 123\n",
    "    \n",
    "    def ordinary(self, a, b):\n",
    "        return A.stat(a, b)\n",
    "    \n",
    "    @staticmethod\n",
    "    def stat(a, b):\n",
    "        return a + b\n",
    "    \n",
    "    @classmethod\n",
    "    def classmet(cls):\n",
    "        print(cls.class_attr_1)\n",
    "        \n",
    "    @property\n",
    "    def value(self):\n",
    "        return self._value\n",
    "    \n",
    "    @value.setter\n",
    "    def value(self, v):\n",
    "        if not isinstance(v, int):\n",
    "            raise ValueError(f\"{v} is not 'int'\")\n",
    "        self._value = v\n",
    "        \n",
    "a = A()\n",
    "# a.ordinary(1, 2)\n",
    "\n",
    "# A.classmet()\n",
    "\n",
    "# a.value = '123'\n",
    "# print(a.value)\n",
    "\n",
    "print(a._value)"
   ]
  },
  {
   "cell_type": "code",
   "execution_count": 35,
   "metadata": {},
   "outputs": [],
   "source": [
    "class Building:\n",
    "    \n",
    "    def __init__(self, material, color, number=0):\n",
    "        self.material = material\n",
    "        self.color = color\n",
    "        self.number = number\n",
    "        \n",
    "    def plus(self, number):\n",
    "        self.number += number\n",
    "        self.show()\n",
    "        \n",
    "    def minus(self, number):\n",
    "        self.number -= number\n",
    "        self.show()\n",
    "        \n",
    "    def show(self):\n",
    "        if self.number < 0:\n",
    "            print(\"out of stock\")\n",
    "        elif 0 < self.number < 100:\n",
    "            print(\"warehouse\")\n",
    "        else:\n",
    "            print(\"remote warehouse\")"
   ]
  },
  {
   "cell_type": "markdown",
   "metadata": {},
   "source": [
    "## Define the class \"Market\" based on class “Building”\n",
    "\n",
    "- Create class constructor with arguments - material, color, number (with default value - 0), store place and price\n",
    "\n",
    "- All attributes should be get from class Building except price\n",
    "\n",
    "- Create method \"plus\" for adding material quantity by some count with corresponding changing to number and place\n",
    "\n",
    "- Create object for white brick with 300 as initial quantity\n",
    "\n",
    "- Create object for brown plank with 20 as initial quantity\n",
    "\n",
    "- Print objects variables "
   ]
  },
  {
   "cell_type": "code",
   "execution_count": 63,
   "metadata": {},
   "outputs": [
    {
     "name": "stdout",
     "output_type": "stream",
     "text": [
      "current price: 100500\n",
      "remote warehouse\n",
      "None\n",
      "\n",
      "all attrs: ['__class__', '__delattr__', '__dict__', '__dir__', '__doc__', '__eq__', '__format__', '__ge__', '__getattribute__', '__gt__', '__hash__', '__init__', '__init_subclass__', '__le__', '__lt__', '__module__', '__ne__', '__new__', '__reduce__', '__reduce_ex__', '__repr__', '__setattr__', '__sizeof__', '__str__', '__subclasshook__', '__weakref__', 'color', 'material', 'minus', 'number', 'plus', 'price', 'show']\n"
     ]
    }
   ],
   "source": [
    "class Market(Building):\n",
    "    \n",
    "    def __init__(self, material, color, price, number=0):        \n",
    "        super().__init__(material, color, number)        \n",
    "        self.price = price\n",
    "        \n",
    "    def show(self):        \n",
    "        print(f\"current price: {self.price}\")\n",
    "        super().show()\n",
    "    \n",
    "    def __str__(self):\n",
    "        return f\"Market: {self.material} / {self.color} / {self.price} / {self.number}\"\n",
    "    \n",
    "    def __repr__(self):\n",
    "        return f\"Market: {self.material} / {self.color} / {self.price} / {self.number}\"\n",
    "    \n",
    "    \n",
    "m1 = Market(material=\"some mat\", color=\"green\", price=100500, number=125)\n",
    "m2 = Market(material=\"some another mat\", color=\"black\", price=10, number=15)\n",
    "\n",
    "print(m1.plus(252))\n",
    "print(f\"\\nall attrs: {dir(m1)}\")"
   ]
  },
  {
   "cell_type": "markdown",
   "metadata": {},
   "source": [
    "## Define the class \"MarketFactory\" based on class “Building”\n",
    "\n",
    "- Create class constructor with arguments - material, color, number (with default value - 0) and store place\n",
    "- All attributes should be get from class Building\n",
    "- Create factory in class Building that return list object with created:\n",
    "  - object for white brick with 100 as initial quantity\n",
    "  - object for brown plank with 10 as initial quantity "
   ]
  },
  {
   "cell_type": "code",
   "execution_count": 64,
   "metadata": {},
   "outputs": [
    {
     "name": "stdout",
     "output_type": "stream",
     "text": [
      "Market: some mat / green / 123 / 100\n",
      "Market: some mat / green / 123 / 23\n",
      "Market: some mat / green / 123 / 3\n"
     ]
    }
   ],
   "source": [
    "class MarketFactory(Market):\n",
    "    \n",
    "    def __init__(self, material, color, price):\n",
    "        super().__init__(material, color, price)\n",
    "        \n",
    "    def build(self, number):\n",
    "        return Market(material=self.material, color=self.color, price=self.price, number=number)\n",
    "    \n",
    "factory = MarketFactory('some mat', 'green', 123)\n",
    "\n",
    "print(factory.build(number=100))\n",
    "print(factory.build(number=23))\n",
    "print(factory.build(number=3))"
   ]
  },
  {
   "cell_type": "markdown",
   "metadata": {},
   "source": [
    "## Create static method in class Market that return list object with created:\n",
    "\n",
    "- object for white brick with 100 as initial quantity\n",
    "- object for brown plank with 10 as initial quantity"
   ]
  },
  {
   "cell_type": "code",
   "execution_count": 65,
   "metadata": {},
   "outputs": [
    {
     "data": {
      "text/plain": [
       "[Market: brick / white / 0 / 100,\n",
       " Market: brick / white / 0 / 100,\n",
       " Market: brick / white / 0 / 100,\n",
       " Market: brick / white / 0 / 100,\n",
       " Market: brick / white / 0 / 100,\n",
       " Market: brick / white / 0 / 100,\n",
       " Market: brick / white / 0 / 100,\n",
       " Market: brick / white / 0 / 100,\n",
       " Market: brick / white / 0 / 100,\n",
       " Market: brick / white / 0 / 100]"
      ]
     },
     "execution_count": 65,
     "metadata": {},
     "output_type": "execute_result"
    }
   ],
   "source": [
    "class MarketStatic(MarketFactory):\n",
    "    \n",
    "    def __init__(self):\n",
    "        super().__init__('material', 'color', 0)\n",
    "        \n",
    "    @staticmethod\n",
    "    def get_list_white_brick(count):\n",
    "        return [Market(material='brick', color='white', price=0, number=100) for _ in range(count)]\n",
    "\n",
    "\n",
    "MarketStatic.get_list_white_brick(10)"
   ]
  }
 ],
 "metadata": {
  "kernelspec": {
   "display_name": "Python 3",
   "language": "python",
   "name": "python3"
  },
  "language_info": {
   "codemirror_mode": {
    "name": "ipython",
    "version": 3
   },
   "file_extension": ".py",
   "mimetype": "text/x-python",
   "name": "python",
   "nbconvert_exporter": "python",
   "pygments_lexer": "ipython3",
   "version": "3.6.1"
  }
 },
 "nbformat": 4,
 "nbformat_minor": 2
}
