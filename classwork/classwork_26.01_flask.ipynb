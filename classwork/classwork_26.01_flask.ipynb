{
 "cells": [
  {
   "cell_type": "markdown",
   "metadata": {},
   "source": [
    "### Hello Word\n",
    "\n",
    "- get \\\n",
    "  - return \"Hello Word\"\n",
    "- get \\api\n",
    "  - return {\"json_key\": \"json_value\"}\n",
    "- get \\sessions\n",
    "  - return {\"users\": [\"some_user\", ...]}\n",
    "- post {\"user\": \"%some_user%\"}\n",
    "  - return {\"status\": \"user %some_user% added to session\"}\n",
    "  - or {\"status\": \"sessions list already contains %some_user%\"}\n",
    "- delete {\"user\": \"%some_user%\"}\n",
    "  - delete %some_user% from the sessions list"
   ]
  },
  {
   "cell_type": "code",
   "execution_count": null,
   "metadata": {},
   "outputs": [],
   "source": [
    "from flask import Flask, session\n",
    "from flask import jsonify\n",
    "from flask import request\n",
    "\n",
    "app = Flask(__name__)\n",
    "app.secret_key = 'A0Zr98j/3yX R~XHH!jmN]LWX/,?RT'\n",
    "\n",
    "@app.route('/')\n",
    "def index():\n",
    "    return 'Index Page'\n",
    "\n",
    "@app.route('/hello')\n",
    "def hello():\n",
    "    return 'Hello, World'\n",
    "\n",
    "@app.route('/json')\n",
    "def summary():\n",
    "    d = {\"key\": \"value\"}\n",
    "    return jsonify(d)\n",
    "\n",
    "@app.route('/user/<username>')\n",
    "def show_user_profile(username):    \n",
    "    return 'User %s' % username\n",
    "\n",
    "@app.route('/user')\n",
    "def show_usera_args():\n",
    "    user = request.args.get('username')\n",
    "    session[\"username\"] = user\n",
    "    return \"OK\"\n",
    "\n",
    "@app.route('/sessions')\n",
    "def get_sessions():\n",
    "    return str(session.get(\"username\", \"NOTHING\"))\n",
    "\n",
    "@app.route('/post_test', methods=[\"POST\"])\n",
    "def post_test():\n",
    "    return \"got: %s\" % request.form['key']\n",
    "\n",
    "@app.route('/delete_test/<username>', methods=[\"DELETE\"])\n",
    "def delete_test(username):\n",
    "    return \"got: %s\" % username  \n",
    "\n",
    "if __name__ == '__main__':\n",
    "    app.run()"
   ]
  }
 ],
 "metadata": {
  "kernelspec": {
   "display_name": "Python 3",
   "language": "python",
   "name": "python3"
  },
  "language_info": {
   "codemirror_mode": {
    "name": "ipython",
    "version": 3
   },
   "file_extension": ".py",
   "mimetype": "text/x-python",
   "name": "python",
   "nbconvert_exporter": "python",
   "pygments_lexer": "ipython3",
   "version": "3.6.1"
  }
 },
 "nbformat": 4,
 "nbformat_minor": 2
}
