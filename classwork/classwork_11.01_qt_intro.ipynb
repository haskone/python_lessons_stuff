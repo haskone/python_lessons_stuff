{
 "cells": [
  {
   "cell_type": "markdown",
   "metadata": {},
   "source": [
    "Recall: virtualenv, pip, modules, etc"
   ]
  },
  {
   "cell_type": "code",
   "execution_count": null,
   "metadata": {
    "collapsed": true
   },
   "outputs": [],
   "source": [
    "How to install: https://pypi.python.org/pypi/PyQt5\n",
    "\n",
    "QT overview\n",
    "\n",
    "Info: https://wiki.python.org/moin/PyQt/SomeExistingApplications\n",
    "\n",
    "examples: http://zetcode.com/gui/pyqt5/\n",
    "\n",
    "More examples: https://github.com/baoboa/pyqt5/tree/master/examples/\n",
    "\n",
    "Signals/Slots:\n",
    "\n",
    "http://doc.qt.io/qt-4.8/signalsandslots.html\n",
    "\n",
    "https://wiki.python.org/moin/PyQt/Sending%20Python%20values%20with%20signals%20and%20slots\n",
    "\n",
    "Project1 specifics:\n",
    "\n",
    "How to load *.ui file\n",
    "\n",
    "How to connect actions\n",
    "\n",
    "Required things: git (github), tests (pytests, cover main functions), use travis-ci for tests + requirements.txt\n",
    "\n",
    "travis-ci:\n",
    "https://docs.travis-ci.com/user/getting-started/\n",
    "https://docs.travis-ci.com/user/languages/python/\n",
    "\n",
    "How to test pyqt:\n",
    "http://johnnado.com/pyqt-qtest-example/"
   ]
  },
  {
   "cell_type": "code",
   "execution_count": null,
   "metadata": {
    "collapsed": true
   },
   "outputs": [],
   "source": [
    "# A minimal example for the project\n",
    "\n",
    "import sys\n",
    "from PyQt5 import uic\n",
    "from PyQt5.QtWidgets import QApplication, QMainWindow\n",
    "\n",
    "\n",
    "class Example(QMainWindow):\n",
    "    \n",
    "    def __init__(self):\n",
    "        super().__init__()\n",
    "        self.initUI()\n",
    "        \n",
    "        \n",
    "    def initUI(self):\n",
    "        self.statusBar().showMessage('Ready')\n",
    "        self.setGeometry(300, 300, 250, 150)\n",
    "        self.setWindowTitle('Statusbar')\n",
    "\n",
    "        self.ui = uic.loadUi('window.ui', self)\n",
    "        self.show()\n",
    "\n",
    "if __name__ == '__main__':\n",
    "    app = QApplication(sys.argv)\n",
    "    ex = Example()\n",
    "    print(dir(ex.ui))\n",
    "    sys.exit(app.exec_())"
   ]
  },
  {
   "cell_type": "code",
   "execution_count": null,
   "metadata": {
    "collapsed": true
   },
   "outputs": [],
   "source": [
    "# Signals/Slots example\n",
    "\n",
    "class Window(QWidget):\n",
    "\n",
    "    def __init__(self, parent = None):\n",
    "        QWidget.__init__(self, parent)\n",
    "        \n",
    "        button = QPushButton(self.tr(\"Click me\"))\n",
    "        self.resultLabel = QLabel(self.tr(\"...\"))\n",
    "        \n",
    "        self.connect(button, SIGNAL(\"clicked()\"), self.handleClick)\n",
    "        \n",
    "        layout = QVBoxLayout(self)\n",
    "        layout.addWidget(button)\n",
    "        layout.addWidget(self.resultLabel)\n",
    "    \n",
    "    def handleValue(self, value):\n",
    "        self.resultLabel.setText(repr(value))"
   ]
  },
  {
   "cell_type": "markdown",
   "metadata": {},
   "source": [
    "http://zetcode.com/gui/pyqt5/firstprograms/"
   ]
  },
  {
   "cell_type": "code",
   "execution_count": null,
   "metadata": {
    "collapsed": true
   },
   "outputs": [],
   "source": [
    "#!/usr/bin/python3\n",
    "# -*- coding: utf-8 -*-\n",
    "\n",
    "\"\"\"\n",
    "ZetCode PyQt5 tutorial \n",
    "\n",
    "In this example, we create a simple\n",
    "window in PyQt5.\n",
    "\n",
    "Author: Jan Bodnar\n",
    "Website: zetcode.com \n",
    "Last edited: August 2017\n",
    "\"\"\"\n",
    "\n",
    "import sys\n",
    "from PyQt5.QtWidgets import QApplication, QWidget\n",
    "\n",
    "if __name__ == '__main__':\n",
    "    \n",
    "    app = QApplication(sys.argv)\n",
    "\n",
    "    w = QWidget()\n",
    "    w.resize(250, 150)\n",
    "    w.move(300, 300)\n",
    "    w.setWindowTitle('Simple')\n",
    "    w.show()\n",
    "    \n",
    "    sys.exit(app.exec_())"
   ]
  },
  {
   "cell_type": "markdown",
   "metadata": {},
   "source": [
    "# Tasks"
   ]
  },
  {
   "cell_type": "markdown",
   "metadata": {},
   "source": [
    "### 1"
   ]
  },
  {
   "cell_type": "markdown",
   "metadata": {},
   "source": [
    "A window with two buttons: ok (create a new window (see QWidget example)), cancel (close the window)"
   ]
  },
  {
   "cell_type": "markdown",
   "metadata": {},
   "source": [
    "Add buttons to some Layout"
   ]
  },
  {
   "cell_type": "code",
   "execution_count": null,
   "metadata": {
    "collapsed": true
   },
   "outputs": [],
   "source": [
    "from PyQt5.QtWidgets import QVBoxLayout\n",
    "\n",
    "okButton = QPushButton(\"OK\")\n",
    "cancelButton = QPushButton(\"Cancel\")\n",
    "\n",
    "vbox = QVBoxLayout()\n",
    "vbox.addWidget(okButton)\n",
    "vbox.addWidget(cancelButton)\n",
    "\n",
    "self.setLayout(vbox)"
   ]
  },
  {
   "cell_type": "markdown",
   "metadata": {},
   "source": [
    "### 2"
   ]
  },
  {
   "cell_type": "markdown",
   "metadata": {},
   "source": [
    "A window with one button and two text fields. When click on button: filter one text based on words from another "
   ]
  },
  {
   "cell_type": "markdown",
   "metadata": {},
   "source": [
    "hints: QLineEdit, setText(\"sometext\"), text()"
   ]
  },
  {
   "cell_type": "markdown",
   "metadata": {},
   "source": [
    "Add label and additional layouts:\n",
    "    \n",
    "label: text\n",
    "label: text\n",
    "button"
   ]
  },
  {
   "cell_type": "markdown",
   "metadata": {},
   "source": [
    "Show \"Please, input some text in text fields\" window with \"OK\" button if any lineEdit is empty"
   ]
  },
  {
   "cell_type": "markdown",
   "metadata": {},
   "source": [
    "### 3"
   ]
  },
  {
   "cell_type": "markdown",
   "metadata": {},
   "source": [
    "A window with treeview with 3 fields + 3 text fields (which represent treeview's fields) + button (click on it and add a new row)"
   ]
  },
  {
   "cell_type": "markdown",
   "metadata": {},
   "source": [
    "# Solved"
   ]
  },
  {
   "cell_type": "code",
   "execution_count": null,
   "metadata": {},
   "outputs": [],
   "source": [
    "import sys\n",
    "from PyQt5.QtWidgets import (\n",
    "    QMainWindow, QPushButton,\n",
    "    QApplication, QWidget, QVBoxLayout)\n",
    "\n",
    "\n",
    "class Example(QWidget):\n",
    "    \n",
    "    def __init__(self):\n",
    "        super().__init__()\n",
    "        self.initUI()\n",
    "        \n",
    "    def initUI(self):\n",
    "        btn1 = QPushButton(\"Button 1\")\n",
    "        btn1.move(30, 50)\n",
    "\n",
    "        btn2 = QPushButton(\"Button 2\")\n",
    "        btn2.move(150, 50)\n",
    "      \n",
    "        btn1.clicked.connect(self.newEmptyWindow)        \n",
    "        btn2.clicked.connect(QApplication.instance().quit)\n",
    "        \n",
    "        self.setGeometry(300, 300, 290, 150)\n",
    "        self.setWindowTitle('Task1')\n",
    "\n",
    "        vbox = QVBoxLayout()\n",
    "        vbox.addWidget(btn1)\n",
    "        vbox.addWidget(btn2)\n",
    "\n",
    "        self.setLayout(vbox)\n",
    "        self.show()\n",
    "\n",
    "    def newEmptyWindow(self):\n",
    "        self.w = QWidget()\n",
    "        self.w.show() \n",
    "        \n",
    "if __name__ == '__main__':\n",
    "    app = QApplication(sys.argv)\n",
    "    ex1 = Example()\n",
    "    sys.exit(app.exec_())"
   ]
  },
  {
   "cell_type": "markdown",
   "metadata": {},
   "source": [
    "### signal/slot with 2 windows"
   ]
  },
  {
   "cell_type": "code",
   "execution_count": null,
   "metadata": {},
   "outputs": [],
   "source": [
    "import sys\n",
    "from PyQt5.QtWidgets import QMainWindow, QPushButton, QApplication\n",
    "\n",
    "\n",
    "class Example(QMainWindow):\n",
    "    \n",
    "    def __init__(self):\n",
    "        super().__init__()\n",
    "        self.initUI()\n",
    "        \n",
    "    def initUI(self):\n",
    "        btn1 = QPushButton(\"Button 1\", self)\n",
    "        btn1.move(30, 50)\n",
    "\n",
    "        btn2 = QPushButton(\"Button 2\", self)\n",
    "        btn2.move(150, 50)\n",
    "      \n",
    "        btn1.clicked.connect(self.buttonClicked)            \n",
    "        btn2.clicked.connect(self.buttonClicked)\n",
    "        \n",
    "        self.statusBar()\n",
    "        \n",
    "        self.setGeometry(300, 300, 290, 150)\n",
    "        self.setWindowTitle('Event sender')\n",
    "        self.show()\n",
    "        \n",
    "    def buttonClicked(self):\n",
    "        sender = self.sender()\n",
    "        self.statusBar().showMessage(f\"{sender.text()} was pressed\")\n",
    "        \n",
    "        \n",
    "if __name__ == '__main__':\n",
    "    app = QApplication(sys.argv)\n",
    "    ex1 = Example()\n",
    "    # create the same window again\n",
    "    ex2 = Example()\n",
    "    sys.exit(app.exec_())"
   ]
  }
 ],
 "metadata": {
  "kernelspec": {
   "display_name": "Python 3",
   "language": "python",
   "name": "python3"
  },
  "language_info": {
   "codemirror_mode": {
    "name": "ipython",
    "version": 3
   },
   "file_extension": ".py",
   "mimetype": "text/x-python",
   "name": "python",
   "nbconvert_exporter": "python",
   "pygments_lexer": "ipython3",
   "version": "3.6.1"
  }
 },
 "nbformat": 4,
 "nbformat_minor": 2
}
