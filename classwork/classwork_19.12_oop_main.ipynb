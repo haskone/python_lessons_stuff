{
 "cells": [
  {
   "cell_type": "markdown",
   "metadata": {},
   "source": [
    "# Base & Encapsulation"
   ]
  },
  {
   "cell_type": "markdown",
   "metadata": {},
   "source": [
    "### DictLike"
   ]
  },
  {
   "cell_type": "code",
   "execution_count": null,
   "metadata": {
    "collapsed": true
   },
   "outputs": [],
   "source": [
    "# Create a class which builds dict based on two arrays: keys and values\n",
    "# Hints: class definition, __init__\n",
    "\n",
    "class Container:\n",
    "    pass\n",
    "\n",
    "# Example:\n",
    "c = Container(values=[1,2,3], keys=[\"a\", \"b\", \"c\"])\n",
    "assert c.items == {\"a\": 1, \"b\": 2, \"c\": 3}"
   ]
  },
  {
   "cell_type": "code",
   "execution_count": null,
   "metadata": {
    "collapsed": true
   },
   "outputs": [],
   "source": [
    "# Also, see how to work with 'namedtuple'"
   ]
  },
  {
   "cell_type": "markdown",
   "metadata": {},
   "source": [
    "### DBData"
   ]
  },
  {
   "cell_type": "code",
   "execution_count": null,
   "metadata": {
    "collapsed": true
   },
   "outputs": [],
   "source": [
    "# 1\n",
    "# Create a class which contains data for db access.\n",
    "# Can accept url+user/pass OR all attributes explicitly.\n",
    "# Raise DBException (define it) in case of wrong type: int(convert 'port' to int)/str, username/password with spaces\n",
    "# 2\n",
    "# Make all args as properties (properties + setters) and all validation should be performed in setters\n",
    "\n",
    "# Hists: \"s\" in \"sdfdfg\" => True, \"1231\".isdigit() => True, \"12f31\".isdigit() => False,\n",
    "# 'None' for default args and then check: if some_var is None: or if some_var is not None:\n",
    "\n",
    "\n",
    "class DBData:\n",
    "    pass\n",
    "\n",
    "\n",
    "# Example:\n",
    "connector = DBData(user=\"nice_admin\", password=\"123\", host=\"localhost\", db=\"test\", port=3306)\n",
    "connector_short = DBData(url=\"mysql://localhost:3306/test\", user=\"nice_admin\", password=\"123\")"
   ]
  },
  {
   "cell_type": "code",
   "execution_count": 7,
   "metadata": {
    "collapsed": true
   },
   "outputs": [],
   "source": [
    "import unittest\n",
    " \n",
    "\n",
    "class TestDBData(unittest.TestCase):\n",
    " \n",
    "    def test_attrs_all(self):\n",
    "        connector = DBData(user=\"nice_admin\", password=\"123\", host=\"localhost\", db=\"test\", port=3306)\n",
    "        self._run_attr_asserts(connector)\n",
    "        \n",
    "    def test_attrs_url(self):\n",
    "        connector = DBData(url=\"mysql://localhost:3306/test\", user=\"nice_admin\", password=\"123\")\n",
    "        self._run_attr_asserts(connector)\n",
    " \n",
    "    def _run_attr_asserts(self, connector):\n",
    "        self.assertEqual(\"nice_admin\", connector.user)\n",
    "        self.assertEqual(\"123\", connector.password)\n",
    "        self.assertEqual(\"localhost\", connector.host)\n",
    "        self.assertEqual(\"db\", connector.db)\n",
    "        self.assertEqual(3306, connector.port)\n",
    "        \n",
    "    def test_user_space(self):\n",
    "        self.assertRaises(DBException, DBData, user=\"nice admin\", password=\"123 \", host=\"localhost\", db=\"test\", port=1)\n",
    "\n",
    "    def test_pass_space(self):\n",
    "        pass\n",
    "    \n",
    "    def test_port_not_int(self):\n",
    "        pass\n",
    "    \n",
    "    def test_host_empty(self):\n",
    "        pass\n",
    "    \n",
    "    def test_db_empty(self):\n",
    "        pass\n",
    "    \n",
    "# just specific args in order to run in jupyter\n",
    "unittest.main(argv=['first-arg-is-ignored'], exit=False)\n",
    "\n",
    "# in case of a separate file, just use\n",
    "# unittest.main()"
   ]
  },
  {
   "cell_type": "markdown",
   "metadata": {},
   "source": [
    "### Save as JSON"
   ]
  },
  {
   "cell_type": "code",
   "execution_count": 10,
   "metadata": {
    "collapsed": true
   },
   "outputs": [],
   "source": [
    "# JSON processing: https://docs.python.org/3/library/json.html\n",
    "import json\n",
    "\n",
    "json.dump?"
   ]
  },
  {
   "cell_type": "code",
   "execution_count": 11,
   "metadata": {
    "collapsed": true
   },
   "outputs": [],
   "source": [
    "import json\n",
    "\n",
    "data = {\"a\": 1}\n",
    "with open('data.json', 'w') as f:\n",
    "  json.dump(data, f)"
   ]
  },
  {
   "cell_type": "code",
   "execution_count": null,
   "metadata": {
    "collapsed": true
   },
   "outputs": [],
   "source": [
    "# Process only first level of input dicts\n",
    "# Use json.dumps, write to file\n",
    "\n",
    "# Example:\n",
    "\n",
    "jss = JSONSave({\"some_inital_key\": 123.1, \"another_initial\": [1,2,3]})\n",
    "\n",
    "jss.add({\"some_key\": [1,2,3], \"another\": \"\"})\n",
    "jss.add({\"some_another_key\": \"123\"})\n",
    "\n",
    "jss.save(filename=\"result.json\")"
   ]
  },
  {
   "cell_type": "markdown",
   "metadata": {},
   "source": [
    "### Adapter"
   ]
  },
  {
   "cell_type": "markdown",
   "metadata": {},
   "source": [
    "Adapters are all about altering the interface. Like using a cow when the system is expecting a duck"
   ]
  },
  {
   "cell_type": "code",
   "execution_count": null,
   "metadata": {
    "collapsed": true
   },
   "outputs": [],
   "source": [
    "# Wrapper for list with different methods:\n",
    "# - append -> add\n",
    "# - index -> indexof\n",
    "# - remove -> removebyind\n",
    "# - pop -> remove\n",
    "\n",
    "# Example:\n",
    "\n",
    "lst = WrappedList([1, 2, 3])\n",
    "lst.add(12)  # [1, 2, 3, 12]"
   ]
  },
  {
   "cell_type": "markdown",
   "metadata": {},
   "source": [
    "# Inheritance & Polymorphism"
   ]
  },
  {
   "cell_type": "markdown",
   "metadata": {},
   "source": [
    "### Observer"
   ]
  },
  {
   "cell_type": "markdown",
   "metadata": {},
   "source": [
    "The observer pattern is a software design pattern in which an object, called the subject, maintains a list of its dependents, called observers, and notifies them automatically of any state changes, usually by calling one of their methods."
   ]
  },
  {
   "cell_type": "code",
   "execution_count": null,
   "metadata": {
    "collapsed": true
   },
   "outputs": [],
   "source": [
    "# Implement the following Observer Pattern\n",
    "\n",
    "class Subject:\n",
    "\n",
    "    def __init__(self):\n",
    "        self._observers = []\n",
    "\n",
    "    def attach(self, observer):\n",
    "        pass\n",
    "\n",
    "    def detach(self, observer):\n",
    "        pass\n",
    "\n",
    "    def notify(self):\n",
    "        pass\n",
    "\n",
    "\n",
    "class Data(Subject):\n",
    "\n",
    "    def __init__(self, name=''):\n",
    "        pass\n",
    "\n",
    "    @property\n",
    "    def data(self):\n",
    "        pass\n",
    "\n",
    "    @data.setter\n",
    "    def data(self, value):\n",
    "        pass\n",
    "\n",
    "\n",
    "class HexViewer:\n",
    "\n",
    "    def update(self, subject):\n",
    "        print('HexViewer: Subject %s has data 0x%x' %\n",
    "              (subject.name, subject.data))\n",
    "\n",
    "\n",
    "class DecimalViewer:\n",
    "\n",
    "    def update(self, subject):\n",
    "        print('DecimalViewer: Subject %s has data %d' %\n",
    "              (subject.name, subject.data))"
   ]
  },
  {
   "cell_type": "code",
   "execution_count": null,
   "metadata": {
    "collapsed": true
   },
   "outputs": [],
   "source": [
    "data1 = Data('Data 1')\n",
    "data2 = Data('Data 2')\n",
    "\n",
    "view1 = DecimalViewer()\n",
    "view2 = HexViewer()\n",
    "\n",
    "data1.attach(view1)\n",
    "data1.attach(view2)\n",
    "data2.attach(view2)\n",
    "data2.attach(view1)\n",
    "\n",
    "# See how Viewers react to this\n",
    "print(\"Setting Data 1 = 10\")\n",
    "data1.data = 10\n",
    "print(\"\\nSetting Data 2 = 15\")\n",
    "data2.data = 15\n",
    "print(\"\\nSetting Data 1 = 3\")\n",
    "data1.data = 3\n",
    "print(\"\\nSetting Data 2 = 5\")\n",
    "data2.data = 5\n",
    "\n",
    "# And now without any reaction\n",
    "print(\"\\nDetach HexViewer from data1 and data2.\")\n",
    "data1.detach(view2)\n",
    "data2.detach(view2)\n",
    "print(\"\\nSetting Data 1 = 10\")\n",
    "data1.data = 10\n",
    "print(\"\\nSetting Data 2 = 15\")\n",
    "data2.data = 15"
   ]
  },
  {
   "cell_type": "markdown",
   "metadata": {},
   "source": [
    "### Chain of responsibility"
   ]
  },
  {
   "cell_type": "markdown",
   "metadata": {
    "collapsed": true
   },
   "source": [
    "This pattern gives us a way to treat a request using different methods, each one addressing a specific part of the request."
   ]
  },
  {
   "cell_type": "code",
   "execution_count": 2,
   "metadata": {
    "collapsed": true
   },
   "outputs": [],
   "source": [
    "class FilterApplier:\n",
    "\n",
    "    def __init__(self, filters=None):\n",
    "        self._filters = []\n",
    "        if filters is not None:\n",
    "            self._filters += filters\n",
    "\n",
    "    def filter(self, content):\n",
    "        for fil_obj in self._filters:\n",
    "            content = fil_obj.filter(content)\n",
    "        return content"
   ]
  },
  {
   "cell_type": "code",
   "execution_count": null,
   "metadata": {
    "collapsed": true
   },
   "outputs": [],
   "source": [
    "# Let's implement some filters for text content:\n",
    "# 1\n",
    "# Create a base class \"BaseFilter\" with method \"filter\" that takes\n",
    "# some string and return filtered string.\n",
    "# 2\n",
    "# Then, inherit it with three filters:\n",
    "# - AdsFilter: filter words \"not a spam\"/\"you win\"/\"winner\"\n",
    "# - PoliticsFilter: politics/tramp/russia/war\n",
    "# - CatFilter: cat/kitty/kitten\n",
    "# 3\n",
    "# Write unittests: provide a separate test for each filter\n",
    "# and one common test for FilterApplier\n",
    "...\n",
    "\n",
    "cat_filter = CatFilter(some_init_args)\n",
    "ads_filter = AdsFilter(some_init_args)\n",
    "politics_filter = PoliticsFilter(some_args)\n",
    "\n",
    "filter_obj = FilterApplier([\n",
    "                cat_filter,\n",
    "                ads_filter,\n",
    "                politics_filter])\n",
    "filtered_content = filter_obj.filter(content)"
   ]
  },
  {
   "cell_type": "markdown",
   "metadata": {},
   "source": [
    "### Figures Drawing"
   ]
  },
  {
   "cell_type": "code",
   "execution_count": null,
   "metadata": {
    "collapsed": true
   },
   "outputs": [],
   "source": [
    "# 1\n",
    "# Base class with symbol which will be used for drawing\n",
    "# 2\n",
    "# Implement Circle/Rrctangular/SquareTriangular with method draw()\n",
    "# 3\n",
    "# Implement scene with methods: append/pop/show\n",
    "\n",
    "# Hints: use just print() with appropriate formatting"
   ]
  }
 ],
 "metadata": {
  "kernelspec": {
   "display_name": "Python 3",
   "language": "python",
   "name": "python3"
  },
  "language_info": {
   "codemirror_mode": {
    "name": "ipython",
    "version": 3
   },
   "file_extension": ".py",
   "mimetype": "text/x-python",
   "name": "python",
   "nbconvert_exporter": "python",
   "pygments_lexer": "ipython3",
   "version": "3.6.1"
  }
 },
 "nbformat": 4,
 "nbformat_minor": 2
}
