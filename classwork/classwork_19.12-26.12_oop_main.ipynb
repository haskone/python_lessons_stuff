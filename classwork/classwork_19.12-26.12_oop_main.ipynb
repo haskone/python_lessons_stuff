{
 "cells": [
  {
   "cell_type": "markdown",
   "metadata": {},
   "source": [
    "# Base & Encapsulation"
   ]
  },
  {
   "cell_type": "markdown",
   "metadata": {},
   "source": [
    "### DictLike"
   ]
  },
  {
   "cell_type": "code",
   "execution_count": null,
   "metadata": {
    "collapsed": true
   },
   "outputs": [],
   "source": [
    "# Create a class which builds dict based on two arrays: keys and values\n",
    "# Hints: class definition, __init__, zip([1,2,3], [3,4,5]) => [(1,3), (2,4), (3,5)]\n",
    "\n",
    "class Container:\n",
    "    \n",
    "    def __init__(self, values, keys):\n",
    "        self.items = dict(list(zip(keys, values)))\n",
    "\n",
    "# Example:\n",
    "c = Container(values=[1,2,3], keys=[\"a\", \"b\", \"c\"])\n",
    "print(c.items)\n",
    "assert c.items == {\"a\": 1, \"b\": 2, \"c\": 3}"
   ]
  },
  {
   "cell_type": "code",
   "execution_count": null,
   "metadata": {
    "collapsed": true
   },
   "outputs": [],
   "source": [
    "# Also, see how to work with 'namedtuple'\n",
    "\n",
    "from collections import namedtuple\n",
    "\n",
    "Storage = namedtuple(\"Storage\", [\"values\", \"keys\"])\n",
    "\n",
    "# # the namedtuple above is the equivalent of the following code:\n",
    "# class Storage:\n",
    "#     def __init__(self, values, keys):\n",
    "#         self.values = values\n",
    "#         self.keys = keys\n",
    "\n",
    "# s = Storage(keys=[1,2,3], values=[3,4,5])\n",
    "s = Storage([1,2,3], [3,4,5])\n",
    "s.values"
   ]
  },
  {
   "cell_type": "markdown",
   "metadata": {},
   "source": [
    "### Properties/Setters"
   ]
  },
  {
   "cell_type": "code",
   "execution_count": 21,
   "metadata": {},
   "outputs": [
    {
     "ename": "SomeError",
     "evalue": "not int",
     "output_type": "error",
     "traceback": [
      "\u001b[0;31m---------------------------------------------------------------------------\u001b[0m",
      "\u001b[0;31mSomeError\u001b[0m                                 Traceback (most recent call last)",
      "\u001b[0;32m<ipython-input-21-48e07c609650>\u001b[0m in \u001b[0;36m<module>\u001b[0;34m()\u001b[0m\n\u001b[1;32m     26\u001b[0m \u001b[0;31m# Try to use here (instead of \"df\") some int value (123)\u001b[0m\u001b[0;34m\u001b[0m\u001b[0;34m\u001b[0m\u001b[0m\n\u001b[1;32m     27\u001b[0m \u001b[0;31m# and run this cell again. You will see no error\u001b[0m\u001b[0;34m\u001b[0m\u001b[0;34m\u001b[0m\u001b[0m\n\u001b[0;32m---> 28\u001b[0;31m \u001b[0ma_obj\u001b[0m\u001b[0;34m.\u001b[0m\u001b[0ma\u001b[0m \u001b[0;34m=\u001b[0m \u001b[0;34m\"df\"\u001b[0m\u001b[0;34m\u001b[0m\u001b[0m\n\u001b[0m",
      "\u001b[0;32m<ipython-input-21-48e07c609650>\u001b[0m in \u001b[0;36ma\u001b[0;34m(self, value)\u001b[0m\n\u001b[1;32m     19\u001b[0m     \u001b[0;32mdef\u001b[0m \u001b[0ma\u001b[0m\u001b[0;34m(\u001b[0m\u001b[0mself\u001b[0m\u001b[0;34m,\u001b[0m \u001b[0mvalue\u001b[0m\u001b[0;34m)\u001b[0m\u001b[0;34m:\u001b[0m\u001b[0;34m\u001b[0m\u001b[0m\n\u001b[1;32m     20\u001b[0m         \u001b[0;32mif\u001b[0m \u001b[0;32mnot\u001b[0m \u001b[0misinstance\u001b[0m\u001b[0;34m(\u001b[0m\u001b[0mvalue\u001b[0m\u001b[0;34m,\u001b[0m \u001b[0mint\u001b[0m\u001b[0;34m)\u001b[0m\u001b[0;34m:\u001b[0m\u001b[0;34m\u001b[0m\u001b[0m\n\u001b[0;32m---> 21\u001b[0;31m             \u001b[0;32mraise\u001b[0m \u001b[0mSomeError\u001b[0m\u001b[0;34m(\u001b[0m\u001b[0;34m\"not int\"\u001b[0m\u001b[0;34m)\u001b[0m\u001b[0;34m\u001b[0m\u001b[0m\n\u001b[0m\u001b[1;32m     22\u001b[0m         \u001b[0mself\u001b[0m\u001b[0;34m.\u001b[0m\u001b[0m_a\u001b[0m \u001b[0;34m=\u001b[0m \u001b[0mvalue\u001b[0m\u001b[0;34m\u001b[0m\u001b[0m\n\u001b[1;32m     23\u001b[0m \u001b[0;34m\u001b[0m\u001b[0m\n",
      "\u001b[0;31mSomeError\u001b[0m: not int"
     ]
    }
   ],
   "source": [
    "# example of simple property \"a\".\n",
    "# In setter-method you can see additional checking of\n",
    "# input value type and raising our custom exception (SomeError)\n",
    "# in case of not int value.\n",
    "\n",
    "class SomeError(Exception):\n",
    "    pass\n",
    "\n",
    "\n",
    "class A:\n",
    "    def __init__(self):\n",
    "        self._a = 1\n",
    "        \n",
    "    @property\n",
    "    def a(self):        \n",
    "        return self._a\n",
    "    \n",
    "    @a.setter\n",
    "    def a(self, value):\n",
    "        if not isinstance(value, int):\n",
    "            raise SomeError(\"not int\")\n",
    "        self._a = value\n",
    "\n",
    "a_obj = A()\n",
    "\n",
    "# Try to use here (instead of \"df\") some int value (123)\n",
    "# and run this cell again. You will see no error\n",
    "a_obj.a = \"df\""
   ]
  },
  {
   "cell_type": "markdown",
   "metadata": {},
   "source": [
    "### DBData"
   ]
  },
  {
   "cell_type": "code",
   "execution_count": null,
   "metadata": {
    "collapsed": true
   },
   "outputs": [],
   "source": [
    "# 1\n",
    "# Create a class which contains data for db access.\n",
    "# Can accept url+user/pass OR all attributes explicitly.\n",
    "# Raise DBException (define it) in case of wrong type:\n",
    "# - int(convert 'port' to int)/str,\n",
    "# - username/password/etc with spaces\n",
    "# 2\n",
    "# Make all args as properties (properties + setters)\n",
    "# and all validation should be performed in setters\n",
    "\n",
    "# Hists: \"s\" in \"sdfdfg\" => True, \"1231\".isdigit() => True,\n",
    "# \"12f31\".isdigit() => False,\n",
    "# 'None' for default args and then check:\n",
    "# if some_var is None: or if some_var is not None\n",
    "\n",
    "\n",
    "class DBData:\n",
    "    \n",
    "    def __init__(self, user, password, host=None,\n",
    "                 db=None, port=None, url=None):\n",
    "        self.user = user\n",
    "        self.password = password\n",
    "        if url is not None:\n",
    "            items = url.split('/')\n",
    "            self.db = items[-1]\n",
    "            \n",
    "            host_and_port = url.split('/')[2].split(':')\n",
    "            self.host = host_and_port[0]\n",
    "            self._port = host_and_port[1]\n",
    "        else:\n",
    "            self.db = db\n",
    "            self._port = port\n",
    "            self.host = host\n",
    "    \n",
    "    @property\n",
    "    def port(self):\n",
    "        return self._port\n",
    "    \n",
    "    @port.setter\n",
    "    def port(self, value):\n",
    "        # some check (or any other code) can be placed here\n",
    "        self._port = value\n",
    "\n",
    "# The example below shows how to get values from string like that:\n",
    "\n",
    "# In [7]: url=\"mysql://localhost:3306/test\"\n",
    "# In [8]: url.split('/')\n",
    "# Out[8]: ['mysql:', '', 'localhost:3306', 'test']\n",
    "\n",
    "# In [9]: url.split('/')[2].split(':')\n",
    "# Out[9]: ['localhost', '3306']\n",
    "\n",
    "# Example:\n",
    "connector = DBData(user=\"nice_admin\", password=\"123\",\n",
    "                   host=\"localhost\", db=\"test\", port=3306)\n",
    "\n",
    "connector_short = DBData(url=\"mysql://localhost:3306/test\",\n",
    "                         user=\"nice_admin\", password=\"123\")\n",
    "\n",
    "# You will se the same values in both cases\n",
    "print(connector.password, connector.user,\n",
    "      connector.host, connector.db, connector.port)\n",
    "print(connector_short.password, connector_short.user,\n",
    "      connector_short.host, connector_short.db, connector_short.port)"
   ]
  },
  {
   "cell_type": "code",
   "execution_count": 16,
   "metadata": {},
   "outputs": [
    {
     "data": {
      "text/plain": [
       "<__main__.DBData at 0x7fdc542427b8>"
      ]
     },
     "execution_count": 16,
     "metadata": {},
     "output_type": "execute_result"
    }
   ],
   "source": [
    "class DBException(Exception):\n",
    "    pass\n",
    "\n",
    "\n",
    "class DBData:\n",
    "    \n",
    "    def __init__(self, user, password, host=None,\n",
    "                 db=None, port=None, url=None):\n",
    "        self.user = user\n",
    "        self.password = password\n",
    "        if url is not None:\n",
    "            items = url.split('/')\n",
    "            self.db = items[-1]\n",
    "            \n",
    "            host_and_port = url.split('/')[2].split(':')\n",
    "            self.host = host_and_port[0]\n",
    "            self.port = host_and_port[1]\n",
    "        else:\n",
    "            self.db = db\n",
    "            self.port = port\n",
    "            self.host = host\n",
    "            \n",
    "        if \" \" in user:\n",
    "            raise DBException(f\"user has spaces: {user}\")\n",
    "        elif \" \" in password:\n",
    "            raise DBException(\"password has spaces\")\n",
    "        elif any([not isinstance(v, str) for v in [user, password,\n",
    "                                                   self.host,\n",
    "                                                   self.db]]):\n",
    "            raise DBException(f\"some arg is not str: host={self.host};\"\n",
    "                              f\"db={self.db};user={user}\")\n",
    "        elif (isinstance(self.port, str) and not self.port.isdigit()) or \\\n",
    "                not (isinstance(self.port, str) or isinstance(self.port, int)):            \n",
    "            raise DBException(f\"port {self.port} is not int\")\n",
    "\n",
    "# Try to change args and see different errors\n",
    "DBData(user=\"nice_admin\", password=\"123\",\n",
    "       host=\"localhost\", db=\"test\", port=\"123\")"
   ]
  },
  {
   "cell_type": "code",
   "execution_count": 19,
   "metadata": {
    "collapsed": true
   },
   "outputs": [],
   "source": [
    "class DBException(Exception):\n",
    "    pass\n",
    "\n",
    "\n",
    "class DBData:\n",
    "    \n",
    "    def __init__(self, user, password, host=None,\n",
    "                 db=None, port=None, url=None):\n",
    "        self.user = user\n",
    "        self._password = password\n",
    "        if url is not None:\n",
    "            items = url.split('/')\n",
    "            self.db = items[-1]\n",
    "            \n",
    "            host_and_port = url.split('/')[2].split(':')\n",
    "            self.host = host_and_port[0]\n",
    "            self._port = int(host_and_port[1])\n",
    "        else:\n",
    "            self.db = db\n",
    "            self._port = port\n",
    "            self.host = host\n",
    "            \n",
    "        if \" \" in user:\n",
    "            raise DBException(\"user has spaces\")\n",
    "        elif \" \" in password:\n",
    "            raise DBException(\"password has spaces\")\n",
    "        elif any([not isinstance(v, str) for v in [user, password,\n",
    "                                                   self.host,\n",
    "                                                   self.db]]):\n",
    "            raise DBException(\"some arg is not str\")\n",
    "        elif (isinstance(self.port, str) and not self.port.isdigit()) or \\\n",
    "                not (isinstance(self.port, str) or isinstance(self.port, int)): \n",
    "            raise DBException(\"port is not int\")\n",
    "\n",
    "    @property\n",
    "    def port(self):\n",
    "        return self._port\n",
    "    \n",
    "    @port.setter\n",
    "    def port(self, value):\n",
    "        if (isinstance(value, str) and\n",
    "                not value.isdigit()) or \\\n",
    "                    not isinstance(value, int):\n",
    "            raise DBException(\"port is not int\")\n",
    "        self._port = value\n",
    "        \n",
    "    @property\n",
    "    def password(self):\n",
    "        return self._password\n",
    "    \n",
    "    @password.setter\n",
    "    def password(self, value):\n",
    "        if not isinstance(value, str) or \\\n",
    "                \" \" in value:\n",
    "            raise DBException(\"password is not str or contains spaces\")\n",
    "        self._password = value\n",
    "        \n",
    "\n",
    "d = DBData(user=\"nice_admin\", password=\"123\",\n",
    "           host=\"localhost\", db=\"test\", port=3306)\n",
    "\n",
    "# # Try this and get error\n",
    "# d.port = \"somestr\"\n",
    "# d.password = 123\n",
    "d.password = \"123\""
   ]
  },
  {
   "cell_type": "code",
   "execution_count": 20,
   "metadata": {},
   "outputs": [
    {
     "name": "stderr",
     "output_type": "stream",
     "text": [
      ".......\n",
      "----------------------------------------------------------------------\n",
      "Ran 7 tests in 0.015s\n",
      "\n",
      "OK\n"
     ]
    },
    {
     "data": {
      "text/plain": [
       "<unittest.main.TestProgram at 0x7fdc54242438>"
      ]
     },
     "execution_count": 20,
     "metadata": {},
     "output_type": "execute_result"
    }
   ],
   "source": [
    "import unittest\n",
    " \n",
    "\n",
    "class TestDBData(unittest.TestCase):\n",
    " \n",
    "    def test_attrs_all(self):\n",
    "        connector = DBData(user=\"nice_admin\", password=\"123\", host=\"localhost\", db=\"test\", port=3306)\n",
    "        self._run_attr_asserts(connector)\n",
    "        \n",
    "    def test_attrs_url(self):\n",
    "        connector = DBData(url=\"mysql://localhost:3306/test\", user=\"nice_admin\", password=\"123\")\n",
    "        self._run_attr_asserts(connector)\n",
    " \n",
    "    def _run_attr_asserts(self, connector):\n",
    "        self.assertEqual(\"nice_admin\", connector.user)\n",
    "        self.assertEqual(\"123\", connector.password)\n",
    "        self.assertEqual(\"localhost\", connector.host)\n",
    "        self.assertEqual(\"test\", connector.db)\n",
    "        self.assertEqual(3306, connector.port)\n",
    "        \n",
    "    def test_user_space(self):\n",
    "        self.assertRaises(DBException, DBData, user=\"nice admin\",\n",
    "                          password=\"123 \", host=\"localhost\",\n",
    "                          db=\"test\", port=1)\n",
    "\n",
    "    def test_pass_space(self):\n",
    "        pass\n",
    "    \n",
    "    def test_port_not_int(self):\n",
    "        pass\n",
    "    \n",
    "    def test_host_empty(self):\n",
    "        pass\n",
    "    \n",
    "    def test_db_empty(self):\n",
    "        pass\n",
    "    \n",
    "# just specific args in order to run in jupyter\n",
    "unittest.main(argv=['first-arg-is-ignored'], exit=False)\n",
    "\n",
    "# in case of a separate file, just use\n",
    "# unittest.main()"
   ]
  },
  {
   "cell_type": "markdown",
   "metadata": {},
   "source": [
    "### Save as JSON"
   ]
  },
  {
   "cell_type": "code",
   "execution_count": 2,
   "metadata": {
    "collapsed": true
   },
   "outputs": [],
   "source": [
    "# JSON processing: https://docs.python.org/3/library/json.html\n",
    "import json\n",
    "\n",
    "json.dump?"
   ]
  },
  {
   "cell_type": "code",
   "execution_count": null,
   "metadata": {
    "collapsed": true
   },
   "outputs": [],
   "source": [
    "import json\n",
    "\n",
    "data = {\"a\": 1}\n",
    "with open('data.json', 'w') as f:\n",
    "    json.dump(data, f)"
   ]
  },
  {
   "cell_type": "code",
   "execution_count": 3,
   "metadata": {
    "collapsed": true
   },
   "outputs": [],
   "source": [
    "# Process only first level of input dicts\n",
    "# Use json.dumps, write to file\n",
    "\n",
    "# In [1]: a = {\"a\": 1}\n",
    "# In [2]: b = {\"b\": 2}\n",
    "# In [4]: a.update(b)\n",
    "# In [5]: a\n",
    "# Out[5]: {'a': 1, 'b': 2}\n",
    "\n",
    "class JSONSave:\n",
    "    \n",
    "    def __init__(self, init_dict):\n",
    "        self.data = init_dict\n",
    "    \n",
    "    def add(self, new_dict):\n",
    "        self.data.update(new_dict)\n",
    "    \n",
    "    def save(self, filename):\n",
    "        with open(filename, 'w') as f:\n",
    "            json.dump(self.data, f)\n",
    "\n",
    "# Example:\n",
    "some_value = {\"some_inital_key\": 123.1, \"another_initial\": [1,2,3]}\n",
    "\n",
    "jss = JSONSave(init_dict=some_value)\n",
    "jss.add({\"some_key\": [1,2,3], \"another\": \"\"})\n",
    "jss.add({\"some_another_key\": \"123\"})\n",
    "jss.save(filename=\"result.json\")"
   ]
  },
  {
   "cell_type": "markdown",
   "metadata": {},
   "source": [
    "### Adapter"
   ]
  },
  {
   "cell_type": "markdown",
   "metadata": {},
   "source": [
    "Adapters are all about altering the interface. Like using a cow when the system is expecting a duck"
   ]
  },
  {
   "cell_type": "code",
   "execution_count": 5,
   "metadata": {
    "collapsed": true
   },
   "outputs": [],
   "source": [
    "# Wrapper for list with different methods:\n",
    "# - append -> add\n",
    "# - index -> indexof\n",
    "# - remove -> remove_by_ind\n",
    "# - pop -> remove_last\n",
    "# - __str__\n",
    "\n",
    "class WrappedList:\n",
    "    \n",
    "    def __init__(self, init_lst):\n",
    "        self.lst = init_lst\n",
    "    \n",
    "    def add(self, item):\n",
    "        self.lst.append(item)\n",
    "        \n",
    "    def indexof(self, item):\n",
    "        return self.lst.index(item)\n",
    "    \n",
    "    def remove_by_ind(self, index):\n",
    "        return self.lst.pop(index)\n",
    "    \n",
    "    def remove_last(self):\n",
    "        return self.lst.pop()\n",
    "    \n",
    "    def __str__(self):\n",
    "        return str(self.lst)\n",
    "\n",
    "# Example:\n",
    "wlst = WrappedList([1, 2, 3])\n",
    "wlst.add(12)  # [1, 2, 3, 12]"
   ]
  },
  {
   "cell_type": "code",
   "execution_count": 7,
   "metadata": {},
   "outputs": [
    {
     "name": "stderr",
     "output_type": "stream",
     "text": [
      ".....\n",
      "----------------------------------------------------------------------\n",
      "Ran 5 tests in 0.009s\n",
      "\n",
      "OK\n"
     ]
    },
    {
     "data": {
      "text/plain": [
       "<unittest.main.TestProgram at 0x7ff59c087dd8>"
      ]
     },
     "execution_count": 7,
     "metadata": {},
     "output_type": "execute_result"
    }
   ],
   "source": [
    "# Tests\n",
    "import unittest\n",
    " \n",
    "\n",
    "class TestWrappedList(unittest.TestCase):\n",
    " \n",
    "    def setUp(self):\n",
    "        \"\"\"\n",
    "        A special method that\n",
    "        runs before every test_* method\n",
    "        \"\"\"\n",
    "        self.wlst = WrappedList([345, 3354, -100500])\n",
    "        \n",
    "    def test_add(self):\n",
    "        prev_wlst = self.wlst.lst[:]\n",
    "        new_item = 4\n",
    "\n",
    "        self.wlst.add(new_item)\n",
    "        self.assertEqual(prev_wlst + [new_item], self.wlst.lst)\n",
    "        \n",
    "    def test_indexof(self):\n",
    "        self.assertEqual(2, self.wlst.indexof(-100500))\n",
    "    \n",
    "    def test_removebyind(self):\n",
    "        prev_wlst = self.wlst.lst[:]\n",
    "        remove_index = 1\n",
    "        \n",
    "        removed_item = self.wlst.remove_by_ind(remove_index)\n",
    "        \n",
    "        self.assertEqual(prev_wlst[remove_index], removed_item)\n",
    "        self.assertEqual(prev_wlst[0:remove_index] +\n",
    "                         prev_wlst[remove_index + 1:],\n",
    "                         self.wlst.lst)\n",
    "    \n",
    "    def test_removelast(self):\n",
    "        prev_wlst = self.wlst.lst[:]    \n",
    "        removed_item = self.wlst.remove_last()\n",
    "    \n",
    "        self.assertEqual(prev_wlst[:-1], self.wlst.lst)\n",
    "        self.assertEqual(prev_wlst[-1], removed_item)\n",
    "    \n",
    "    def test_str(self):\n",
    "        arr = self.wlst.lst\n",
    "        self.assertEqual(str(arr), str(self.wlst))\n",
    "        \n",
    "        \n",
    "unittest.main(argv=['first-arg-is-ignored'], exit=False)"
   ]
  },
  {
   "cell_type": "markdown",
   "metadata": {},
   "source": [
    "# Inheritance & Polymorphism"
   ]
  },
  {
   "cell_type": "markdown",
   "metadata": {},
   "source": [
    "### Observer"
   ]
  },
  {
   "cell_type": "markdown",
   "metadata": {},
   "source": [
    "The observer pattern is a software design pattern in which an object, called the subject, maintains a list of its dependents, called observers, and notifies them automatically of any state changes, usually by calling one of their methods."
   ]
  },
  {
   "cell_type": "code",
   "execution_count": 18,
   "metadata": {
    "collapsed": true
   },
   "outputs": [],
   "source": [
    "# Implement the following Observer Pattern\n",
    "\n",
    "class Subject:\n",
    "\n",
    "    def __init__(self):\n",
    "        self._observers = []\n",
    "\n",
    "    def attach(self, observer):\n",
    "        self._observers.append(observer)\n",
    "\n",
    "    def detach(self, observer):\n",
    "        self._observers.remove(observer)\n",
    "\n",
    "    def notify(self):\n",
    "        for observer in self._observers:\n",
    "            observer.update(self)\n",
    "\n",
    "\n",
    "class Data(Subject):\n",
    "\n",
    "    def __init__(self, name):\n",
    "        super().__init__()\n",
    "        self._data = None\n",
    "        self.name = name\n",
    "\n",
    "    @property\n",
    "    def data(self):\n",
    "        return self._data\n",
    "\n",
    "    @data.setter\n",
    "    def data(self, value):\n",
    "        self._data = value\n",
    "        self.notify()\n",
    "\n",
    "\n",
    "class HexViewer:\n",
    "\n",
    "    def update(self, subject):\n",
    "        print('HexViewer: Subject %s has data 0x%x' %\n",
    "              (subject.name, subject.data))\n",
    "\n",
    "\n",
    "class DecimalViewer:\n",
    "\n",
    "    def update(self, subject):\n",
    "        print('DecimalViewer: Subject %s has data %d' %\n",
    "              (subject.name, subject.data))"
   ]
  },
  {
   "cell_type": "code",
   "execution_count": 19,
   "metadata": {},
   "outputs": [
    {
     "name": "stdout",
     "output_type": "stream",
     "text": [
      "Setting Data 1 = 10\n",
      "DecimalViewer: Subject Data 1 has data 10\n",
      "HexViewer: Subject Data 1 has data 0xa\n",
      "\n",
      "Setting Data 2 = 15\n",
      "HexViewer: Subject Data 2 has data 0xf\n",
      "DecimalViewer: Subject Data 2 has data 15\n",
      "\n",
      "Setting Data 1 = 3\n",
      "DecimalViewer: Subject Data 1 has data 3\n",
      "HexViewer: Subject Data 1 has data 0x3\n",
      "\n",
      "Setting Data 2 = 5\n",
      "HexViewer: Subject Data 2 has data 0x5\n",
      "DecimalViewer: Subject Data 2 has data 5\n",
      "\n",
      "Detach HexViewer from data1 and data2.\n",
      "\n",
      "Setting Data 1 = 10\n",
      "DecimalViewer: Subject Data 1 has data 10\n",
      "\n",
      "Setting Data 2 = 15\n",
      "DecimalViewer: Subject Data 2 has data 15\n"
     ]
    }
   ],
   "source": [
    "data1 = Data('Data 1')\n",
    "data2 = Data('Data 2')\n",
    "\n",
    "view1 = DecimalViewer()\n",
    "view2 = HexViewer()\n",
    "\n",
    "data1.attach(view1)\n",
    "data1.attach(view2)\n",
    "\n",
    "data2.attach(view2)\n",
    "data2.attach(view1)\n",
    "\n",
    "# See how Viewers react to this\n",
    "print(\"Setting Data 1 = 10\")\n",
    "data1.data = 10\n",
    "\n",
    "print(\"\\nSetting Data 2 = 15\")\n",
    "data2.data = 15\n",
    "print(\"\\nSetting Data 1 = 3\")\n",
    "data1.data = 3\n",
    "print(\"\\nSetting Data 2 = 5\")\n",
    "data2.data = 5\n",
    "\n",
    "# And now without any reaction\n",
    "print(\"\\nDetach HexViewer from data1 and data2.\")\n",
    "data1.detach(view2)\n",
    "data2.detach(view2)\n",
    "print(\"\\nSetting Data 1 = 10\")\n",
    "data1.data = 10\n",
    "print(\"\\nSetting Data 2 = 15\")\n",
    "data2.data = 15"
   ]
  },
  {
   "cell_type": "markdown",
   "metadata": {},
   "source": [
    "### Chain of responsibility"
   ]
  },
  {
   "cell_type": "markdown",
   "metadata": {
    "collapsed": true
   },
   "source": [
    "This pattern gives us a way to treat a request using different methods, each one addressing a specific part of the request."
   ]
  },
  {
   "cell_type": "code",
   "execution_count": null,
   "metadata": {
    "collapsed": true
   },
   "outputs": [],
   "source": [
    "class FilterApplier:\n",
    "\n",
    "    def __init__(self, filters=None):\n",
    "        self._filters = []\n",
    "        if filters is not None:\n",
    "            self._filters += filters\n",
    "\n",
    "    def filter(self, content):\n",
    "        for fil_obj in self._filters:\n",
    "            content = fil_obj.filter(content)\n",
    "        return content"
   ]
  },
  {
   "cell_type": "code",
   "execution_count": null,
   "metadata": {
    "collapsed": true
   },
   "outputs": [],
   "source": [
    "# Let's implement some filters for text content:\n",
    "# 1\n",
    "# Create a base class \"BaseFilter\" with method \"filter\" that takes\n",
    "# some string and return filtered string.\n",
    "# 2\n",
    "# Then, inherit it with three filters:\n",
    "# - AdsFilter: filter words \"not a spam\"/\"you win\"/\"winner\"\n",
    "# - PoliticsFilter: politics/tramp/russia/war\n",
    "# - CatFilter: cat/kitty/kitten\n",
    "# 3\n",
    "# Write unittests: provide a separate test for each filter\n",
    "# and one common test for FilterApplier\n",
    "...\n",
    "\n",
    "cat_filter = CatFilter(some_init_args)\n",
    "ads_filter = AdsFilter(some_init_args)\n",
    "politics_filter = PoliticsFilter(some_args)\n",
    "\n",
    "filter_obj = FilterApplier([\n",
    "                cat_filter,\n",
    "                ads_filter,\n",
    "                politics_filter])\n",
    "filtered_content = filter_obj.filter(content)"
   ]
  },
  {
   "cell_type": "markdown",
   "metadata": {},
   "source": [
    "### Figures Drawing"
   ]
  },
  {
   "cell_type": "code",
   "execution_count": null,
   "metadata": {
    "collapsed": true
   },
   "outputs": [],
   "source": [
    "# 1\n",
    "# Base class with symbol which will be used for drawing\n",
    "# 2\n",
    "# Implement Circle/Rectangular/SquareTriangular with method draw()\n",
    "# 3\n",
    "# Implement scene with methods: append/pop/show\n",
    "\n",
    "# Hints: use just print() with appropriate formatting"
   ]
  },
  {
   "cell_type": "markdown",
   "metadata": {},
   "source": [
    "### Context Manager"
   ]
  },
  {
   "cell_type": "code",
   "execution_count": null,
   "metadata": {
    "collapsed": true
   },
   "outputs": [],
   "source": [
    "# Context Manager, which search file by pattern and read all matched files\n",
    "    \n",
    "# Example:    \n",
    "# dir/\n",
    "#    some_file.txt\n",
    "#    doc.pdf\n",
    "#    imp.txt\n",
    "#    another_file.txt\n",
    "\n",
    "\n",
    "with SmartContextManager(\"file\") as f:\n",
    "    print(f.read())\n",
    "\n",
    "# Result: print data from both files (some_file.txt and another_file.txt)\n",
    "\n",
    "\n",
    "class SmartContextManager:\n",
    "    \n",
    "    def __init__(self, filepart):\n",
    "        ...\n",
    "    \n",
    "    def __enter__(self):\n",
    "        ...\n",
    "\n",
    "    def __exit__(self, *args):\n",
    "        ..."
   ]
  },
  {
   "cell_type": "markdown",
   "metadata": {},
   "source": [
    "### Loggers"
   ]
  },
  {
   "cell_type": "code",
   "execution_count": null,
   "metadata": {
    "collapsed": true
   },
   "outputs": [],
   "source": [
    "# Implement 3 loggers: Base Class and 3 Children: to file (specified),\n",
    "# to file (default in tmp dir), to console (print)\n",
    "# interface: info/debug/error/formatter(as a property)\n",
    "\n",
    "import logging\n",
    "import logging.handlers\n",
    "\n",
    "logger = logging.getLogger(\"custom\")\n",
    "logger.setLevel(logging.DEBUG)\n",
    "\n",
    "handler_file_def = logging.handlers.RotatingFileHandler\n",
    "handler_console = logging.StreamHandler\n",
    "formatter = logging.Formatter\n",
    "\n",
    "handler_console.setFormatter\n",
    "logger.addHandler\n",
    "\n",
    "logger.debug('This message should go to the log file')"
   ]
  },
  {
   "cell_type": "markdown",
   "metadata": {},
   "source": [
    "### Money class"
   ]
  },
  {
   "cell_type": "code",
   "execution_count": null,
   "metadata": {
    "collapsed": true
   },
   "outputs": [],
   "source": [
    "# Implement Money class:\n",
    "#    - store two variables: int + coins\n",
    "#    - implement +, -, ==, !=, correct precision, unitttest (with classes)\n",
    "\n",
    "# Hints: __add__, __sub__, __eq__, __ne__"
   ]
  },
  {
   "cell_type": "markdown",
   "metadata": {},
   "source": [
    "### Bank Account"
   ]
  },
  {
   "cell_type": "code",
   "execution_count": null,
   "metadata": {
    "collapsed": true
   },
   "outputs": [],
   "source": [
    "# Bank Account, which contains\n",
    "#    - Person/Address\n",
    "#    - ContactInfo object, which inherits from Person/Address, and contains unique id (see uuid)\n",
    "#    - Money object\n",
    "# implement:\n",
    "#    - str/repr\n",
    "#    - recharge/withdraw\n",
    "#    - implement logging for each operation (logging object as a arg in init)"
   ]
  }
 ],
 "metadata": {
  "kernelspec": {
   "display_name": "Python 3",
   "language": "python",
   "name": "python3"
  },
  "language_info": {
   "codemirror_mode": {
    "name": "ipython",
    "version": 3
   },
   "file_extension": ".py",
   "mimetype": "text/x-python",
   "name": "python",
   "nbconvert_exporter": "python",
   "pygments_lexer": "ipython3",
   "version": "3.6.2"
  }
 },
 "nbformat": 4,
 "nbformat_minor": 2
}
