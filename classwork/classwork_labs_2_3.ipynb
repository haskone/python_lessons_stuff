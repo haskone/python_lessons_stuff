{
 "cells": [
  {
   "cell_type": "code",
   "execution_count": 19,
   "metadata": {},
   "outputs": [],
   "source": [
    "import random\n",
    "\n",
    "gen_upper = lambda : [chr(random.randint(65, 90)) for _ in range(100)]\n",
    "\n",
    "upper_case = ''.join(gen_upper())\n",
    "lower_case = ''.join(gen_upper()).lower()\n",
    "numbers = ''.join([str(random.randint(0, 100)) for i in range(10)])\n",
    "\n",
    "numbers_with_map = ''.join(map(str, random.sample(range(100), 10)))\n",
    "\n",
    "result_string = upper_case + lower_case + numbers + numbers_with_map"
   ]
  },
  {
   "cell_type": "code",
   "execution_count": 20,
   "metadata": {},
   "outputs": [
    {
     "data": {
      "text/plain": [
       "'CNTWDOSGNCPSQNZWPBAJPKFHJCUBGPYQNLWSDBGCPPMDFEZTJIYJCFNAWVSUUVXSINQCLECBRPTOHQQGHCVUTNTIWPDGENYGBTOJjflmlttyospjlwyqgzgpxfkhwiqcmwlffnlxududmnrkzkeomzjiaiuyuecpgtmoltpswicrpkvbzzbyuvouflqejqpctqspqalo92257911346340231027177624686849576066'"
      ]
     },
     "execution_count": 20,
     "metadata": {},
     "output_type": "execute_result"
    }
   ],
   "source": [
    "result_string"
   ]
  },
  {
   "cell_type": "code",
   "execution_count": 26,
   "metadata": {},
   "outputs": [
    {
     "data": {
      "text/plain": [
       "'C'"
      ]
     },
     "execution_count": 26,
     "metadata": {},
     "output_type": "execute_result"
    }
   ],
   "source": [
    "result_string[0]"
   ]
  },
  {
   "cell_type": "code",
   "execution_count": 22,
   "metadata": {},
   "outputs": [
    {
     "name": "stdout",
     "output_type": "stream",
     "text": [
      "6\n",
      "6\n"
     ]
    }
   ],
   "source": [
    "print(result_string[-1])\n",
    "print(result_string[len(result_string) - 1])"
   ]
  },
  {
   "cell_type": "code",
   "execution_count": 25,
   "metadata": {},
   "outputs": [
    {
     "data": {
      "text/plain": [
       "'CNTWDOSG'"
      ]
     },
     "execution_count": 25,
     "metadata": {},
     "output_type": "execute_result"
    }
   ],
   "source": [
    "result_string[0:8]"
   ]
  },
  {
   "cell_type": "code",
   "execution_count": 30,
   "metadata": {},
   "outputs": [
    {
     "data": {
      "text/plain": [
       "'CWSCQWAKJBYLDCMEJJNVUSQEROQCTIDNBJltojyzxhqwfxunzojiupmtwrvzuuqqtpl2716017746966'"
      ]
     },
     "execution_count": 30,
     "metadata": {},
     "output_type": "execute_result"
    }
   ],
   "source": [
    "result_string[::3]"
   ]
  },
  {
   "cell_type": "code",
   "execution_count": 36,
   "metadata": {},
   "outputs": [
    {
     "data": {
      "text/plain": [
       "'p'"
      ]
     },
     "execution_count": 36,
     "metadata": {},
     "output_type": "execute_result"
    }
   ],
   "source": [
    "result_string[len(result_string) // 2]"
   ]
  },
  {
   "cell_type": "code",
   "execution_count": 37,
   "metadata": {},
   "outputs": [
    {
     "data": {
      "text/plain": [
       "'66067594868642677172013204364311975229olaqpsqtcpqjeqlfuovuybzzbvkprciwsptlomtgpceuyuiaijzmoekzkrnmduduxlnfflwmcqiwhkfxpgzgqywljpsoyttlmlfjJOTBGYNEGDPWITNTUVCHGQQHOTPRBCELCQNISXVUUSVWANFCJYIJTZEFDMPPCGBDSWLNQYPGBUCJHFKPJABPWZNQSPCNGSODWTNC'"
      ]
     },
     "execution_count": 37,
     "metadata": {},
     "output_type": "execute_result"
    }
   ],
   "source": [
    "result_string[::-1]"
   ]
  }
 ],
 "metadata": {
  "kernelspec": {
   "display_name": "Python 3",
   "language": "python",
   "name": "python3"
  },
  "language_info": {
   "codemirror_mode": {
    "name": "ipython",
    "version": 3
   },
   "file_extension": ".py",
   "mimetype": "text/x-python",
   "name": "python",
   "nbconvert_exporter": "python",
   "pygments_lexer": "ipython3",
   "version": "3.6.1"
  }
 },
 "nbformat": 4,
 "nbformat_minor": 2
}
